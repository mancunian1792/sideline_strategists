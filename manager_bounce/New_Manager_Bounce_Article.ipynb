{
 "cells": [
  {
   "cell_type": "markdown",
   "id": "eb560f41",
   "metadata": {},
   "source": [
    "# NEW MANAGER BOUNCE"
   ]
  },
  {
   "cell_type": "markdown",
   "id": "d4f5ca72",
   "metadata": {},
   "source": [
    "### Introduction\n",
    "\n",
    "As the football season has begun, amid debates about title contenders, relegation, and Champions League prospects, potential sackings are among  the major talking points. At times, an unexplainable phenomenon occurs when a new manager steps in mid-season to lead an underperforming team, often swiftly transforming their fortunes.This phenomenon also ignites curiosity among fans of opposing teams, regardless of their team's strength, performance, or league position. We are referring to—the New Manager Bounce.\n",
    "\n",
    "\n",
    "![meme](./pics/intro_meme.jpeg)"
   ]
  },
  {
   "cell_type": "markdown",
   "id": "f74b7178",
   "metadata": {},
   "source": [
    "We've witnessed instances in the recent past where Unai Emery’s Aston Villa defeated the mighty United, and Sean Dyche’s Everton overcame the then league leaders Arsenal in their first matches in charge of their respective clubs. These stand as classic cases of the New Manager Bounce.\n",
    "\n",
    "\n",
    "However, hidden underneath, there are many questions: Is it a real change due to clever tactics, or just a short burst from the players' emotions? Does a new manager make the players excited and better, or is it merely a statistical blip in the beautiful game. In this article, we've explored whether mid-season managerial changes consistently spark the New Manager Bounce across various leagues and time periods."
   ]
  },
  {
   "cell_type": "markdown",
   "id": "0ea3ce41",
   "metadata": {},
   "source": [
    "### Unveiling the Foundation of Our Analysis\n",
    "Before we delve deeper into the findings, it's important to outline the assumptions that underpin our analysis. These assumptions are vital to understand the scope and context of the data we've collected and the conclusions we'll draw.\n",
    "#### Comprehensive Data Collection\n",
    "We have gathered results and statistical data from FBref encompassing all games from the commencement of the 2017-2018 season up to the conclusion of the recently finished 2022-2023 season. This data covers matches from the prominent Big 5 European leagues.\n",
    "#### Timing of Manager Changes\n",
    "Our analysis focuses exclusively on manager changes that occurred in the middle of the season. This approach enables us to assess the potential impact of fresh managerial leadership within the context of an ongoing campaign.\n",
    "\n",
    "![sack_month](./pics/sacks_per_month.png)\n",
    "\n",
    "#### Managerial Tenure Classification\n",
    "In our examination, we classify a new manager as permanent if they lead the club for more than five games. Conversely, new managers overseeing fewer than five games are classified as interim managers. This differentiation aids in gauging the influence of managerial stability on the observed outcomes\n",
    "#### Defining the New Manager Bounce\n",
    "We consider a New Manager Bounce to have taken place when the preceding manager loses their final game, and the incoming manager either secures a draw or a victory in their debut game. Alternatively, if the outgoing manager's last match ends in a draw, and the new manager secures a win in their first game, we also identify this as a New Manager Bounce.\n",
    "This can be better illustrated in the following table,\n",
    "\n",
    "![table_bounce](./pics/bounce_definition.png)\n"
   ]
  },
  {
   "cell_type": "markdown",
   "id": "49fd69f4",
   "metadata": {},
   "source": [
    "From the data table above, we counted instances of New Manager Bounce occurrences and those where it did not manifest. Remarkably, out of the 328 instances of managerial changes, a New Manager Bounce occurred merely 150 times.\n",
    "\n",
    "![bounce_main](./pics/bounce_main.png)\n",
    "\n",
    "This prompts us to question: does this suggest that the New Manager Bounce effect is absent or negligible in its impact?\n",
    "To delve deeper into this analysis, we try to understand the distribution of results both before and after managerial changes in the 328 instances. The visual representation of this distribution shift reveals intriguing insights:\n",
    "\n",
    "![result_dist](./pics/bounce_result_distribution.png)\n",
    "\n",
    "The change in result distribution—highlighted by a reduction in losses and an increase in draws and wins—post the appointment of a mid-season manager is unmistakable. However, this shift is not universally observed across all instances. While not all managerial changes lead to a New Manager Bounce, the instances where a notable shift occurs suggest a net positive effect on team performance.\n",
    "\n",
    "#### EXPLORING VARIABLES: LEAGUE, MATCH LOCATION AND MANAGER TENURE.\n",
    "Having explored the presence of the New Manager Bounce, our focus now shifts to dissecting this effect by considering various related parameters, such as league, location, and manager tenure. \n",
    "###### League-Specific Impact: Bounce Variation\n",
    "Let's look at how the New Manager Bounce has occurred in the top 5 European leagues—Premier League, La Liga, Serie A, Bundesliga, and Ligue 1— in the last 6 years\n",
    "![league_bounce](./pics/bounce_by_league.png)\n",
    "\n",
    "The New Manager Bounce stands out more in Serie A and EPL, where it's nearly on par with no-bounce cases. Other leagues show slightly lower bounce frequencies. Notably, in all leagues, the bounce effect consistently falls short of surpassing no-bounce occurrences.\n",
    "##### Home v/s Away: Bounce Variation\n",
    "One key aspect we investigate is the influence of match location on the manifestation of the Manager Bounce effect. Do managerial changes have a distinct effect when a new manager takes charge at home versus away matches?\n",
    "\n",
    "![match_bounce](./pics/bounce_match_location.png)\n",
    "\n",
    "The New Manager Bounce demonstrates varying dynamics in home and away conditions. The bounce effect is stronger in home games compared to away games. However, in both cases, the bounce effect never exceeds instances without it.\n",
    "We now delve into the details on how the new manager bounce effect unfolds within each specific league in both home and away settings.\n",
    "![match_bounce_league](./pics/bounce_league_match_location.png)\n",
    "It's intriguing to note that LaLiga stands as the only league that aligns with the general trend: home games tend to exhibit a more pronounced bounce effect compared to away games, and the bounce effect consistently falls short of instances where no-bounce occurrences are observed.\n",
    "On a different note, an interesting parallel is evident between the EPL and Ligue 1. Both exhibit a shared pattern, where home games often feature instances of the bounce effect surpassing those of no-bounce, with EPL showing a more pronounced effect. Notably, the no-bounce instances in these leagues more than double those of the bounce.\n",
    "\n",
    "However, the landscape of Serie A and Bundesliga introduces a more complex dynamic. In these cases, the bounce effect either equals or surpasses the no-bounce effect in AWAY games. Adding to this intrigue, Bundesliga's HOME games demonstrate a fascinating scenario: the no-bounce effect is twice as prevalent as the bounce effect.\n",
    "##### Interim v/s Permanent Manager: Bounce Variation\n",
    "Turning our attention to the tenure of new managers, categorized as either Interim or Permanent, we sought to unravel any trends in the New Manager Bounce occurrence.\n",
    "\n",
    "![manager_type_bounce](./pics/bounce_by_manager_type.png)\n",
    "\n",
    "Interestingly, a familiar pattern emerges once again. Despite observing a near balance in instances for both Interim and Permanent Managers, the bounce effect consistently fails to outshine the instances of no-bounce occurrences.\n",
    "\n",
    "We now delve into the specifics of how the new manager bounce effect unfolds within each specific league, considering both Permanent and Interim managers\n",
    "\n",
    "![manager_type_league_bounce](./pics/bounce_league_manager_type.png)\n",
    "\n",
    "The findings bring out interesting variations. Aligning with the overarching trend, both Ligue 1 and Bundesliga exhibit a common pattern where both Permanent and Interim managers contribute to a higher no-bounce effect compared to the occurrences of Bounce. Notably, the no-bounce effect among interim managers in Ligue 1 is four times that of the bounce effect.\n",
    "\n",
    "Serie A presents an unusual scenario, with an equal occurrence of bounce and no-bounce instances among both Permanent and Interim managers.\n",
    "\n",
    "In La Liga, the New Manager Bounce effect is more significant for Interim managers compared to instances of no-bounce. However, in the EPL, this trend is reversed, with the New Manager Bounce effect being more prominent for Permanent managers than the instances of no-bounce.\n"
   ]
  },
  {
   "cell_type": "markdown",
   "id": "c7419048",
   "metadata": {},
   "source": [
    "### Conclusion\n",
    "In our quest to demystify the occurrence of  'New Manager Bounce', we took a close look into  the data spanning the last six years. While there were moments that sparkled with the promise of this phenomenon, the larger picture revealed a different story — the bounce was more exception than rule. It's essential to understand that our observations are retrospective, shedding light on past events without forecasting the future. Yet, certain patterns that emerged more frequently warrant a closer watch.\n",
    "#### Teams that caught our eye with a strong bounce effect:\n",
    "- Teams in La Liga, playing at home with an interim manager, showed a 70% bounce rate.\n",
    "- English Premier League teams, at home with a permanent manager, experienced a bounce 69.23% of the time, over 26 instances.\n",
    "- In the Bundesliga, teams playing away matches with a permanent manager displayed a 57.14% bounce rate from 21 instances.\n",
    "#### On the flip side, some patterns seemed less promising:\n",
    "- Ligue 1 teams, playing away with a permanent manager, managed a bounce only 30.43% of the time across 23 instances.\n",
    "- Bundesliga teams, while at home with a permanent manager, had a 34.62% bounce rate over 26 matches."
   ]
  },
  {
   "cell_type": "code",
   "execution_count": null,
   "id": "1c785c2e",
   "metadata": {},
   "outputs": [],
   "source": []
  }
 ],
 "metadata": {
  "kernelspec": {
   "display_name": "Python 3 (ipykernel)",
   "language": "python",
   "name": "python3"
  },
  "language_info": {
   "codemirror_mode": {
    "name": "ipython",
    "version": 3
   },
   "file_extension": ".py",
   "mimetype": "text/x-python",
   "name": "python",
   "nbconvert_exporter": "python",
   "pygments_lexer": "ipython3",
   "version": "3.8.5"
  }
 },
 "nbformat": 4,
 "nbformat_minor": 5
}
