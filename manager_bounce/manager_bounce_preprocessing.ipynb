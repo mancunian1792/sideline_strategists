{
 "cells": [
  {
   "cell_type": "code",
   "execution_count": 1,
   "metadata": {
    "id": "IrthRtypsJz_"
   },
   "outputs": [],
   "source": [
    "import pandas as pd\n",
    "from tqdm import tqdm\n",
    "import warnings\n",
    "warnings.filterwarnings(\"ignore\")\n",
    "import seaborn as sns\n",
    "import matplotlib.pyplot as plt"
   ]
  },
  {
   "cell_type": "code",
   "execution_count": 2,
   "metadata": {},
   "outputs": [],
   "source": [
    "DATA_FOLDER = './data/'"
   ]
  },
  {
   "cell_type": "code",
   "execution_count": 3,
   "metadata": {
    "id": "MzAu6v15sW2g"
   },
   "outputs": [],
   "source": [
    "six_years_stat = pd.read_csv(DATA_FOLDER + 'big5_last_6_years_result_latest.csv')\n",
    "manager_info = pd.read_csv(DATA_FOLDER + 'manager_df_full_latest.csv')"
   ]
  },
  {
   "cell_type": "code",
   "execution_count": 4,
   "metadata": {
    "id": "kIkcYQ45sdzc"
   },
   "outputs": [],
   "source": [
    "# Remove matches that haven't been played yet (rescheduled to a later date)\n",
    "six_years_stat = six_years_stat[six_years_stat.match_report_url.isna()!=True]\n",
    "manager_info = manager_info[manager_info.url.isna()!=True]"
   ]
  },
  {
   "cell_type": "code",
   "execution_count": 5,
   "metadata": {
    "id": "aqjE-5Grsfdb"
   },
   "outputs": [],
   "source": [
    "# Join the dataframes\n",
    "six_year_stats_merged = pd.merge(six_years_stat, manager_info, left_on = 'match_report_url', right_on='url', how='inner')\n",
    "six_year_stats_merged = six_year_stats_merged[(six_year_stats_merged.home_manager.isna()!=True) & (six_year_stats_merged.away_manager.isna()!=True)]"
   ]
  },
  {
   "cell_type": "code",
   "execution_count": 6,
   "metadata": {
    "id": "rPRbd0mmtFrM"
   },
   "outputs": [],
   "source": [
    "six_year_stats_merged.to_csv('merged_manager_stats_last_6_years.csv', index=False)"
   ]
  },
  {
   "cell_type": "code",
   "execution_count": 7,
   "metadata": {
    "id": "SQT_vc6Q8_Hl"
   },
   "outputs": [],
   "source": [
    "def determine_result(score):\n",
    "  emDash = '–'\n",
    "  scores = score.strip().split(emDash)\n",
    "  scores = [int(s.strip().replace(' ', '')) for s in scores]\n",
    "  if scores[0] > scores[1]:\n",
    "    return \"HOME\"\n",
    "  elif scores[0] < scores[1]:\n",
    "    return \"AWAY\"\n",
    "  return \"DRAW\""
   ]
  },
  {
   "cell_type": "code",
   "execution_count": 8,
   "metadata": {
    "id": "OabP6z9tttRk"
   },
   "outputs": [],
   "source": [
    "six_year_stats_merged['date'] = pd.to_datetime(six_year_stats_merged['date'])\n",
    "six_year_stats_merged['result'] = six_year_stats_merged['score'].map(determine_result)"
   ]
  },
  {
   "cell_type": "code",
   "execution_count": 9,
   "metadata": {},
   "outputs": [
    {
     "data": {
      "text/plain": [
       "Timestamp('2017-08-04 00:00:00')"
      ]
     },
     "execution_count": 9,
     "metadata": {},
     "output_type": "execute_result"
    }
   ],
   "source": [
    "six_year_stats_merged['date'].min()"
   ]
  },
  {
   "cell_type": "code",
   "execution_count": 10,
   "metadata": {
    "id": "25uE2zEE0Ows"
   },
   "outputs": [],
   "source": [
    "six_year_stats_merged['xg_delta'] = six_year_stats_merged['home_xg'] - six_year_stats_merged['away_xg']\n",
    "six_year_stats_merged[\"year\"] = six_year_stats_merged[\"year\"].apply(lambda x: \"CURRENT\" if pd.isna(x) or x == '' else x)"
   ]
  },
  {
   "cell_type": "code",
   "execution_count": 11,
   "metadata": {
    "id": "wHI374mPhljS"
   },
   "outputs": [],
   "source": [
    "all_managers = list(set(six_year_stats_merged['home_manager']).union(set(six_year_stats_merged['away_manager'])))\n",
    "all_teams = list(set(six_year_stats_merged['home_team']).union(set(six_year_stats_merged['away_team'])))\n",
    "all_league = six_year_stats_merged['league'].unique()"
   ]
  },
  {
   "cell_type": "code",
   "execution_count": 12,
   "metadata": {
    "id": "Na73agiOO5VH"
   },
   "outputs": [],
   "source": [
    "def find_manager_for_a_match(row, team_name):\n",
    "  if row['home_team'] == team_name:\n",
    "    return row['home_manager']\n",
    "  elif row['away_team'] == team_name:\n",
    "    return row['away_manager']\n",
    "  return None"
   ]
  },
  {
   "cell_type": "code",
   "execution_count": 13,
   "metadata": {
    "id": "rsDj19R-x2YO"
   },
   "outputs": [],
   "source": [
    "def find_if_there_is_a_change_in_manager(df, team_name, interim_short_change_threshold = 3):\n",
    "  matches = df[(df.home_team == team_name) | (df.away_team == team_name)]\n",
    "  matches = matches.sort_values([\"date\"], ascending=True).reset_index(drop=True)\n",
    "  matches['manager'] = matches.apply(lambda x: find_manager_for_a_match(x, team_name), axis=1)\n",
    "  current_manager = find_manager_for_a_match(matches.iloc[0], team_name)\n",
    "  sack = [False]\n",
    "  midseason_sack = [False]\n",
    "  for index, row in matches[1:].iterrows():\n",
    "    manager_for_the_game = row['manager']\n",
    "    if manager_for_the_game!=current_manager:\n",
    "      next_threshold_matches = matches.iloc[index: index+interim_short_change_threshold]\n",
    "      next_threshold_matches['manager'] = next_threshold_matches.apply(lambda x: find_manager_for_a_match(x, team_name), axis=1)\n",
    "      if current_manager not in list(next_threshold_matches['manager'].unique()):\n",
    "        sack.append(True)\n",
    "        if (row['date'].month!=8) : # Check for pandemic season.\n",
    "          if (row['date'].month==9) and (row['date'].year == 2020):\n",
    "            midseason_sack.append(False)\n",
    "          else:\n",
    "            midseason_sack.append(True)\n",
    "        else:\n",
    "          midseason_sack.append(False)\n",
    "        current_manager = manager_for_the_game\n",
    "      else:\n",
    "        sack.append(False)\n",
    "        midseason_sack.append(False)\n",
    "    else:\n",
    "      sack.append(False)\n",
    "      midseason_sack.append(False)\n",
    "  matches[\"is_new_manager\"] = sack\n",
    "  matches[\"is_mid_season_sack\"] = midseason_sack\n",
    "  return matches\n"
   ]
  },
  {
   "cell_type": "code",
   "execution_count": 14,
   "metadata": {
    "colab": {
     "base_uri": "https://localhost:8080/"
    },
    "id": "858ZrzYeQm-S",
    "outputId": "7b472cc9-e391-427e-c9af-67a99dc319e0"
   },
   "outputs": [
    {
     "name": "stderr",
     "output_type": "stream",
     "text": [
      "100%|█████████████████████████████████████████| 141/141 [00:02<00:00, 55.96it/s]\n"
     ]
    }
   ],
   "source": [
    "team_timeline = {}\n",
    "for team in tqdm(all_teams):\n",
    "  team_timeline[team] = find_if_there_is_a_change_in_manager(six_year_stats_merged, team)"
   ]
  },
  {
   "cell_type": "code",
   "execution_count": 15,
   "metadata": {
    "colab": {
     "base_uri": "https://localhost:8080/"
    },
    "id": "CDQTz25lhE5q",
    "outputId": "589609a0-6dcd-44fd-93a4-23ec3e20c07b"
   },
   "outputs": [
    {
     "name": "stderr",
     "output_type": "stream",
     "text": [
      "100%|█████████████████████████████████████████| 384/384 [00:03<00:00, 97.58it/s]\n"
     ]
    }
   ],
   "source": [
    "manager_timeline = []\n",
    "for mgr in tqdm(all_managers):\n",
    "  home_matches = six_year_stats_merged[six_year_stats_merged.home_manager==mgr]\n",
    "  away_matches = six_year_stats_merged[six_year_stats_merged.away_manager==mgr]\n",
    "  teams_represented = set(home_matches['home_team']).union(set(away_matches['away_team']))\n",
    "  for team in list(teams_represented):\n",
    "    home_matches_team = home_matches[home_matches.home_team == team]\n",
    "    away_matches_team = away_matches[away_matches.away_team == team]\n",
    "    home_results= home_matches_team['result'].value_counts()\n",
    "    away_results = away_matches_team['result'].value_counts()\n",
    "    avg_home_xg_created = home_matches_team.groupby(['result'])['home_xg'].mean()\n",
    "    avg_home_xg_faced = home_matches_team.groupby(['result'])['away_xg'].mean()\n",
    "    avg_away_xg_faced = away_matches_team.groupby(['result'])['home_xg'].mean()\n",
    "    avg_away_xg_created = away_matches_team.groupby(['result'])['away_xg'].mean()\n",
    "    median_home_xg_created = home_matches_team.groupby(['result'])['home_xg'].median()\n",
    "    median_home_xg_faced = home_matches_team.groupby(['result'])['away_xg'].median()\n",
    "    median_away_xg_faced = away_matches_team.groupby(['result'])['home_xg'].median()\n",
    "    median_away_xg_created = away_matches_team.groupby(['result'])['away_xg'].median()\n",
    "\n",
    "\n",
    "    manager_timeline.append({\n",
    "        \"name\": mgr,\n",
    "        \"team\": team,\n",
    "        \"start_date\": min([home_matches_team['date'].min(), away_matches_team['date'].min()]),\n",
    "        \"end_date\": max([home_matches_team['date'].max(), away_matches_team['date'].max()]),\n",
    "        \"home_wins\": home_results[\"HOME\"] if \"HOME\" in home_results.keys() else 0,\n",
    "        \"away_wins\": away_results[\"AWAY\"] if \"AWAY\" in away_results.keys() else 0,\n",
    "        \"home_loss\": home_results[\"AWAY\"] if \"AWAY\" in home_results.keys() else 0,\n",
    "        \"away_loss\": away_results[\"HOME\"] if \"HOME\" in away_results.keys() else 0,\n",
    "        \"home_draws\": home_results[\"DRAW\"] if \"DRAW\" in home_results.keys() else 0,\n",
    "        \"away_draws\": away_results[\"DRAW\"] if \"DRAW\" in away_results.keys() else 0,\n",
    "        \"total_games\": home_matches_team.shape[0] + away_matches_team.shape[0],\n",
    "        \"total_home_games\": home_matches_team.shape[0],\n",
    "        \"total_away_games\": away_matches_team.shape[0],\n",
    "        \"avg_xg_created_in_home_wins\": avg_home_xg_created[\"HOME\"] if \"HOME\" in avg_home_xg_created.keys() else 0.0,\n",
    "        \"avg_xg_faced_in_home_wins\": avg_home_xg_faced[\"HOME\"] if \"HOME\" in avg_home_xg_faced.keys() else 0.0,\n",
    "        \"avg_xg_created_in_away_wins\": avg_away_xg_created[\"AWAY\"] if \"AWAY\" in avg_away_xg_created.keys() else 0.0,\n",
    "        \"avg_xg_faced_in_away_wins\": avg_away_xg_faced[\"AWAY\"] if \"AWAY\" in avg_away_xg_faced.keys() else 0.0,\n",
    "        \"avg_xg_created_in_home_draws\": avg_home_xg_created[\"DRAW\"] if \"DRAW\" in avg_home_xg_created.keys() else 0.0,\n",
    "        \"avg_xg_faced_in_home_draws\": avg_home_xg_faced[\"DRAW\"] if \"DRAW\" in avg_home_xg_faced.keys() else 0.0,\n",
    "        \"avg_xg_created_in_away_draws\": avg_away_xg_created[\"DRAW\"] if \"DRAW\" in avg_away_xg_created.keys() else 0.0,\n",
    "        \"avg_xg_faced_in_away_draws\": avg_away_xg_faced[\"DRAW\"] if \"DRAW\" in avg_away_xg_faced.keys() else 0.0,\n",
    "        \"avg_xg_created_in_home_loss\":avg_home_xg_created[\"AWAY\"] if \"AWAY\" in avg_home_xg_created.keys() else 0.0,\n",
    "        \"avg_xg_faced_in_home_loss\": avg_home_xg_faced[\"AWAY\"] if \"AWAY\" in avg_home_xg_faced.keys() else 0.0,\n",
    "        \"avg_xg_created_in_away_loss\": avg_away_xg_created[\"HOME\"] if \"HOME\" in avg_away_xg_created.keys() else 0.0,\n",
    "        \"avg_xg_faced_in_away_loss\":avg_away_xg_faced[\"HOME\"] if \"HOME\" in avg_away_xg_faced.keys() else 0.0,\n",
    "        \"median_xg_created_in_home_wins\": median_home_xg_created[\"HOME\"] if \"HOME\" in median_home_xg_created.keys() else 0.0,\n",
    "        \"median_xg_faced_in_home_wins\": median_home_xg_faced[\"HOME\"] if \"HOME\" in median_home_xg_faced.keys() else 0.0,\n",
    "        \"median_xg_created_in_away_wins\": median_away_xg_created[\"AWAY\"] if \"AWAY\" in median_away_xg_created.keys() else 0.0,\n",
    "        \"median_xg_faced_in_away_wins\": median_away_xg_faced[\"AWAY\"] if \"AWAY\" in median_away_xg_faced.keys() else 0.0,\n",
    "        \"median_xg_created_in_home_draws\": median_home_xg_created[\"DRAW\"] if \"DRAW\" in median_home_xg_created.keys() else 0.0,\n",
    "        \"median_xg_faced_in_home_draws\": median_home_xg_faced[\"DRAW\"] if \"DRAW\" in median_home_xg_faced.keys() else 0.0,\n",
    "        \"median_xg_created_in_away_draws\": median_away_xg_created[\"DRAW\"] if \"DRAW\" in median_away_xg_created.keys() else 0.0,\n",
    "        \"median_xg_faced_in_away_draws\": median_away_xg_faced[\"DRAW\"] if \"DRAW\" in median_away_xg_faced.keys() else 0.0,\n",
    "        \"median_xg_created_in_home_loss\":median_home_xg_created[\"AWAY\"] if \"AWAY\" in median_home_xg_created.keys() else 0.0,\n",
    "        \"median_xg_faced_in_home_loss\": median_home_xg_faced[\"AWAY\"] if \"AWAY\" in median_home_xg_faced.keys() else 0.0,\n",
    "        \"median_xg_created_in_away_loss\": median_away_xg_created[\"HOME\"] if \"HOME\" in median_away_xg_created.keys() else 0.0,\n",
    "        \"median_xg_faced_in_away_loss\":median_away_xg_faced[\"HOME\"] if \"HOME\" in median_away_xg_faced.keys() else 0.0,\n",
    "\n",
    "    })\n",
    "manager_timeline_df = pd.DataFrame(manager_timeline)"
   ]
  },
  {
   "cell_type": "code",
   "execution_count": 16,
   "metadata": {
    "id": "bsYgn3QpM-ix"
   },
   "outputs": [],
   "source": [
    "def get_manager_stats_for_matches(all_matches, manager_name, team_name):\n",
    "  all_matches = all_matches.sort_values(['date'], ascending=True)\n",
    "  home_matches_team = all_matches[all_matches.home_team == team_name]\n",
    "  away_matches_team = all_matches[all_matches.away_team == team_name]\n",
    "  home_results= home_matches_team['result'].value_counts()\n",
    "  away_results = away_matches_team['result'].value_counts()\n",
    "  avg_home_xg_created = home_matches_team.groupby(['result'])['home_xg'].mean()\n",
    "  avg_home_xg_faced = home_matches_team.groupby(['result'])['away_xg'].mean()\n",
    "  avg_away_xg_faced = away_matches_team.groupby(['result'])['home_xg'].mean()\n",
    "  avg_away_xg_created = away_matches_team.groupby(['result'])['away_xg'].mean()\n",
    "  median_home_xg_created = home_matches_team.groupby(['result'])['home_xg'].median()\n",
    "  median_home_xg_faced = home_matches_team.groupby(['result'])['away_xg'].median()\n",
    "  median_away_xg_faced = away_matches_team.groupby(['result'])['home_xg'].median()\n",
    "  median_away_xg_created = away_matches_team.groupby(['result'])['away_xg'].median()\n",
    "  home_min_date = home_matches_team['date'].min() if home_matches_team.shape[0] > 0 else pd.to_datetime('2099-01-01')\n",
    "  away_min_date = away_matches_team['date'].min() if away_matches_team.shape[0] > 0 else pd.to_datetime('2099-01-01')\n",
    "  home_max_date = home_matches_team['date'].max() if home_matches_team.shape[0] > 0 else pd.to_datetime('1999-01-01')\n",
    "  away_max_date = away_matches_team['date'].max() if away_matches_team.shape[0] > 0 else pd.to_datetime('1999-01-01')\n",
    "\n",
    "\n",
    "  return {\n",
    "        \"name\": manager_name,\n",
    "        \"team\": team_name,\n",
    "        \"start_date\": min([home_min_date, away_min_date]),\n",
    "        \"end_date\": max([home_max_date, away_max_date]),\n",
    "        \"home_wins\": home_results[\"HOME\"] if \"HOME\" in home_results.keys() else 0,\n",
    "        \"away_wins\": away_results[\"AWAY\"] if \"AWAY\" in away_results.keys() else 0,\n",
    "        \"home_loss\": home_results[\"AWAY\"] if \"AWAY\" in home_results.keys() else 0,\n",
    "        \"away_loss\": away_results[\"HOME\"] if \"HOME\" in away_results.keys() else 0,\n",
    "        \"home_draws\": home_results[\"DRAW\"] if \"DRAW\" in home_results.keys() else 0,\n",
    "        \"away_draws\": away_results[\"DRAW\"] if \"DRAW\" in away_results.keys() else 0,\n",
    "        \"total_games\": home_matches_team.shape[0] + away_matches_team.shape[0],\n",
    "        \"total_home_games\": home_matches_team.shape[0],\n",
    "        \"total_away_games\": away_matches_team.shape[0],\n",
    "        \"avg_xg_created_in_home_wins\": avg_home_xg_created[\"HOME\"] if \"HOME\" in avg_home_xg_created.keys() else 0.0,\n",
    "        \"avg_xg_faced_in_home_wins\": avg_home_xg_faced[\"HOME\"] if \"HOME\" in avg_home_xg_faced.keys() else 0.0,\n",
    "        \"avg_xg_created_in_away_wins\": avg_away_xg_created[\"AWAY\"] if \"AWAY\" in avg_away_xg_created.keys() else 0.0,\n",
    "        \"avg_xg_faced_in_away_wins\": avg_away_xg_faced[\"AWAY\"] if \"AWAY\" in avg_away_xg_faced.keys() else 0.0,\n",
    "        \"avg_xg_created_in_home_draws\": avg_home_xg_created[\"DRAW\"] if \"DRAW\" in avg_home_xg_created.keys() else 0.0,\n",
    "        \"avg_xg_faced_in_home_draws\": avg_home_xg_faced[\"DRAW\"] if \"DRAW\" in avg_home_xg_faced.keys() else 0.0,\n",
    "        \"avg_xg_created_in_away_draws\": avg_away_xg_created[\"DRAW\"] if \"DRAW\" in avg_away_xg_created.keys() else 0.0,\n",
    "        \"avg_xg_faced_in_away_draws\": avg_away_xg_faced[\"DRAW\"] if \"DRAW\" in avg_away_xg_faced.keys() else 0.0,\n",
    "        \"avg_xg_created_in_home_loss\":avg_home_xg_created[\"AWAY\"] if \"AWAY\" in avg_home_xg_created.keys() else 0.0,\n",
    "        \"avg_xg_faced_in_home_loss\": avg_home_xg_faced[\"AWAY\"] if \"AWAY\" in avg_home_xg_faced.keys() else 0.0,\n",
    "        \"avg_xg_created_in_away_loss\": avg_away_xg_created[\"HOME\"] if \"HOME\" in avg_away_xg_created.keys() else 0.0,\n",
    "        \"avg_xg_faced_in_away_loss\":avg_away_xg_faced[\"HOME\"] if \"HOME\" in avg_away_xg_faced.keys() else 0.0,\n",
    "        \"median_xg_created_in_home_wins\": median_home_xg_created[\"HOME\"] if \"HOME\" in median_home_xg_created.keys() else 0.0,\n",
    "        \"median_xg_faced_in_home_wins\": median_home_xg_faced[\"HOME\"] if \"HOME\" in median_home_xg_faced.keys() else 0.0,\n",
    "        \"median_xg_created_in_away_wins\": median_away_xg_created[\"AWAY\"] if \"AWAY\" in median_away_xg_created.keys() else 0.0,\n",
    "        \"median_xg_faced_in_away_wins\": median_away_xg_faced[\"AWAY\"] if \"AWAY\" in median_away_xg_faced.keys() else 0.0,\n",
    "        \"median_xg_created_in_home_draws\": median_home_xg_created[\"DRAW\"] if \"DRAW\" in median_home_xg_created.keys() else 0.0,\n",
    "        \"median_xg_faced_in_home_draws\": median_home_xg_faced[\"DRAW\"] if \"DRAW\" in median_home_xg_faced.keys() else 0.0,\n",
    "        \"median_xg_created_in_away_draws\": median_away_xg_created[\"DRAW\"] if \"DRAW\" in median_away_xg_created.keys() else 0.0,\n",
    "        \"median_xg_faced_in_away_draws\": median_away_xg_faced[\"DRAW\"] if \"DRAW\" in median_away_xg_faced.keys() else 0.0,\n",
    "        \"median_xg_created_in_home_loss\":median_home_xg_created[\"AWAY\"] if \"AWAY\" in median_home_xg_created.keys() else 0.0,\n",
    "        \"median_xg_faced_in_home_loss\": median_home_xg_faced[\"AWAY\"] if \"AWAY\" in median_home_xg_faced.keys() else 0.0,\n",
    "        \"median_xg_created_in_away_loss\": median_away_xg_created[\"HOME\"] if \"HOME\" in median_away_xg_created.keys() else 0.0,\n",
    "        \"median_xg_faced_in_away_loss\":median_away_xg_faced[\"HOME\"] if \"HOME\" in median_away_xg_faced.keys() else 0.0,\n",
    "\n",
    "    }\n"
   ]
  },
  {
   "cell_type": "markdown",
   "metadata": {
    "id": "1yxCYv4T_frp"
   },
   "source": [
    "### How many mid season sacks occured in the last 6 years across different leagues."
   ]
  },
  {
   "cell_type": "code",
   "execution_count": 17,
   "metadata": {
    "colab": {
     "base_uri": "https://localhost:8080/"
    },
    "id": "Bai_ChauCkx9",
    "outputId": "86000959-5e14-4d41-ea3f-916b0c2f7c3a"
   },
   "outputs": [
    {
     "name": "stderr",
     "output_type": "stream",
     "text": [
      "100%|███████████████████████████████████████| 141/141 [00:00<00:00, 1078.70it/s]\n"
     ]
    }
   ],
   "source": [
    "midseason_sack_full = []\n",
    "for team in tqdm(team_timeline.keys()):\n",
    "  team_df = team_timeline[team]\n",
    "  mid_sack_count = team_df[team_df.is_mid_season_sack==True].shape[0]\n",
    "  new_managers_count = team_df[team_df.is_new_manager==True].shape[0]\n",
    "  league = team_df['league'].unique()[0] # League name will be same for a team and will consist of only one entry.\n",
    "  midseason_sack_full.append({\n",
    "      \"team_name\": team,\n",
    "      \"num_mid_season_sacks\": mid_sack_count,\n",
    "      \"new_managers_count\": new_managers_count,\n",
    "      \"league\": league  })\n",
    "mid_season_sack_league_counts = pd.DataFrame(midseason_sack_full)"
   ]
  },
  {
   "cell_type": "markdown",
   "metadata": {
    "id": "iFuvPbXfFfLf"
   },
   "source": [
    "Basic Exploration of mid season sack counts."
   ]
  },
  {
   "cell_type": "code",
   "execution_count": 18,
   "metadata": {
    "colab": {
     "base_uri": "https://localhost:8080/"
    },
    "id": "XeitQc_AjRHi",
    "outputId": "d1c48d31-c894-4213-d9a6-50b106748f90"
   },
   "outputs": [
    {
     "data": {
      "text/plain": [
       "league\n",
       "BUNDESLIGA    58\n",
       "EPL           71\n",
       "LALIGA        73\n",
       "LIGUE_1       60\n",
       "SERIE_A       66\n",
       "Name: num_mid_season_sacks, dtype: int64"
      ]
     },
     "execution_count": 18,
     "metadata": {},
     "output_type": "execute_result"
    }
   ],
   "source": [
    "mid_season_sack_league_counts.groupby(['league'])['num_mid_season_sacks'].sum()"
   ]
  },
  {
   "cell_type": "code",
   "execution_count": 19,
   "metadata": {
    "colab": {
     "base_uri": "https://localhost:8080/"
    },
    "id": "LS6DCOQa9tML",
    "outputId": "adbafb66-10e6-4fab-b5b4-a364cb9fe387"
   },
   "outputs": [
    {
     "data": {
      "text/plain": [
       "league\n",
       "BUNDESLIGA     87\n",
       "EPL            88\n",
       "LALIGA        105\n",
       "LIGUE_1        91\n",
       "SERIE_A       101\n",
       "Name: new_managers_count, dtype: int64"
      ]
     },
     "execution_count": 19,
     "metadata": {},
     "output_type": "execute_result"
    }
   ],
   "source": [
    "mid_season_sack_league_counts.groupby(['league'])['new_managers_count'].sum()"
   ]
  },
  {
   "cell_type": "code",
   "execution_count": 20,
   "metadata": {
    "colab": {
     "base_uri": "https://localhost:8080/"
    },
    "id": "emxnjE0RnCgw",
    "outputId": "863201dd-ef79-415c-b45c-0e8154f91d12"
   },
   "outputs": [
    {
     "data": {
      "text/plain": [
       "league\n",
       "BUNDESLIGA    25\n",
       "EPL           29\n",
       "LALIGA        29\n",
       "LIGUE_1       28\n",
       "SERIE_A       30\n",
       "Name: team_name, dtype: int64"
      ]
     },
     "execution_count": 20,
     "metadata": {},
     "output_type": "execute_result"
    }
   ],
   "source": [
    "mid_season_sack_league_counts.groupby(['league'])['team_name'].count()"
   ]
  },
  {
   "cell_type": "code",
   "execution_count": 21,
   "metadata": {
    "id": "gwU17dyEqfHI"
   },
   "outputs": [],
   "source": [
    "def get_max_sacks_per_league(league):\n",
    "  max_sack_per_league = mid_season_sack_league_counts[mid_season_sack_league_counts.league == league]['new_managers_count'].max()\n",
    "  return mid_season_sack_league_counts[(mid_season_sack_league_counts.league == league) & (mid_season_sack_league_counts.new_managers_count == max_sack_per_league)]"
   ]
  },
  {
   "cell_type": "code",
   "execution_count": 22,
   "metadata": {
    "colab": {
     "base_uri": "https://localhost:8080/",
     "height": 81
    },
    "id": "AzGHHcwotsSD",
    "outputId": "69611e9a-ca67-4167-f5b0-f736929a4d8a"
   },
   "outputs": [
    {
     "data": {
      "text/html": [
       "<div>\n",
       "<style scoped>\n",
       "    .dataframe tbody tr th:only-of-type {\n",
       "        vertical-align: middle;\n",
       "    }\n",
       "\n",
       "    .dataframe tbody tr th {\n",
       "        vertical-align: top;\n",
       "    }\n",
       "\n",
       "    .dataframe thead th {\n",
       "        text-align: right;\n",
       "    }\n",
       "</style>\n",
       "<table border=\"1\" class=\"dataframe\">\n",
       "  <thead>\n",
       "    <tr style=\"text-align: right;\">\n",
       "      <th></th>\n",
       "      <th>team_name</th>\n",
       "      <th>num_mid_season_sacks</th>\n",
       "      <th>new_managers_count</th>\n",
       "      <th>league</th>\n",
       "    </tr>\n",
       "  </thead>\n",
       "  <tbody>\n",
       "    <tr>\n",
       "      <th>111</th>\n",
       "      <td>Everton</td>\n",
       "      <td>7</td>\n",
       "      <td>9</td>\n",
       "      <td>EPL</td>\n",
       "    </tr>\n",
       "  </tbody>\n",
       "</table>\n",
       "</div>"
      ],
      "text/plain": [
       "    team_name  num_mid_season_sacks  new_managers_count league\n",
       "111   Everton                     7                   9    EPL"
      ]
     },
     "execution_count": 22,
     "metadata": {},
     "output_type": "execute_result"
    }
   ],
   "source": [
    "get_max_sacks_per_league('EPL')"
   ]
  },
  {
   "cell_type": "code",
   "execution_count": 23,
   "metadata": {
    "colab": {
     "base_uri": "https://localhost:8080/",
     "height": 112
    },
    "id": "HYLCXUwIvEGz",
    "outputId": "9b13592f-f934-4fcd-a666-58cbc9f907c3"
   },
   "outputs": [
    {
     "data": {
      "text/html": [
       "<div>\n",
       "<style scoped>\n",
       "    .dataframe tbody tr th:only-of-type {\n",
       "        vertical-align: middle;\n",
       "    }\n",
       "\n",
       "    .dataframe tbody tr th {\n",
       "        vertical-align: top;\n",
       "    }\n",
       "\n",
       "    .dataframe thead th {\n",
       "        text-align: right;\n",
       "    }\n",
       "</style>\n",
       "<table border=\"1\" class=\"dataframe\">\n",
       "  <thead>\n",
       "    <tr style=\"text-align: right;\">\n",
       "      <th></th>\n",
       "      <th>team_name</th>\n",
       "      <th>num_mid_season_sacks</th>\n",
       "      <th>new_managers_count</th>\n",
       "      <th>league</th>\n",
       "    </tr>\n",
       "  </thead>\n",
       "  <tbody>\n",
       "    <tr>\n",
       "      <th>36</th>\n",
       "      <td>Hertha BSC</td>\n",
       "      <td>7</td>\n",
       "      <td>9</td>\n",
       "      <td>BUNDESLIGA</td>\n",
       "    </tr>\n",
       "    <tr>\n",
       "      <th>84</th>\n",
       "      <td>Schalke 04</td>\n",
       "      <td>7</td>\n",
       "      <td>9</td>\n",
       "      <td>BUNDESLIGA</td>\n",
       "    </tr>\n",
       "  </tbody>\n",
       "</table>\n",
       "</div>"
      ],
      "text/plain": [
       "     team_name  num_mid_season_sacks  new_managers_count      league\n",
       "36  Hertha BSC                     7                   9  BUNDESLIGA\n",
       "84  Schalke 04                     7                   9  BUNDESLIGA"
      ]
     },
     "execution_count": 23,
     "metadata": {},
     "output_type": "execute_result"
    }
   ],
   "source": [
    "get_max_sacks_per_league('BUNDESLIGA')"
   ]
  },
  {
   "cell_type": "code",
   "execution_count": 24,
   "metadata": {
    "colab": {
     "base_uri": "https://localhost:8080/",
     "height": 81
    },
    "id": "K7RrQc_UjgpL",
    "outputId": "0f71ae58-b2f1-41f6-ed22-5b12f2469b01"
   },
   "outputs": [
    {
     "data": {
      "text/html": [
       "<div>\n",
       "<style scoped>\n",
       "    .dataframe tbody tr th:only-of-type {\n",
       "        vertical-align: middle;\n",
       "    }\n",
       "\n",
       "    .dataframe tbody tr th {\n",
       "        vertical-align: top;\n",
       "    }\n",
       "\n",
       "    .dataframe thead th {\n",
       "        text-align: right;\n",
       "    }\n",
       "</style>\n",
       "<table border=\"1\" class=\"dataframe\">\n",
       "  <thead>\n",
       "    <tr style=\"text-align: right;\">\n",
       "      <th></th>\n",
       "      <th>team_name</th>\n",
       "      <th>num_mid_season_sacks</th>\n",
       "      <th>new_managers_count</th>\n",
       "      <th>league</th>\n",
       "    </tr>\n",
       "  </thead>\n",
       "  <tbody>\n",
       "    <tr>\n",
       "      <th>28</th>\n",
       "      <td>Espanyol</td>\n",
       "      <td>7</td>\n",
       "      <td>11</td>\n",
       "      <td>LALIGA</td>\n",
       "    </tr>\n",
       "  </tbody>\n",
       "</table>\n",
       "</div>"
      ],
      "text/plain": [
       "   team_name  num_mid_season_sacks  new_managers_count  league\n",
       "28  Espanyol                     7                  11  LALIGA"
      ]
     },
     "execution_count": 24,
     "metadata": {},
     "output_type": "execute_result"
    }
   ],
   "source": [
    "get_max_sacks_per_league('LALIGA')"
   ]
  },
  {
   "cell_type": "code",
   "execution_count": 25,
   "metadata": {
    "colab": {
     "base_uri": "https://localhost:8080/",
     "height": 112
    },
    "id": "276FWBKOjj0q",
    "outputId": "c9f9ea0f-7648-4bae-96f6-2ed4332fdd7e"
   },
   "outputs": [
    {
     "data": {
      "text/html": [
       "<div>\n",
       "<style scoped>\n",
       "    .dataframe tbody tr th:only-of-type {\n",
       "        vertical-align: middle;\n",
       "    }\n",
       "\n",
       "    .dataframe tbody tr th {\n",
       "        vertical-align: top;\n",
       "    }\n",
       "\n",
       "    .dataframe thead th {\n",
       "        text-align: right;\n",
       "    }\n",
       "</style>\n",
       "<table border=\"1\" class=\"dataframe\">\n",
       "  <thead>\n",
       "    <tr style=\"text-align: right;\">\n",
       "      <th></th>\n",
       "      <th>team_name</th>\n",
       "      <th>num_mid_season_sacks</th>\n",
       "      <th>new_managers_count</th>\n",
       "      <th>league</th>\n",
       "    </tr>\n",
       "  </thead>\n",
       "  <tbody>\n",
       "    <tr>\n",
       "      <th>37</th>\n",
       "      <td>Bordeaux</td>\n",
       "      <td>6</td>\n",
       "      <td>8</td>\n",
       "      <td>LIGUE_1</td>\n",
       "    </tr>\n",
       "    <tr>\n",
       "      <th>101</th>\n",
       "      <td>Nantes</td>\n",
       "      <td>6</td>\n",
       "      <td>8</td>\n",
       "      <td>LIGUE_1</td>\n",
       "    </tr>\n",
       "  </tbody>\n",
       "</table>\n",
       "</div>"
      ],
      "text/plain": [
       "    team_name  num_mid_season_sacks  new_managers_count   league\n",
       "37   Bordeaux                     6                   8  LIGUE_1\n",
       "101    Nantes                     6                   8  LIGUE_1"
      ]
     },
     "execution_count": 25,
     "metadata": {},
     "output_type": "execute_result"
    }
   ],
   "source": [
    "get_max_sacks_per_league('LIGUE_1')"
   ]
  },
  {
   "cell_type": "code",
   "execution_count": 26,
   "metadata": {
    "colab": {
     "base_uri": "https://localhost:8080/",
     "height": 81
    },
    "id": "ZcchSE4ajmnR",
    "outputId": "2b81e35d-9f47-44e8-f418-614885ef2b19"
   },
   "outputs": [
    {
     "data": {
      "text/html": [
       "<div>\n",
       "<style scoped>\n",
       "    .dataframe tbody tr th:only-of-type {\n",
       "        vertical-align: middle;\n",
       "    }\n",
       "\n",
       "    .dataframe tbody tr th {\n",
       "        vertical-align: top;\n",
       "    }\n",
       "\n",
       "    .dataframe thead th {\n",
       "        text-align: right;\n",
       "    }\n",
       "</style>\n",
       "<table border=\"1\" class=\"dataframe\">\n",
       "  <thead>\n",
       "    <tr style=\"text-align: right;\">\n",
       "      <th></th>\n",
       "      <th>team_name</th>\n",
       "      <th>num_mid_season_sacks</th>\n",
       "      <th>new_managers_count</th>\n",
       "      <th>league</th>\n",
       "    </tr>\n",
       "  </thead>\n",
       "  <tbody>\n",
       "    <tr>\n",
       "      <th>115</th>\n",
       "      <td>Genoa</td>\n",
       "      <td>9</td>\n",
       "      <td>11</td>\n",
       "      <td>SERIE_A</td>\n",
       "    </tr>\n",
       "  </tbody>\n",
       "</table>\n",
       "</div>"
      ],
      "text/plain": [
       "    team_name  num_mid_season_sacks  new_managers_count   league\n",
       "115     Genoa                     9                  11  SERIE_A"
      ]
     },
     "execution_count": 26,
     "metadata": {},
     "output_type": "execute_result"
    }
   ],
   "source": [
    "get_max_sacks_per_league('SERIE_A')"
   ]
  },
  {
   "cell_type": "markdown",
   "metadata": {
    "id": "C8Br-E0LFErN"
   },
   "source": [
    "1. Classify Interim and Permanent managers based on number of games managed. (Threshold LT 5)"
   ]
  },
  {
   "cell_type": "code",
   "execution_count": 27,
   "metadata": {
    "id": "87dqo6RvkBam"
   },
   "outputs": [],
   "source": [
    "# Classify managers who went on to manage more than 5 games (1 month) and someone who just came on as an interim manager.\n",
    "def classify_manager_if_permanent_or_interim(df, team):\n",
    "  df = df.sort_values([\"date\"], ascending=True).reset_index(drop=True)\n",
    "  manager_count = 1\n",
    "  current_manager = df.iloc[0]['manager']\n",
    "  manager_type_lst = []\n",
    "  for index, row in df.iloc[1:].iterrows():\n",
    "    if row['manager']!=current_manager:\n",
    "      manager_type = 'PERMANENT' if manager_count > 5 else 'INTERIM'\n",
    "      for i in range(manager_count):\n",
    "        manager_type_lst.append(manager_type)\n",
    "      manager_count = 1\n",
    "      current_manager = row['manager']\n",
    "    else:\n",
    "      manager_count += 1\n",
    "  if manager_count != 1:\n",
    "    for i in range(manager_count):\n",
    "      manager_type = 'PERMANENT' if manager_count > 5 else 'INTERIM'\n",
    "      manager_type_lst.append(manager_type)\n",
    "  df['manager_type'] = manager_type_lst\n",
    "  return df\n"
   ]
  },
  {
   "cell_type": "code",
   "execution_count": 28,
   "metadata": {
    "colab": {
     "base_uri": "https://localhost:8080/"
    },
    "id": "f0pIp9oM_Eir",
    "outputId": "80ad77b3-99e0-4540-91ce-11ccc58aad6f"
   },
   "outputs": [
    {
     "name": "stderr",
     "output_type": "stream",
     "text": [
      "100%|█████████████████████████████████████████| 141/141 [00:01<00:00, 96.59it/s]\n"
     ]
    }
   ],
   "source": [
    "team_timeline_classification = {}\n",
    "for k in tqdm(team_timeline.keys()):\n",
    "  team_timeline_classification[k] = classify_manager_if_permanent_or_interim(team_timeline[k], k)"
   ]
  },
  {
   "cell_type": "markdown",
   "metadata": {
    "id": "y2x2XuRnHBqv"
   },
   "source": [
    "Mid season sacks by removing interim managers"
   ]
  },
  {
   "cell_type": "code",
   "execution_count": 29,
   "metadata": {
    "colab": {
     "base_uri": "https://localhost:8080/"
    },
    "id": "Cfvekd-OHAxE",
    "outputId": "fac59729-335f-4670-906f-ce2f9237c236"
   },
   "outputs": [
    {
     "name": "stderr",
     "output_type": "stream",
     "text": [
      "100%|████████████████████████████████████████| 141/141 [00:00<00:00, 813.53it/s]\n"
     ]
    }
   ],
   "source": [
    "midseason_sack_full_without_interim = []\n",
    "for team in tqdm(team_timeline_classification.keys()):\n",
    "  team_df = team_timeline_classification[team]\n",
    "  mid_sack_count = team_df[(team_df.is_mid_season_sack==True) & (team_df.manager_type == 'PERMANENT')].shape[0]\n",
    "  new_managers_count = team_df[(team_df.is_new_manager==True) & (team_df.manager_type == 'PERMANENT')].shape[0]\n",
    "  league = team_df['league'].unique()[0] # League name will be same for a team and will consist of only one entry.\n",
    "  midseason_sack_full_without_interim.append({\n",
    "      \"team_name\": team,\n",
    "      \"num_mid_season_sacks\": mid_sack_count,\n",
    "      \"new_managers_count\": new_managers_count,\n",
    "      \"league\": league  })\n",
    "midseason_sack_full_without_interim = pd.DataFrame(midseason_sack_full_without_interim)"
   ]
  },
  {
   "cell_type": "code",
   "execution_count": 30,
   "metadata": {
    "colab": {
     "base_uri": "https://localhost:8080/"
    },
    "id": "9InAKAntHsM0",
    "outputId": "dff22013-52e3-4c16-b7ff-90d3bf8a6760"
   },
   "outputs": [
    {
     "data": {
      "text/plain": [
       "league\n",
       "BUNDESLIGA    47\n",
       "EPL           49\n",
       "LALIGA        57\n",
       "LIGUE_1       50\n",
       "SERIE_A       56\n",
       "Name: num_mid_season_sacks, dtype: int64"
      ]
     },
     "execution_count": 30,
     "metadata": {},
     "output_type": "execute_result"
    }
   ],
   "source": [
    "midseason_sack_full_without_interim.groupby(['league'])['num_mid_season_sacks'].sum()"
   ]
  },
  {
   "cell_type": "markdown",
   "metadata": {
    "id": "zg6BtZFoGf3K"
   },
   "source": [
    "### 2. Visualization of sacks over time"
   ]
  },
  {
   "cell_type": "code",
   "execution_count": 31,
   "metadata": {
    "colab": {
     "base_uri": "https://localhost:8080/",
     "height": 812
    },
    "id": "Oz1pcIBmGgQt",
    "outputId": "07cf5eea-3673-40a0-e725-9bf55bc2fea1"
   },
   "outputs": [
    {
     "data": {
      "text/plain": [
       "Text(0.5, 1.0, 'visualization of managerial sacks over the months.')"
      ]
     },
     "execution_count": 31,
     "metadata": {},
     "output_type": "execute_result"
    },
    {
     "data": {
      "image/png": "[encoded data removed]",
      "text/plain": [
       "<Figure size 1600x900 with 1 Axes>"
      ]
     },
     "metadata": {},
     "output_type": "display_data"
    }
   ],
   "source": [
    "# Firstm get all entries where midseason sack has happened.\n",
    "full_matches_timeline = pd.concat([team_timeline_classification[k] for k in team_timeline_classification.keys() ])\n",
    "full_matches_timeline_sacks_midseason = full_matches_timeline[(full_matches_timeline.is_mid_season_sack==True) & (full_matches_timeline.manager_type == 'PERMANENT')]\n",
    "full_matches_timeline_sacks_midseason['month_name'] = pd.to_datetime(full_matches_timeline_sacks_midseason.date).dt.month_name()\n",
    "league_counts_mid_season_sacks = full_matches_timeline_sacks_midseason.groupby(['league', 'month_name'])['date'].count().reset_index(drop=False)\n",
    "ordered_months_name = ['September', 'October', 'November', 'December', 'January', 'February', 'March', 'April', 'May']\n",
    "league_counts_mid_season_sacks['month_name_ordered'] = pd.Categorical(league_counts_mid_season_sacks['month_name'], categories=ordered_months_name, ordered=True)\n",
    "plt.figure(figsize=(16,9))\n",
    "sns.lineplot(data=league_counts_mid_season_sacks, x='month_name_ordered', y='date', hue='league')\n",
    "plt.xlabel('Month Name')\n",
    "plt.ylabel('Number of mid season sacks.')\n",
    "plt.title('visualization of managerial sacks over the months.', fontsize=20)"
   ]
  },
  {
   "cell_type": "markdown",
   "metadata": {
    "id": "NOXhW23RFUXc"
   },
   "source": [
    "### 3. Earliest Sacked Manager"
   ]
  },
  {
   "cell_type": "code",
   "execution_count": 32,
   "metadata": {
    "colab": {
     "base_uri": "https://localhost:8080/",
     "height": 269
    },
    "id": "aDdor2pWDHhD",
    "outputId": "efbecc02-ac1a-49d8-c2bc-cbca64bfb99b"
   },
   "outputs": [
    {
     "data": {
      "text/html": [
       "<div>\n",
       "<style scoped>\n",
       "    .dataframe tbody tr th:only-of-type {\n",
       "        vertical-align: middle;\n",
       "    }\n",
       "\n",
       "    .dataframe tbody tr th {\n",
       "        vertical-align: top;\n",
       "    }\n",
       "\n",
       "    .dataframe thead th {\n",
       "        text-align: right;\n",
       "    }\n",
       "</style>\n",
       "<table border=\"1\" class=\"dataframe\">\n",
       "  <thead>\n",
       "    <tr style=\"text-align: right;\">\n",
       "      <th></th>\n",
       "      <th>date</th>\n",
       "      <th>manager</th>\n",
       "      <th>home_team</th>\n",
       "      <th>away_team</th>\n",
       "      <th>home_manager</th>\n",
       "      <th>away_manager</th>\n",
       "    </tr>\n",
       "  </thead>\n",
       "  <tbody>\n",
       "    <tr>\n",
       "      <th>32</th>\n",
       "      <td>2018-04-07</td>\n",
       "      <td>Darren Moore</td>\n",
       "      <td>West Brom</td>\n",
       "      <td>Swansea City</td>\n",
       "      <td>Darren Moore</td>\n",
       "      <td>Carlos Carvalhal</td>\n",
       "    </tr>\n",
       "    <tr>\n",
       "      <th>146</th>\n",
       "      <td>2021-04-21</td>\n",
       "      <td>Ryan Mason</td>\n",
       "      <td>Tottenham</td>\n",
       "      <td>Southampton</td>\n",
       "      <td>Ryan Mason</td>\n",
       "      <td>Ralph Hasenhüttl</td>\n",
       "    </tr>\n",
       "    <tr>\n",
       "      <th>182</th>\n",
       "      <td>2022-04-17</td>\n",
       "      <td>Michael Jackson</td>\n",
       "      <td>West Ham</td>\n",
       "      <td>Burnley</td>\n",
       "      <td>David Moyes</td>\n",
       "      <td>Michael Jackson</td>\n",
       "    </tr>\n",
       "    <tr>\n",
       "      <th>218</th>\n",
       "      <td>2023-04-01</td>\n",
       "      <td>Roy Hodgson</td>\n",
       "      <td>Crystal Palace</td>\n",
       "      <td>Leicester City</td>\n",
       "      <td>Roy Hodgson</td>\n",
       "      <td>Brendan Rodgers</td>\n",
       "    </tr>\n",
       "    <tr>\n",
       "      <th>219</th>\n",
       "      <td>2023-04-08</td>\n",
       "      <td>Frank Lampard</td>\n",
       "      <td>Wolves</td>\n",
       "      <td>Chelsea</td>\n",
       "      <td>Lopetegui</td>\n",
       "      <td>Frank Lampard</td>\n",
       "    </tr>\n",
       "    <tr>\n",
       "      <th>220</th>\n",
       "      <td>2023-04-15</td>\n",
       "      <td>Dean Smith</td>\n",
       "      <td>Manchester City</td>\n",
       "      <td>Leicester City</td>\n",
       "      <td>Pep Guardiola</td>\n",
       "      <td>Dean Smith</td>\n",
       "    </tr>\n",
       "    <tr>\n",
       "      <th>222</th>\n",
       "      <td>2023-04-27</td>\n",
       "      <td>Ryan Mason</td>\n",
       "      <td>Tottenham</td>\n",
       "      <td>Manchester Utd</td>\n",
       "      <td>Ryan Mason</td>\n",
       "      <td>Erik ten Hag</td>\n",
       "    </tr>\n",
       "  </tbody>\n",
       "</table>\n",
       "</div>"
      ],
      "text/plain": [
       "          date          manager        home_team       away_team  \\\n",
       "32  2018-04-07     Darren Moore        West Brom    Swansea City   \n",
       "146 2021-04-21       Ryan Mason        Tottenham     Southampton   \n",
       "182 2022-04-17  Michael Jackson         West Ham         Burnley   \n",
       "218 2023-04-01      Roy Hodgson   Crystal Palace  Leicester City   \n",
       "219 2023-04-08    Frank Lampard           Wolves         Chelsea   \n",
       "220 2023-04-15       Dean Smith  Manchester City  Leicester City   \n",
       "222 2023-04-27       Ryan Mason        Tottenham  Manchester Utd   \n",
       "\n",
       "      home_manager      away_manager  \n",
       "32    Darren Moore  Carlos Carvalhal  \n",
       "146     Ryan Mason  Ralph Hasenhüttl  \n",
       "182    David Moyes   Michael Jackson  \n",
       "218    Roy Hodgson   Brendan Rodgers  \n",
       "219      Lopetegui     Frank Lampard  \n",
       "220  Pep Guardiola        Dean Smith  \n",
       "222     Ryan Mason      Erik ten Hag  "
      ]
     },
     "execution_count": 32,
     "metadata": {},
     "output_type": "execute_result"
    }
   ],
   "source": [
    "full_matches_timeline_sacks_midseason[(full_matches_timeline_sacks_midseason.month_name == 'April') & (full_matches_timeline_sacks_midseason.league=='EPL')][['date', 'manager', 'home_team', 'away_team', 'home_manager', 'away_manager']].sort_values(['date'])"
   ]
  },
  {
   "cell_type": "code",
   "execution_count": null,
   "metadata": {
    "id": "2s1gF3sde73k"
   },
   "outputs": [],
   "source": []
  },
  {
   "cell_type": "markdown",
   "metadata": {
    "id": "MGJxK2aOGqwu"
   },
   "source": [
    "### 4. Manager Bounce Effect - calculation and does it work.\n",
    "\n",
    "\n",
    "\n",
    "\n",
    "\n",
    "\n",
    "\n",
    "\n",
    "\n",
    "\n",
    "\n",
    "\n",
    "\n",
    "\n",
    "\n",
    "\n",
    "\n",
    "\n",
    "\n",
    "\n",
    "\n",
    "\n",
    "\n",
    "\n",
    "\n",
    "\n",
    "\n",
    "\n",
    "\n",
    "\n",
    "\n",
    "\n",
    "\n",
    "\n",
    "\n",
    "\n",
    "\n",
    "\n",
    "\n",
    "\n",
    "\n",
    "\n",
    "\n",
    "\n",
    "-"
   ]
  },
  {
   "cell_type": "markdown",
   "metadata": {
    "id": "3KUb8n4KGvOM"
   },
   "source": [
    "1. League comparison of bounce.\n",
    "2. Home and away bounce effect.\n",
    "3. Interim vs permanent manager bounce effect.\n",
    "4. Bounce effect for n matches. -- How long does the bounce last, if any?"
   ]
  },
  {
   "cell_type": "code",
   "execution_count": 33,
   "metadata": {
    "colab": {
     "base_uri": "https://localhost:8080/",
     "height": 386
    },
    "id": "hFFmLVfOtoa0",
    "outputId": "e3822c89-5634-4a56-f1a2-fa3e8009fefb"
   },
   "outputs": [
    {
     "data": {
      "text/html": [
       "<div>\n",
       "<style scoped>\n",
       "    .dataframe tbody tr th:only-of-type {\n",
       "        vertical-align: middle;\n",
       "    }\n",
       "\n",
       "    .dataframe tbody tr th {\n",
       "        vertical-align: top;\n",
       "    }\n",
       "\n",
       "    .dataframe thead th {\n",
       "        text-align: right;\n",
       "    }\n",
       "</style>\n",
       "<table border=\"1\" class=\"dataframe\">\n",
       "  <thead>\n",
       "    <tr style=\"text-align: right;\">\n",
       "      <th></th>\n",
       "      <th>name</th>\n",
       "      <th>team</th>\n",
       "      <th>start_date</th>\n",
       "      <th>end_date</th>\n",
       "      <th>home_wins</th>\n",
       "      <th>away_wins</th>\n",
       "      <th>home_loss</th>\n",
       "      <th>away_loss</th>\n",
       "      <th>home_draws</th>\n",
       "      <th>away_draws</th>\n",
       "      <th>...</th>\n",
       "      <th>median_xg_created_in_away_wins</th>\n",
       "      <th>median_xg_faced_in_away_wins</th>\n",
       "      <th>median_xg_created_in_home_draws</th>\n",
       "      <th>median_xg_faced_in_home_draws</th>\n",
       "      <th>median_xg_created_in_away_draws</th>\n",
       "      <th>median_xg_faced_in_away_draws</th>\n",
       "      <th>median_xg_created_in_home_loss</th>\n",
       "      <th>median_xg_faced_in_home_loss</th>\n",
       "      <th>median_xg_created_in_away_loss</th>\n",
       "      <th>median_xg_faced_in_away_loss</th>\n",
       "    </tr>\n",
       "  </thead>\n",
       "  <tbody>\n",
       "    <tr>\n",
       "      <th>0</th>\n",
       "      <td>Abdelaziz Bouhazama</td>\n",
       "      <td>Angers</td>\n",
       "      <td>2022-12-28</td>\n",
       "      <td>2023-03-05</td>\n",
       "      <td>0</td>\n",
       "      <td>0</td>\n",
       "      <td>4</td>\n",
       "      <td>5</td>\n",
       "      <td>1</td>\n",
       "      <td>1</td>\n",
       "      <td>...</td>\n",
       "      <td>0.00</td>\n",
       "      <td>0.00</td>\n",
       "      <td>0.90</td>\n",
       "      <td>2.60</td>\n",
       "      <td>0.7</td>\n",
       "      <td>1.0</td>\n",
       "      <td>1.05</td>\n",
       "      <td>1.25</td>\n",
       "      <td>0.9</td>\n",
       "      <td>1.60</td>\n",
       "    </tr>\n",
       "    <tr>\n",
       "      <th>1</th>\n",
       "      <td>Stephan Ruthenbeck</td>\n",
       "      <td>Köln</td>\n",
       "      <td>2017-12-10</td>\n",
       "      <td>2018-05-12</td>\n",
       "      <td>3</td>\n",
       "      <td>2</td>\n",
       "      <td>4</td>\n",
       "      <td>7</td>\n",
       "      <td>4</td>\n",
       "      <td>0</td>\n",
       "      <td>...</td>\n",
       "      <td>1.35</td>\n",
       "      <td>1.50</td>\n",
       "      <td>0.95</td>\n",
       "      <td>1.10</td>\n",
       "      <td>0.0</td>\n",
       "      <td>0.0</td>\n",
       "      <td>1.70</td>\n",
       "      <td>2.40</td>\n",
       "      <td>1.2</td>\n",
       "      <td>2.30</td>\n",
       "    </tr>\n",
       "    <tr>\n",
       "      <th>2</th>\n",
       "      <td>Laurent Batlles</td>\n",
       "      <td>Troyes</td>\n",
       "      <td>2021-08-07</td>\n",
       "      <td>2021-12-22</td>\n",
       "      <td>2</td>\n",
       "      <td>2</td>\n",
       "      <td>4</td>\n",
       "      <td>6</td>\n",
       "      <td>4</td>\n",
       "      <td>1</td>\n",
       "      <td>...</td>\n",
       "      <td>0.75</td>\n",
       "      <td>0.75</td>\n",
       "      <td>1.15</td>\n",
       "      <td>0.95</td>\n",
       "      <td>1.4</td>\n",
       "      <td>2.2</td>\n",
       "      <td>1.00</td>\n",
       "      <td>1.25</td>\n",
       "      <td>0.6</td>\n",
       "      <td>1.85</td>\n",
       "    </tr>\n",
       "    <tr>\n",
       "      <th>3</th>\n",
       "      <td>Heiko Butscher</td>\n",
       "      <td>Bochum</td>\n",
       "      <td>2022-09-18</td>\n",
       "      <td>2022-09-18</td>\n",
       "      <td>0</td>\n",
       "      <td>0</td>\n",
       "      <td>0</td>\n",
       "      <td>0</td>\n",
       "      <td>1</td>\n",
       "      <td>0</td>\n",
       "      <td>...</td>\n",
       "      <td>0.00</td>\n",
       "      <td>0.00</td>\n",
       "      <td>0.20</td>\n",
       "      <td>2.10</td>\n",
       "      <td>0.0</td>\n",
       "      <td>0.0</td>\n",
       "      <td>0.00</td>\n",
       "      <td>0.00</td>\n",
       "      <td>0.0</td>\n",
       "      <td>0.00</td>\n",
       "    </tr>\n",
       "    <tr>\n",
       "      <th>4</th>\n",
       "      <td>Javier Cabello</td>\n",
       "      <td>Alavés</td>\n",
       "      <td>NaT</td>\n",
       "      <td>NaT</td>\n",
       "      <td>0</td>\n",
       "      <td>0</td>\n",
       "      <td>0</td>\n",
       "      <td>1</td>\n",
       "      <td>0</td>\n",
       "      <td>0</td>\n",
       "      <td>...</td>\n",
       "      <td>0.00</td>\n",
       "      <td>0.00</td>\n",
       "      <td>0.00</td>\n",
       "      <td>0.00</td>\n",
       "      <td>0.0</td>\n",
       "      <td>0.0</td>\n",
       "      <td>0.00</td>\n",
       "      <td>0.00</td>\n",
       "      <td>0.4</td>\n",
       "      <td>1.70</td>\n",
       "    </tr>\n",
       "  </tbody>\n",
       "</table>\n",
       "<p>5 rows × 37 columns</p>\n",
       "</div>"
      ],
      "text/plain": [
       "                  name    team start_date   end_date  home_wins  away_wins  \\\n",
       "0  Abdelaziz Bouhazama  Angers 2022-12-28 2023-03-05          0          0   \n",
       "1   Stephan Ruthenbeck    Köln 2017-12-10 2018-05-12          3          2   \n",
       "2      Laurent Batlles  Troyes 2021-08-07 2021-12-22          2          2   \n",
       "3       Heiko Butscher  Bochum 2022-09-18 2022-09-18          0          0   \n",
       "4       Javier Cabello  Alavés        NaT        NaT          0          0   \n",
       "\n",
       "   home_loss  away_loss  home_draws  away_draws  ...  \\\n",
       "0          4          5           1           1  ...   \n",
       "1          4          7           4           0  ...   \n",
       "2          4          6           4           1  ...   \n",
       "3          0          0           1           0  ...   \n",
       "4          0          1           0           0  ...   \n",
       "\n",
       "   median_xg_created_in_away_wins  median_xg_faced_in_away_wins  \\\n",
       "0                            0.00                          0.00   \n",
       "1                            1.35                          1.50   \n",
       "2                            0.75                          0.75   \n",
       "3                            0.00                          0.00   \n",
       "4                            0.00                          0.00   \n",
       "\n",
       "   median_xg_created_in_home_draws  median_xg_faced_in_home_draws  \\\n",
       "0                             0.90                           2.60   \n",
       "1                             0.95                           1.10   \n",
       "2                             1.15                           0.95   \n",
       "3                             0.20                           2.10   \n",
       "4                             0.00                           0.00   \n",
       "\n",
       "   median_xg_created_in_away_draws  median_xg_faced_in_away_draws  \\\n",
       "0                              0.7                            1.0   \n",
       "1                              0.0                            0.0   \n",
       "2                              1.4                            2.2   \n",
       "3                              0.0                            0.0   \n",
       "4                              0.0                            0.0   \n",
       "\n",
       "   median_xg_created_in_home_loss  median_xg_faced_in_home_loss  \\\n",
       "0                            1.05                          1.25   \n",
       "1                            1.70                          2.40   \n",
       "2                            1.00                          1.25   \n",
       "3                            0.00                          0.00   \n",
       "4                            0.00                          0.00   \n",
       "\n",
       "   median_xg_created_in_away_loss  median_xg_faced_in_away_loss  \n",
       "0                             0.9                          1.60  \n",
       "1                             1.2                          2.30  \n",
       "2                             0.6                          1.85  \n",
       "3                             0.0                          0.00  \n",
       "4                             0.4                          1.70  \n",
       "\n",
       "[5 rows x 37 columns]"
      ]
     },
     "execution_count": 33,
     "metadata": {},
     "output_type": "execute_result"
    }
   ],
   "source": [
    "manager_timeline_df.head()"
   ]
  },
  {
   "cell_type": "code",
   "execution_count": 34,
   "metadata": {
    "id": "chPQK-d8k5kP"
   },
   "outputs": [],
   "source": [
    "everton = team_timeline_classification['Everton']\n",
    "everton = everton.sort_values(['date'])"
   ]
  },
  {
   "cell_type": "code",
   "execution_count": 35,
   "metadata": {
    "id": "--bwOSh4lEri"
   },
   "outputs": [],
   "source": [
    "everton_mid_sack_index = list(everton[everton.is_mid_season_sack==True].index)"
   ]
  },
  {
   "cell_type": "code",
   "execution_count": 36,
   "metadata": {
    "id": "beUTCpH0sMpt"
   },
   "outputs": [],
   "source": [
    "def create_bounce_entry_for_team(team, num_matches=1):\n",
    "  team_df = team_timeline_classification[team]\n",
    "  team_df = team_df.sort_values(['date'])\n",
    "  team_df_new_manager_index = list(team_df[team_df.is_mid_season_sack==True].index)\n",
    "  team_bounce_stats = []\n",
    "  for idx in team_df_new_manager_index:\n",
    "    new_manager = team_df.iloc[idx]['manager']\n",
    "    new_manager_type = team_df.iloc[idx]['manager_type']\n",
    "    old_manager = team_df.iloc[idx-1]['manager']\n",
    "    old_manager_type = team_df.iloc[idx-1]['manager_type']\n",
    "    new_manager_matches = team_df.iloc[idx: idx+num_matches]\n",
    "    old_manager_matches = team_df.iloc[(idx-num_matches-1) if (idx-num_matches-1) >=0 else 0: idx-1]\n",
    "    new_manager_stats = add_suffix_to_all_keys(get_manager_stats_for_matches(new_manager_matches,new_manager, team), suffix='_new')\n",
    "    old_manager_stats = add_suffix_to_all_keys(get_manager_stats_for_matches(old_manager_matches,old_manager, team), suffix='_old')\n",
    "    bounce_stats = {**new_manager_stats, **old_manager_stats}\n",
    "    bounce_stats['league'] = list(team_df['league'].unique())[0]\n",
    "    bounce_stats['old_manager_type'] = old_manager_type\n",
    "    bounce_stats['new_manager_type'] = new_manager_type\n",
    "    team_bounce_stats.append(bounce_stats)\n",
    "  return pd.DataFrame(team_bounce_stats)\n",
    "\n",
    "\n",
    "\n"
   ]
  },
  {
   "cell_type": "code",
   "execution_count": 37,
   "metadata": {
    "id": "x94E7UNnTG4H"
   },
   "outputs": [],
   "source": [
    "def add_suffix_to_all_keys(d, suffix):\n",
    "  new_d = {}\n",
    "  for k in d.keys():\n",
    "    new_d[k+suffix] = d[k]\n",
    "  return new_d"
   ]
  },
  {
   "cell_type": "markdown",
   "metadata": {
    "id": "Y7RWmpbvihU1"
   },
   "source": [
    "### Analyzing bounce effect for first match alone"
   ]
  },
  {
   "cell_type": "code",
   "execution_count": 38,
   "metadata": {
    "colab": {
     "base_uri": "https://localhost:8080/"
    },
    "id": "sJh16LA1QQxP",
    "outputId": "3c84c82d-967d-4478-ffd7-d92bba97f0b7"
   },
   "outputs": [
    {
     "name": "stderr",
     "output_type": "stream",
     "text": [
      "100%|█████████████████████████████████████████| 141/141 [00:04<00:00, 33.99it/s]\n"
     ]
    }
   ],
   "source": [
    "all_teams_bounce = []\n",
    "for team in tqdm(team_timeline_classification.keys()):\n",
    "  all_teams_bounce.append(create_bounce_entry_for_team(team))\n",
    "all_bounce_df_first_match = pd.concat(all_teams_bounce)"
   ]
  },
  {
   "cell_type": "code",
   "execution_count": 39,
   "metadata": {
    "colab": {
     "base_uri": "https://localhost:8080/",
     "height": 644
    },
    "id": "FusnPBR9R4HZ",
    "outputId": "f1ec58a6-523c-420a-c7cf-fe046b297405"
   },
   "outputs": [
    {
     "data": {
      "text/html": [
       "<div>\n",
       "<style scoped>\n",
       "    .dataframe tbody tr th:only-of-type {\n",
       "        vertical-align: middle;\n",
       "    }\n",
       "\n",
       "    .dataframe tbody tr th {\n",
       "        vertical-align: top;\n",
       "    }\n",
       "\n",
       "    .dataframe thead th {\n",
       "        text-align: right;\n",
       "    }\n",
       "</style>\n",
       "<table border=\"1\" class=\"dataframe\">\n",
       "  <thead>\n",
       "    <tr style=\"text-align: right;\">\n",
       "      <th></th>\n",
       "      <th>name_new</th>\n",
       "      <th>team_new</th>\n",
       "      <th>start_date_new</th>\n",
       "      <th>end_date_new</th>\n",
       "      <th>home_wins_new</th>\n",
       "      <th>away_wins_new</th>\n",
       "      <th>home_loss_new</th>\n",
       "      <th>away_loss_new</th>\n",
       "      <th>home_draws_new</th>\n",
       "      <th>away_draws_new</th>\n",
       "      <th>...</th>\n",
       "      <th>median_xg_faced_in_home_draws_old</th>\n",
       "      <th>median_xg_created_in_away_draws_old</th>\n",
       "      <th>median_xg_faced_in_away_draws_old</th>\n",
       "      <th>median_xg_created_in_home_loss_old</th>\n",
       "      <th>median_xg_faced_in_home_loss_old</th>\n",
       "      <th>median_xg_created_in_away_loss_old</th>\n",
       "      <th>median_xg_faced_in_away_loss_old</th>\n",
       "      <th>league</th>\n",
       "      <th>old_manager_type</th>\n",
       "      <th>new_manager_type</th>\n",
       "    </tr>\n",
       "  </thead>\n",
       "  <tbody>\n",
       "    <tr>\n",
       "      <th>0</th>\n",
       "      <td>Miguel Cardoso</td>\n",
       "      <td>Celta Vigo</td>\n",
       "      <td>2018-11-26</td>\n",
       "      <td>2018-11-26</td>\n",
       "      <td>0</td>\n",
       "      <td>0</td>\n",
       "      <td>0</td>\n",
       "      <td>1</td>\n",
       "      <td>0</td>\n",
       "      <td>0</td>\n",
       "      <td>...</td>\n",
       "      <td>0.0</td>\n",
       "      <td>2.1</td>\n",
       "      <td>1.7</td>\n",
       "      <td>0.0</td>\n",
       "      <td>0.0</td>\n",
       "      <td>0.0</td>\n",
       "      <td>0.0</td>\n",
       "      <td>LALIGA</td>\n",
       "      <td>PERMANENT</td>\n",
       "      <td>PERMANENT</td>\n",
       "    </tr>\n",
       "    <tr>\n",
       "      <th>1</th>\n",
       "      <td>Fran Escribá</td>\n",
       "      <td>Celta Vigo</td>\n",
       "      <td>2019-03-10</td>\n",
       "      <td>2019-03-10</td>\n",
       "      <td>0</td>\n",
       "      <td>0</td>\n",
       "      <td>1</td>\n",
       "      <td>0</td>\n",
       "      <td>0</td>\n",
       "      <td>0</td>\n",
       "      <td>...</td>\n",
       "      <td>0.0</td>\n",
       "      <td>0.5</td>\n",
       "      <td>1.4</td>\n",
       "      <td>0.0</td>\n",
       "      <td>0.0</td>\n",
       "      <td>0.0</td>\n",
       "      <td>0.0</td>\n",
       "      <td>LALIGA</td>\n",
       "      <td>PERMANENT</td>\n",
       "      <td>PERMANENT</td>\n",
       "    </tr>\n",
       "    <tr>\n",
       "      <th>2</th>\n",
       "      <td>Óscar García</td>\n",
       "      <td>Celta Vigo</td>\n",
       "      <td>2019-11-09</td>\n",
       "      <td>2019-11-09</td>\n",
       "      <td>0</td>\n",
       "      <td>0</td>\n",
       "      <td>0</td>\n",
       "      <td>1</td>\n",
       "      <td>0</td>\n",
       "      <td>0</td>\n",
       "      <td>...</td>\n",
       "      <td>0.0</td>\n",
       "      <td>0.0</td>\n",
       "      <td>0.0</td>\n",
       "      <td>0.0</td>\n",
       "      <td>0.0</td>\n",
       "      <td>1.7</td>\n",
       "      <td>1.0</td>\n",
       "      <td>LALIGA</td>\n",
       "      <td>PERMANENT</td>\n",
       "      <td>PERMANENT</td>\n",
       "    </tr>\n",
       "    <tr>\n",
       "      <th>3</th>\n",
       "      <td>Eduardo Coudet</td>\n",
       "      <td>Celta Vigo</td>\n",
       "      <td>2020-11-21</td>\n",
       "      <td>2020-11-21</td>\n",
       "      <td>0</td>\n",
       "      <td>0</td>\n",
       "      <td>0</td>\n",
       "      <td>1</td>\n",
       "      <td>0</td>\n",
       "      <td>0</td>\n",
       "      <td>...</td>\n",
       "      <td>0.0</td>\n",
       "      <td>0.0</td>\n",
       "      <td>0.0</td>\n",
       "      <td>1.6</td>\n",
       "      <td>2.0</td>\n",
       "      <td>0.0</td>\n",
       "      <td>0.0</td>\n",
       "      <td>LALIGA</td>\n",
       "      <td>PERMANENT</td>\n",
       "      <td>PERMANENT</td>\n",
       "    </tr>\n",
       "    <tr>\n",
       "      <th>4</th>\n",
       "      <td>Carlos Carvalhal</td>\n",
       "      <td>Celta Vigo</td>\n",
       "      <td>2022-11-05</td>\n",
       "      <td>2022-11-05</td>\n",
       "      <td>0</td>\n",
       "      <td>0</td>\n",
       "      <td>1</td>\n",
       "      <td>0</td>\n",
       "      <td>0</td>\n",
       "      <td>0</td>\n",
       "      <td>...</td>\n",
       "      <td>0.2</td>\n",
       "      <td>0.0</td>\n",
       "      <td>0.0</td>\n",
       "      <td>0.0</td>\n",
       "      <td>0.0</td>\n",
       "      <td>0.0</td>\n",
       "      <td>0.0</td>\n",
       "      <td>LALIGA</td>\n",
       "      <td>PERMANENT</td>\n",
       "      <td>PERMANENT</td>\n",
       "    </tr>\n",
       "    <tr>\n",
       "      <th>...</th>\n",
       "      <td>...</td>\n",
       "      <td>...</td>\n",
       "      <td>...</td>\n",
       "      <td>...</td>\n",
       "      <td>...</td>\n",
       "      <td>...</td>\n",
       "      <td>...</td>\n",
       "      <td>...</td>\n",
       "      <td>...</td>\n",
       "      <td>...</td>\n",
       "      <td>...</td>\n",
       "      <td>...</td>\n",
       "      <td>...</td>\n",
       "      <td>...</td>\n",
       "      <td>...</td>\n",
       "      <td>...</td>\n",
       "      <td>...</td>\n",
       "      <td>...</td>\n",
       "      <td>...</td>\n",
       "      <td>...</td>\n",
       "      <td>...</td>\n",
       "    </tr>\n",
       "    <tr>\n",
       "      <th>0</th>\n",
       "      <td>Gennaro Gattuso</td>\n",
       "      <td>Milan</td>\n",
       "      <td>2017-12-03</td>\n",
       "      <td>2017-12-03</td>\n",
       "      <td>0</td>\n",
       "      <td>0</td>\n",
       "      <td>0</td>\n",
       "      <td>0</td>\n",
       "      <td>0</td>\n",
       "      <td>1</td>\n",
       "      <td>...</td>\n",
       "      <td>0.0</td>\n",
       "      <td>0.0</td>\n",
       "      <td>0.0</td>\n",
       "      <td>0.0</td>\n",
       "      <td>0.0</td>\n",
       "      <td>0.6</td>\n",
       "      <td>1.5</td>\n",
       "      <td>SERIE_A</td>\n",
       "      <td>PERMANENT</td>\n",
       "      <td>PERMANENT</td>\n",
       "    </tr>\n",
       "    <tr>\n",
       "      <th>1</th>\n",
       "      <td>Stefano Pioli</td>\n",
       "      <td>Milan</td>\n",
       "      <td>2019-10-20</td>\n",
       "      <td>2019-10-20</td>\n",
       "      <td>0</td>\n",
       "      <td>0</td>\n",
       "      <td>0</td>\n",
       "      <td>0</td>\n",
       "      <td>1</td>\n",
       "      <td>0</td>\n",
       "      <td>...</td>\n",
       "      <td>0.0</td>\n",
       "      <td>0.0</td>\n",
       "      <td>0.0</td>\n",
       "      <td>0.6</td>\n",
       "      <td>2.5</td>\n",
       "      <td>0.0</td>\n",
       "      <td>0.0</td>\n",
       "      <td>SERIE_A</td>\n",
       "      <td>PERMANENT</td>\n",
       "      <td>PERMANENT</td>\n",
       "    </tr>\n",
       "    <tr>\n",
       "      <th>0</th>\n",
       "      <td>Javier Aguirre</td>\n",
       "      <td>Mallorca</td>\n",
       "      <td>2022-04-02</td>\n",
       "      <td>2022-04-02</td>\n",
       "      <td>0</td>\n",
       "      <td>0</td>\n",
       "      <td>0</td>\n",
       "      <td>1</td>\n",
       "      <td>0</td>\n",
       "      <td>0</td>\n",
       "      <td>...</td>\n",
       "      <td>0.0</td>\n",
       "      <td>0.0</td>\n",
       "      <td>0.0</td>\n",
       "      <td>1.4</td>\n",
       "      <td>1.8</td>\n",
       "      <td>0.0</td>\n",
       "      <td>0.0</td>\n",
       "      <td>LALIGA</td>\n",
       "      <td>PERMANENT</td>\n",
       "      <td>PERMANENT</td>\n",
       "    </tr>\n",
       "    <tr>\n",
       "      <th>0</th>\n",
       "      <td>Heiko Butscher</td>\n",
       "      <td>Bochum</td>\n",
       "      <td>2022-09-18</td>\n",
       "      <td>2022-09-18</td>\n",
       "      <td>0</td>\n",
       "      <td>0</td>\n",
       "      <td>0</td>\n",
       "      <td>0</td>\n",
       "      <td>1</td>\n",
       "      <td>0</td>\n",
       "      <td>...</td>\n",
       "      <td>0.0</td>\n",
       "      <td>0.0</td>\n",
       "      <td>0.0</td>\n",
       "      <td>0.8</td>\n",
       "      <td>2.0</td>\n",
       "      <td>0.0</td>\n",
       "      <td>0.0</td>\n",
       "      <td>BUNDESLIGA</td>\n",
       "      <td>PERMANENT</td>\n",
       "      <td>INTERIM</td>\n",
       "    </tr>\n",
       "    <tr>\n",
       "      <th>1</th>\n",
       "      <td>Thomas Letsch</td>\n",
       "      <td>Bochum</td>\n",
       "      <td>2022-10-01</td>\n",
       "      <td>2022-10-01</td>\n",
       "      <td>0</td>\n",
       "      <td>0</td>\n",
       "      <td>0</td>\n",
       "      <td>1</td>\n",
       "      <td>0</td>\n",
       "      <td>0</td>\n",
       "      <td>...</td>\n",
       "      <td>0.0</td>\n",
       "      <td>0.0</td>\n",
       "      <td>0.0</td>\n",
       "      <td>0.0</td>\n",
       "      <td>0.0</td>\n",
       "      <td>1.1</td>\n",
       "      <td>1.5</td>\n",
       "      <td>BUNDESLIGA</td>\n",
       "      <td>INTERIM</td>\n",
       "      <td>PERMANENT</td>\n",
       "    </tr>\n",
       "  </tbody>\n",
       "</table>\n",
       "<p>328 rows × 77 columns</p>\n",
       "</div>"
      ],
      "text/plain": [
       "            name_new    team_new start_date_new end_date_new  home_wins_new  \\\n",
       "0     Miguel Cardoso  Celta Vigo     2018-11-26   2018-11-26              0   \n",
       "1       Fran Escribá  Celta Vigo     2019-03-10   2019-03-10              0   \n",
       "2       Óscar García  Celta Vigo     2019-11-09   2019-11-09              0   \n",
       "3     Eduardo Coudet  Celta Vigo     2020-11-21   2020-11-21              0   \n",
       "4   Carlos Carvalhal  Celta Vigo     2022-11-05   2022-11-05              0   \n",
       "..               ...         ...            ...          ...            ...   \n",
       "0    Gennaro Gattuso       Milan     2017-12-03   2017-12-03              0   \n",
       "1      Stefano Pioli       Milan     2019-10-20   2019-10-20              0   \n",
       "0     Javier Aguirre    Mallorca     2022-04-02   2022-04-02              0   \n",
       "0     Heiko Butscher      Bochum     2022-09-18   2022-09-18              0   \n",
       "1      Thomas Letsch      Bochum     2022-10-01   2022-10-01              0   \n",
       "\n",
       "    away_wins_new  home_loss_new  away_loss_new  home_draws_new  \\\n",
       "0               0              0              1               0   \n",
       "1               0              1              0               0   \n",
       "2               0              0              1               0   \n",
       "3               0              0              1               0   \n",
       "4               0              1              0               0   \n",
       "..            ...            ...            ...             ...   \n",
       "0               0              0              0               0   \n",
       "1               0              0              0               1   \n",
       "0               0              0              1               0   \n",
       "0               0              0              0               1   \n",
       "1               0              0              1               0   \n",
       "\n",
       "    away_draws_new  ...  median_xg_faced_in_home_draws_old  \\\n",
       "0                0  ...                                0.0   \n",
       "1                0  ...                                0.0   \n",
       "2                0  ...                                0.0   \n",
       "3                0  ...                                0.0   \n",
       "4                0  ...                                0.2   \n",
       "..             ...  ...                                ...   \n",
       "0                1  ...                                0.0   \n",
       "1                0  ...                                0.0   \n",
       "0                0  ...                                0.0   \n",
       "0                0  ...                                0.0   \n",
       "1                0  ...                                0.0   \n",
       "\n",
       "    median_xg_created_in_away_draws_old  median_xg_faced_in_away_draws_old  \\\n",
       "0                                   2.1                                1.7   \n",
       "1                                   0.5                                1.4   \n",
       "2                                   0.0                                0.0   \n",
       "3                                   0.0                                0.0   \n",
       "4                                   0.0                                0.0   \n",
       "..                                  ...                                ...   \n",
       "0                                   0.0                                0.0   \n",
       "1                                   0.0                                0.0   \n",
       "0                                   0.0                                0.0   \n",
       "0                                   0.0                                0.0   \n",
       "1                                   0.0                                0.0   \n",
       "\n",
       "    median_xg_created_in_home_loss_old  median_xg_faced_in_home_loss_old  \\\n",
       "0                                  0.0                               0.0   \n",
       "1                                  0.0                               0.0   \n",
       "2                                  0.0                               0.0   \n",
       "3                                  1.6                               2.0   \n",
       "4                                  0.0                               0.0   \n",
       "..                                 ...                               ...   \n",
       "0                                  0.0                               0.0   \n",
       "1                                  0.6                               2.5   \n",
       "0                                  1.4                               1.8   \n",
       "0                                  0.8                               2.0   \n",
       "1                                  0.0                               0.0   \n",
       "\n",
       "    median_xg_created_in_away_loss_old  median_xg_faced_in_away_loss_old  \\\n",
       "0                                  0.0                               0.0   \n",
       "1                                  0.0                               0.0   \n",
       "2                                  1.7                               1.0   \n",
       "3                                  0.0                               0.0   \n",
       "4                                  0.0                               0.0   \n",
       "..                                 ...                               ...   \n",
       "0                                  0.6                               1.5   \n",
       "1                                  0.0                               0.0   \n",
       "0                                  0.0                               0.0   \n",
       "0                                  0.0                               0.0   \n",
       "1                                  1.1                               1.5   \n",
       "\n",
       "        league  old_manager_type  new_manager_type  \n",
       "0       LALIGA         PERMANENT         PERMANENT  \n",
       "1       LALIGA         PERMANENT         PERMANENT  \n",
       "2       LALIGA         PERMANENT         PERMANENT  \n",
       "3       LALIGA         PERMANENT         PERMANENT  \n",
       "4       LALIGA         PERMANENT         PERMANENT  \n",
       "..         ...               ...               ...  \n",
       "0      SERIE_A         PERMANENT         PERMANENT  \n",
       "1      SERIE_A         PERMANENT         PERMANENT  \n",
       "0       LALIGA         PERMANENT         PERMANENT  \n",
       "0   BUNDESLIGA         PERMANENT           INTERIM  \n",
       "1   BUNDESLIGA           INTERIM         PERMANENT  \n",
       "\n",
       "[328 rows x 77 columns]"
      ]
     },
     "execution_count": 39,
     "metadata": {},
     "output_type": "execute_result"
    }
   ],
   "source": [
    "all_bounce_df_first_match"
   ]
  },
  {
   "cell_type": "code",
   "execution_count": 40,
   "metadata": {
    "id": "WkDwLdPFaM2H"
   },
   "outputs": [],
   "source": [
    "bounce_short_df = all_bounce_df_first_match[['name_new', 'name_old', 'home_wins_new', 'home_wins_old', 'away_wins_new', 'away_wins_old', 'home_draws_new', 'home_draws_old', 'away_draws_new', 'away_draws_old', 'home_loss_new', 'home_loss_old', 'away_loss_new', 'away_loss_old', 'team_old', 'team_new', 'league', 'new_manager_type', 'old_manager_type', 'start_date_new', 'start_date_old']]"
   ]
  },
  {
   "cell_type": "code",
   "execution_count": 41,
   "metadata": {
    "id": "CEgx3nhVisx4"
   },
   "outputs": [],
   "source": [
    "bounce_short_df['wins_new'] = bounce_short_df['home_wins_new'] + bounce_short_df['away_wins_new']\n",
    "bounce_short_df['wins_old'] = bounce_short_df['home_wins_old'] + bounce_short_df['away_wins_old']\n",
    "bounce_short_df['draws_new'] = bounce_short_df['home_draws_new'] + bounce_short_df['away_draws_new']\n",
    "bounce_short_df['draws_old'] = bounce_short_df['home_draws_old'] + bounce_short_df['away_draws_old']\n",
    "bounce_short_df['loss_new'] = bounce_short_df['home_loss_new'] + bounce_short_df['away_loss_new']\n",
    "bounce_short_df['loss_old'] = bounce_short_df['home_loss_old'] + bounce_short_df['away_loss_old']"
   ]
  },
  {
   "cell_type": "code",
   "execution_count": 42,
   "metadata": {
    "id": "S7dObfDMo1_g"
   },
   "outputs": [],
   "source": [
    "def determine_new_bounce_result(row):\n",
    "  if row['wins_new'] == 1:\n",
    "    return \"WIN\"\n",
    "  elif row['draws_new'] == 1:\n",
    "    return \"DRAW\"\n",
    "  elif row['loss_new'] == 1:\n",
    "    return \"LOSS\"\n",
    "  return None"
   ]
  },
  {
   "cell_type": "code",
   "execution_count": 43,
   "metadata": {
    "id": "3ZqzgphlpYUG"
   },
   "outputs": [],
   "source": [
    "def determine_new_bounce_cause(row):\n",
    "  if row['wins_old'] == 1:\n",
    "    return \"WIN\"\n",
    "  elif row['draws_old'] == 1:\n",
    "    return \"DRAW\"\n",
    "  elif row['loss_old'] == 1:\n",
    "    return \"LOSS\"\n",
    "  return None"
   ]
  },
  {
   "cell_type": "code",
   "execution_count": 44,
   "metadata": {
    "id": "dIM9dAMufdfW"
   },
   "outputs": [],
   "source": [
    "def determine_match_location(row):\n",
    "  if row['home_wins_new'] == 1 or row['home_draws_new'] == 1 or row['home_loss_new'] == 1:\n",
    "    return 'HOME'\n",
    "  elif row['away_wins_new'] == 1 or row['away_draws_new'] == 1 or row['away_loss_new'] == 1:\n",
    "    return 'AWAY'\n",
    "  return None"
   ]
  },
  {
   "cell_type": "code",
   "execution_count": 45,
   "metadata": {
    "id": "OcvQ0pirnVNx"
   },
   "outputs": [],
   "source": [
    "bounce_short_df['first_bounce_effect'] = bounce_short_df.apply(lambda x: determine_new_bounce_result(x), axis=1)"
   ]
  },
  {
   "cell_type": "code",
   "execution_count": 46,
   "metadata": {
    "id": "gq4MXMC-pOin"
   },
   "outputs": [],
   "source": [
    "bounce_short_df['first_bounce_cause'] = bounce_short_df.apply(lambda x: determine_new_bounce_cause(x), axis=1)"
   ]
  },
  {
   "cell_type": "code",
   "execution_count": 47,
   "metadata": {
    "id": "9pkvXUGggAR7"
   },
   "outputs": [],
   "source": [
    "bounce_short_df['match_location'] = bounce_short_df.apply(lambda x: determine_match_location(x), axis=1)"
   ]
  },
  {
   "cell_type": "code",
   "execution_count": 48,
   "metadata": {
    "colab": {
     "base_uri": "https://localhost:8080/"
    },
    "id": "CTjQFF4rpquH",
    "outputId": "557bc578-0c29-428e-934b-16905fc95fe3"
   },
   "outputs": [
    {
     "data": {
      "text/plain": [
       "first_bounce_effect\n",
       "LOSS    133\n",
       "DRAW     99\n",
       "WIN      96\n",
       "Name: count, dtype: int64"
      ]
     },
     "execution_count": 48,
     "metadata": {},
     "output_type": "execute_result"
    }
   ],
   "source": [
    "bounce_short_df['first_bounce_effect'].value_counts()"
   ]
  },
  {
   "cell_type": "code",
   "execution_count": 49,
   "metadata": {
    "colab": {
     "base_uri": "https://localhost:8080/"
    },
    "id": "NyRXjpMupkSG",
    "outputId": "59b58515-859f-4503-8f40-c11b9400597a"
   },
   "outputs": [
    {
     "data": {
      "text/plain": [
       "first_bounce_cause\n",
       "LOSS    208\n",
       "DRAW     89\n",
       "WIN      31\n",
       "Name: count, dtype: int64"
      ]
     },
     "execution_count": 49,
     "metadata": {},
     "output_type": "execute_result"
    }
   ],
   "source": [
    "bounce_short_df['first_bounce_cause'].value_counts()"
   ]
  },
  {
   "cell_type": "code",
   "execution_count": 50,
   "metadata": {},
   "outputs": [],
   "source": [
    "bounce_transitions = bounce_short_df.groupby(['first_bounce_cause', 'first_bounce_effect'])['name_new'].count().reset_index(drop=False)\n",
    "bounce_transitions.columns = ['old_manager_last_game_result', 'new_manager_first_game_result', 'counts']"
   ]
  },
  {
   "cell_type": "code",
   "execution_count": 51,
   "metadata": {},
   "outputs": [
    {
     "data": {
      "text/html": [
       "<div>\n",
       "<style scoped>\n",
       "    .dataframe tbody tr th:only-of-type {\n",
       "        vertical-align: middle;\n",
       "    }\n",
       "\n",
       "    .dataframe tbody tr th {\n",
       "        vertical-align: top;\n",
       "    }\n",
       "\n",
       "    .dataframe thead th {\n",
       "        text-align: right;\n",
       "    }\n",
       "</style>\n",
       "<table border=\"1\" class=\"dataframe\">\n",
       "  <thead>\n",
       "    <tr style=\"text-align: right;\">\n",
       "      <th></th>\n",
       "      <th>old_manager_last_game_result</th>\n",
       "      <th>new_manager_first_game_result</th>\n",
       "      <th>counts</th>\n",
       "    </tr>\n",
       "  </thead>\n",
       "  <tbody>\n",
       "    <tr>\n",
       "      <th>0</th>\n",
       "      <td>DRAW</td>\n",
       "      <td>DRAW</td>\n",
       "      <td>26</td>\n",
       "    </tr>\n",
       "    <tr>\n",
       "      <th>1</th>\n",
       "      <td>DRAW</td>\n",
       "      <td>LOSS</td>\n",
       "      <td>30</td>\n",
       "    </tr>\n",
       "    <tr>\n",
       "      <th>2</th>\n",
       "      <td>DRAW</td>\n",
       "      <td>WIN</td>\n",
       "      <td>33</td>\n",
       "    </tr>\n",
       "    <tr>\n",
       "      <th>3</th>\n",
       "      <td>LOSS</td>\n",
       "      <td>DRAW</td>\n",
       "      <td>64</td>\n",
       "    </tr>\n",
       "    <tr>\n",
       "      <th>4</th>\n",
       "      <td>LOSS</td>\n",
       "      <td>LOSS</td>\n",
       "      <td>91</td>\n",
       "    </tr>\n",
       "    <tr>\n",
       "      <th>5</th>\n",
       "      <td>LOSS</td>\n",
       "      <td>WIN</td>\n",
       "      <td>53</td>\n",
       "    </tr>\n",
       "    <tr>\n",
       "      <th>6</th>\n",
       "      <td>WIN</td>\n",
       "      <td>DRAW</td>\n",
       "      <td>9</td>\n",
       "    </tr>\n",
       "    <tr>\n",
       "      <th>7</th>\n",
       "      <td>WIN</td>\n",
       "      <td>LOSS</td>\n",
       "      <td>12</td>\n",
       "    </tr>\n",
       "    <tr>\n",
       "      <th>8</th>\n",
       "      <td>WIN</td>\n",
       "      <td>WIN</td>\n",
       "      <td>10</td>\n",
       "    </tr>\n",
       "  </tbody>\n",
       "</table>\n",
       "</div>"
      ],
      "text/plain": [
       "  old_manager_last_game_result new_manager_first_game_result  counts\n",
       "0                         DRAW                          DRAW      26\n",
       "1                         DRAW                          LOSS      30\n",
       "2                         DRAW                           WIN      33\n",
       "3                         LOSS                          DRAW      64\n",
       "4                         LOSS                          LOSS      91\n",
       "5                         LOSS                           WIN      53\n",
       "6                          WIN                          DRAW       9\n",
       "7                          WIN                          LOSS      12\n",
       "8                          WIN                           WIN      10"
      ]
     },
     "execution_count": 51,
     "metadata": {},
     "output_type": "execute_result"
    }
   ],
   "source": [
    "bounce_transitions"
   ]
  },
  {
   "cell_type": "code",
   "execution_count": 52,
   "metadata": {},
   "outputs": [],
   "source": [
    "bounce_short_df['year'] = bounce_short_df['start_date_new'].dt.year"
   ]
  },
  {
   "cell_type": "code",
   "execution_count": 53,
   "metadata": {
    "id": "i8NL65fopmsD"
   },
   "outputs": [],
   "source": [
    "def determine_bounce(row):\n",
    "  bounce = False\n",
    "  if (row['first_bounce_effect'] == 'WIN' and row['first_bounce_cause'] == 'LOSS') or \\\n",
    "      (row['first_bounce_effect'] == 'DRAW' and row['first_bounce_cause'] == 'LOSS') or \\\n",
    "      (row['first_bounce_effect'] == 'WIN' and row['first_bounce_cause'] == 'DRAW'):\n",
    "      bounce = True\n",
    "  return bounce"
   ]
  },
  {
   "cell_type": "code",
   "execution_count": 54,
   "metadata": {
    "id": "u3muYtmlwNAy"
   },
   "outputs": [],
   "source": [
    "bounce_short_df['bounce_effect'] = bounce_short_df.apply(lambda x: determine_bounce(x), axis=1)"
   ]
  },
  {
   "cell_type": "code",
   "execution_count": 55,
   "metadata": {
    "colab": {
     "base_uri": "https://localhost:8080/"
    },
    "id": "w6f5EBuYTJHw",
    "outputId": "5d3f7392-48cd-47e8-9db7-85a6bbce5d78"
   },
   "outputs": [],
   "source": [
    "bounce_short_df['bounce_value'] = bounce_short_df['bounce_effect'].apply(lambda x: 'Bounce' if x else 'No-Bounce')"
   ]
  },
  {
   "cell_type": "code",
   "execution_count": null,
   "metadata": {},
   "outputs": [],
   "source": []
  },
  {
   "cell_type": "markdown",
   "metadata": {},
   "source": [
    "### Visualization starts here"
   ]
  },
  {
   "cell_type": "code",
   "execution_count": 56,
   "metadata": {},
   "outputs": [],
   "source": [
    "viz_df = bounce_short_df.copy()"
   ]
  },
  {
   "cell_type": "code",
   "execution_count": 57,
   "metadata": {},
   "outputs": [],
   "source": [
    "viz_df['bounce_value'] = viz_df['bounce_value'].astype('category')\n",
    "viz_df['league'] = viz_df['league'].astype('category')\n",
    "viz_df['match_location'] = viz_df['match_location'].astype('category')\n",
    "viz_df['new_manager_type'] = viz_df['new_manager_type'].astype('category')"
   ]
  },
  {
   "cell_type": "code",
   "execution_count": 58,
   "metadata": {},
   "outputs": [
    {
     "name": "stderr",
     "output_type": "stream",
     "text": [
      "No artists with labels found to put in legend.  Note that artists whose label start with an underscore are ignored when legend() is called with no argument.\n",
      "No artists with labels found to put in legend.  Note that artists whose label start with an underscore are ignored when legend() is called with no argument.\n"
     ]
    },
    {
     "data": {
      "image/png": "[encoded data removed]",
      "text/plain": [
       "<Figure size 1600x600 with 2 Axes>"
      ]
     },
     "metadata": {},
     "output_type": "display_data"
    }
   ],
   "source": [
    "import matplotlib.pyplot as plt\n",
    "import seaborn as sns\n",
    "\n",
    "# Set the style\n",
    "#sns.set(style='whitegrid')\n",
    "\n",
    "# Create a figure with two subplots\n",
    "fig, axes = plt.subplots(1, 2, figsize=(16, 6))\n",
    "\n",
    "hue_order = ['LOSS', 'DRAW', 'WIN']\n",
    "set1_colors = sns.color_palette('Set1')\n",
    "category_colors = {'LOSS': set1_colors[0],  # Red from Set1 palette\n",
    "                   'DRAW': set1_colors[1],\n",
    "                    'WIN': set1_colors[2]}    # Blue from Set1 palette\n",
    "\n",
    "# Plot the first displot on the first subplot\n",
    "sns.histplot(data=viz_df, x='first_bounce_cause', hue=\"first_bounce_cause\", hue_order = hue_order, palette=category_colors, ax=axes[0])\n",
    "axes[0].set_title('Old Manager Last Game Result Distribution')\n",
    "axes[0].set_xlabel('')  # Remove x-axis label\n",
    "axes[0].set_ylabel('')  # Remove y-axis label\n",
    "\n",
    "# Plot the second displot on the second subplot\n",
    "sns.histplot(data=viz_df, x='first_bounce_effect', hue = \"first_bounce_effect\", hue_order = hue_order, palette= category_colors, ax=axes[1])\n",
    "axes[1].set_title('New Manager First Game Result Distribution')\n",
    "axes[1].set_xlabel('')  # Remove x-axis label\n",
    "axes[1].set_ylabel('')  # Remove y-axis label\n",
    "\n",
    "\n",
    "axes[0].legend().set_visible(False)\n",
    "axes[1].legend().set_visible(False)\n",
    "\n",
    "\n",
    "# Set common labels and title\n",
    "fig.text(0.5, -0.02, 'Results of games', ha='center')\n",
    "fig.suptitle('How has a new manager affected the distribution of results ?', fontsize=20)\n",
    "\n",
    "# Adjust spacing between subplots\n",
    "plt.tight_layout()\n",
    "\n",
    "# Show the plot\n",
    "plt.show()\n"
   ]
  },
  {
   "cell_type": "code",
   "execution_count": 59,
   "metadata": {},
   "outputs": [
    {
     "data": {
      "text/plain": [
       "Text(0.5, 1.0, 'New Manager Bounce - How Consistently has it occured ?')"
      ]
     },
     "execution_count": 59,
     "metadata": {},
     "output_type": "execute_result"
    },
    {
     "data": {
      "image/png": "[encoded data removed]",
      "text/plain": [
       "<Figure size 1600x900 with 1 Axes>"
      ]
     },
     "metadata": {},
     "output_type": "display_data"
    }
   ],
   "source": [
    "plt.figure(figsize=(16,9))\n",
    "# Define custom color palette\n",
    "\n",
    "# Get colors from the Set1 palette\n",
    "set1_colors = sns.color_palette('Set1')\n",
    "\n",
    "# Define a dictionary to map categories to colors\n",
    "category_colors = {'No-Bounce': set1_colors[0],  # Red from Set1 palette\n",
    "                   'Bounce': set1_colors[1]}    # Blue from Set1 palette\n",
    "sns.countplot(data=viz_df, x='bounce_value', palette=category_colors)\n",
    "plt.xlabel('New Manager Bounce')\n",
    "plt.ylabel('Number of Instances')\n",
    "plt.title('New Manager Bounce - How Consistently has it occured ?', fontsize=20)"
   ]
  },
  {
   "cell_type": "code",
   "execution_count": 60,
   "metadata": {},
   "outputs": [
    {
     "data": {
      "text/plain": [
       "Text(0.5, 1.0, 'How has New Manager bounce differed in the years ?')"
      ]
     },
     "execution_count": 60,
     "metadata": {},
     "output_type": "execute_result"
    },
    {
     "data": {
      "image/png": "[encoded data removed]",
      "text/plain": [
       "<Figure size 1600x900 with 1 Axes>"
      ]
     },
     "metadata": {},
     "output_type": "display_data"
    }
   ],
   "source": [
    "plt.figure(figsize=(16,9))\n",
    "# Define a dictionary to map categories to colors\n",
    "category_colors = {'No-Bounce': set1_colors[0],  # Red from Set1 palette\n",
    "                   'Bounce': set1_colors[1]}    # Blue from Set1 palette\n",
    "sns.countplot(data=viz_df, x='year', hue='bounce_value', palette=category_colors)\n",
    "plt.ylabel('Number of Matches')\n",
    "plt.xlabel('Year')\n",
    "plt.title('How has New Manager bounce differed in the years ?', fontsize=20)"
   ]
  },
  {
   "cell_type": "code",
   "execution_count": 61,
   "metadata": {},
   "outputs": [
    {
     "data": {
      "text/plain": [
       "Text(0.5, 1.0, 'How has New Manager bounce differed in the different european leagues ?')"
      ]
     },
     "execution_count": 61,
     "metadata": {},
     "output_type": "execute_result"
    },
    {
     "data": {
      "image/png": "[encoded data removed]",
      "text/plain": [
       "<Figure size 1600x900 with 1 Axes>"
      ]
     },
     "metadata": {},
     "output_type": "display_data"
    }
   ],
   "source": [
    "plt.figure(figsize=(16,9))\n",
    "category_colors = {'No-Bounce': set1_colors[0],  # Red from Set1 palette\n",
    "                   'Bounce': set1_colors[1]}    # Blue from Set1 palette\n",
    "sns.countplot(data=viz_df, x='league', hue='bounce_value', palette=category_colors)\n",
    "plt.ylabel('Number of Matches')\n",
    "plt.xlabel('League')\n",
    "plt.title('How has New Manager bounce differed in the different european leagues ?', fontsize=20)"
   ]
  },
  {
   "cell_type": "code",
   "execution_count": 62,
   "metadata": {},
   "outputs": [
    {
     "data": {
      "text/plain": [
       "Text(0.5, 1.0, 'Has the type of manager affected New Manager Bounce ?')"
      ]
     },
     "execution_count": 62,
     "metadata": {},
     "output_type": "execute_result"
    },
    {
     "data": {
      "image/png": "[encoded data removed]",
      "text/plain": [
       "<Figure size 1600x900 with 1 Axes>"
      ]
     },
     "metadata": {},
     "output_type": "display_data"
    }
   ],
   "source": [
    "plt.figure(figsize=(16,9))\n",
    "category_colors = {'No-Bounce': set1_colors[0],  # Red from Set1 palette\n",
    "                   'Bounce': set1_colors[1]}    # Blue from Set1 palette\n",
    "sns.countplot(data=viz_df, x='new_manager_type', hue='bounce_value', palette=category_colors)\n",
    "plt.xlabel(\"New Manager Type\")\n",
    "plt.ylabel(\"Number of Matches\")\n",
    "plt.title(\"Has the type of manager affected New Manager Bounce ?\", fontsize=20)"
   ]
  },
  {
   "cell_type": "code",
   "execution_count": 63,
   "metadata": {},
   "outputs": [
    {
     "data": {
      "text/plain": [
       "Text(0.5, 1.0, 'Does the location of the first match affect New Manager Bounce ?')"
      ]
     },
     "execution_count": 63,
     "metadata": {},
     "output_type": "execute_result"
    },
    {
     "data": {
      "image/png": "[encoded data removed]",
      "text/plain": [
       "<Figure size 1600x900 with 1 Axes>"
      ]
     },
     "metadata": {},
     "output_type": "display_data"
    }
   ],
   "source": [
    "plt.figure(figsize=(16,9))\n",
    "ategory_colors = {'No-Bounce': set1_colors[0],  # Red from Set1 palette\n",
    "                   'Bounce': set1_colors[1]}    # Blue from Set1 palette\n",
    "sns.countplot(data=viz_df, x='match_location', hue='bounce_value', palette=category_colors)\n",
    "plt.xlabel(\"Match Location\")\n",
    "plt.ylabel(\"Number of Matches\")\n",
    "plt.title(\"Does the location of the first match affect New Manager Bounce ?\", fontsize=20)"
   ]
  },
  {
   "cell_type": "code",
   "execution_count": 64,
   "metadata": {},
   "outputs": [],
   "source": [
    "def countplot_wrapper(x, hue, **kwargs):\n",
    "    sns.countplot(x=x, hue=hue, **kwargs)"
   ]
  },
  {
   "cell_type": "code",
   "execution_count": 65,
   "metadata": {},
   "outputs": [
    {
     "data": {
      "image/png": "[encoded data removed]",
      "text/plain": [
       "<Figure size 1600x900 with 1 Axes>"
      ]
     },
     "metadata": {},
     "output_type": "display_data"
    },
    {
     "data": {
      "image/png": "[encoded data removed]",
      "text/plain": [
       "<Figure size 1600x900 with 1 Axes>"
      ]
     },
     "metadata": {},
     "output_type": "display_data"
    },
    {
     "data": {
      "image/png": "[encoded data removed]",
      "text/plain": [
       "<Figure size 1600x900 with 1 Axes>"
      ]
     },
     "metadata": {},
     "output_type": "display_data"
    },
    {
     "data": {
      "image/png": "[encoded data removed]",
      "text/plain": [
       "<Figure size 1600x900 with 1 Axes>"
      ]
     },
     "metadata": {},
     "output_type": "display_data"
    },
    {
     "data": {
      "image/png": "[encoded data removed]",
      "text/plain": [
       "<Figure size 1600x900 with 1 Axes>"
      ]
     },
     "metadata": {},
     "output_type": "display_data"
    }
   ],
   "source": [
    "for league in bounce_short_df['league'].unique():\n",
    "    plt.figure(figsize=(16, 9))\n",
    "    category_colors = {'No-Bounce': set1_colors[0],  # Red from Set1 palette\n",
    "                       'Bounce': set1_colors[1]}    # Blue from Set1 palette\n",
    "    df = bounce_short_df[bounce_short_df.league==league]\n",
    "    sns.countplot(data=df, x='year', hue='bounce_value', palette=category_colors)\n",
    "    plt.ylabel('Number of Matches')\n",
    "    plt.xlabel('League')\n",
    "    plt.title(f'How has manager bounce differed across years in {league}')"
   ]
  },
  {
   "cell_type": "code",
   "execution_count": 66,
   "metadata": {},
   "outputs": [
    {
     "data": {
      "text/plain": [
       "<Figure size 1600x1200 with 0 Axes>"
      ]
     },
     "metadata": {},
     "output_type": "display_data"
    },
    {
     "data": {
      "image/png": "[encoded data removed]",
      "text/plain": [
       "<Figure size 1375.25x500 with 5 Axes>"
      ]
     },
     "metadata": {},
     "output_type": "display_data"
    }
   ],
   "source": [
    "plt.figure(figsize=(16,12))\n",
    "\n",
    "pl = sns.FacetGrid(data=viz_df, col='league', height=5, aspect=0.5)\n",
    "category_colors = {'No-Bounce': set1_colors[0],  # Red from Set1 palette\n",
    "                       'Bounce': set1_colors[1]}    # Blue from \n",
    "pl = pl.map(countplot_wrapper, 'match_location', 'bounce_value', palette=category_colors)\n",
    "pl.add_legend()\n",
    "# Add a common title above the FacetGrid\n",
    "pl.set_axis_labels('Match Location', 'Number of Matches')\n",
    "\n",
    "plt.suptitle('How has New manager bounce differed in multiple leagues and by match location?', y=1.02, fontsize=20)\n",
    "\n",
    "# Adjust spacing between facets to avoid overlap\n",
    "plt.subplots_adjust(top=0.85)  # Adjust the top margin\n"
   ]
  },
  {
   "cell_type": "code",
   "execution_count": 67,
   "metadata": {},
   "outputs": [
    {
     "data": {
      "text/plain": [
       "league      match_location  bounce_value\n",
       "BUNDESLIGA  AWAY            Bounce          13\n",
       "                            No-Bounce       13\n",
       "            HOME            Bounce          11\n",
       "                            No-Bounce       21\n",
       "EPL         AWAY            Bounce          13\n",
       "                            No-Bounce       23\n",
       "            HOME            Bounce          22\n",
       "                            No-Bounce       13\n",
       "LALIGA      AWAY            Bounce          14\n",
       "                            No-Bounce       17\n",
       "            HOME            Bounce          20\n",
       "                            No-Bounce       22\n",
       "LIGUE_1     AWAY            Bounce           8\n",
       "                            No-Bounce       22\n",
       "            HOME            Bounce          16\n",
       "                            No-Bounce       14\n",
       "SERIE_A     AWAY            Bounce          17\n",
       "                            No-Bounce       14\n",
       "            HOME            Bounce          16\n",
       "                            No-Bounce       19\n",
       "dtype: int64"
      ]
     },
     "execution_count": 67,
     "metadata": {},
     "output_type": "execute_result"
    }
   ],
   "source": [
    "bounce_short_df.groupby(['league', 'match_location', 'bounce_value']).size()"
   ]
  },
  {
   "cell_type": "code",
   "execution_count": 68,
   "metadata": {
    "scrolled": true
   },
   "outputs": [
    {
     "data": {
      "text/plain": [
       "<seaborn.axisgrid.FacetGrid at 0x7f352eebd5b0>"
      ]
     },
     "execution_count": 68,
     "metadata": {},
     "output_type": "execute_result"
    },
    {
     "data": {
      "text/plain": [
       "<Figure size 1600x900 with 0 Axes>"
      ]
     },
     "metadata": {},
     "output_type": "display_data"
    },
    {
     "data": {
      "image/png": "[encoded data removed]",
      "text/plain": [
       "<Figure size 1375.25x500 with 5 Axes>"
      ]
     },
     "metadata": {},
     "output_type": "display_data"
    }
   ],
   "source": [
    "plt.figure(figsize=(16,9))\n",
    "\n",
    "pl = sns.FacetGrid(data=viz_df, col='league', height=5, aspect=0.5)\n",
    "category_colors = {'No-Bounce': set1_colors[0],  # Red from Set1 palette\n",
    "                       'Bounce': set1_colors[1]}\n",
    "pl = pl.map(countplot_wrapper, 'new_manager_type', 'bounce_value', palette=category_colors)\n",
    "pl.set_axis_labels('New Manager Type', 'Number of Matches')\n",
    "plt.suptitle('How has New manager bounce differed in multiple leagues and by new manager type?', y=1.12, fontsize=20)\n",
    "\n",
    "pl.add_legend()"
   ]
  },
  {
   "cell_type": "code",
   "execution_count": 69,
   "metadata": {},
   "outputs": [
    {
     "data": {
      "text/plain": [
       "league      new_manager_type  bounce_value\n",
       "BUNDESLIGA  INTERIM           Bounce           3\n",
       "                              No-Bounce        8\n",
       "            PERMANENT         Bounce          21\n",
       "                              No-Bounce       26\n",
       "EPL         INTERIM           Bounce           9\n",
       "                              No-Bounce       13\n",
       "            PERMANENT         Bounce          26\n",
       "                              No-Bounce       23\n",
       "LALIGA      INTERIM           Bounce           9\n",
       "                              No-Bounce        7\n",
       "            PERMANENT         Bounce          25\n",
       "                              No-Bounce       32\n",
       "LIGUE_1     INTERIM           Bounce           2\n",
       "                              No-Bounce        8\n",
       "            PERMANENT         Bounce          22\n",
       "                              No-Bounce       28\n",
       "SERIE_A     INTERIM           Bounce           5\n",
       "                              No-Bounce        5\n",
       "            PERMANENT         Bounce          28\n",
       "                              No-Bounce       28\n",
       "dtype: int64"
      ]
     },
     "execution_count": 69,
     "metadata": {},
     "output_type": "execute_result"
    }
   ],
   "source": [
    "bounce_short_df.groupby(['league', 'new_manager_type', 'bounce_value']).size()"
   ]
  },
  {
   "cell_type": "code",
   "execution_count": 70,
   "metadata": {},
   "outputs": [],
   "source": [
    "gg = bounce_short_df.groupby(['league', 'new_manager_type', 'match_location', 'bounce_value'])['name_new'].size().reset_index()"
   ]
  },
  {
   "cell_type": "code",
   "execution_count": 71,
   "metadata": {},
   "outputs": [],
   "source": [
    "gg_sums = bounce_short_df.groupby(['league', 'new_manager_type', 'match_location'])['name_new'].size().reset_index(drop=False)"
   ]
  },
  {
   "cell_type": "code",
   "execution_count": 72,
   "metadata": {},
   "outputs": [
    {
     "data": {
      "text/html": [
       "<div>\n",
       "<style scoped>\n",
       "    .dataframe tbody tr th:only-of-type {\n",
       "        vertical-align: middle;\n",
       "    }\n",
       "\n",
       "    .dataframe tbody tr th {\n",
       "        vertical-align: top;\n",
       "    }\n",
       "\n",
       "    .dataframe thead th {\n",
       "        text-align: right;\n",
       "    }\n",
       "</style>\n",
       "<table border=\"1\" class=\"dataframe\">\n",
       "  <thead>\n",
       "    <tr style=\"text-align: right;\">\n",
       "      <th></th>\n",
       "      <th>league</th>\n",
       "      <th>new_manager_type</th>\n",
       "      <th>match_location</th>\n",
       "      <th>name_new</th>\n",
       "    </tr>\n",
       "  </thead>\n",
       "  <tbody>\n",
       "    <tr>\n",
       "      <th>0</th>\n",
       "      <td>BUNDESLIGA</td>\n",
       "      <td>INTERIM</td>\n",
       "      <td>AWAY</td>\n",
       "      <td>5</td>\n",
       "    </tr>\n",
       "    <tr>\n",
       "      <th>1</th>\n",
       "      <td>BUNDESLIGA</td>\n",
       "      <td>INTERIM</td>\n",
       "      <td>HOME</td>\n",
       "      <td>6</td>\n",
       "    </tr>\n",
       "    <tr>\n",
       "      <th>2</th>\n",
       "      <td>BUNDESLIGA</td>\n",
       "      <td>PERMANENT</td>\n",
       "      <td>AWAY</td>\n",
       "      <td>21</td>\n",
       "    </tr>\n",
       "    <tr>\n",
       "      <th>3</th>\n",
       "      <td>BUNDESLIGA</td>\n",
       "      <td>PERMANENT</td>\n",
       "      <td>HOME</td>\n",
       "      <td>26</td>\n",
       "    </tr>\n",
       "    <tr>\n",
       "      <th>4</th>\n",
       "      <td>EPL</td>\n",
       "      <td>INTERIM</td>\n",
       "      <td>AWAY</td>\n",
       "      <td>13</td>\n",
       "    </tr>\n",
       "    <tr>\n",
       "      <th>5</th>\n",
       "      <td>EPL</td>\n",
       "      <td>INTERIM</td>\n",
       "      <td>HOME</td>\n",
       "      <td>9</td>\n",
       "    </tr>\n",
       "    <tr>\n",
       "      <th>6</th>\n",
       "      <td>EPL</td>\n",
       "      <td>PERMANENT</td>\n",
       "      <td>AWAY</td>\n",
       "      <td>23</td>\n",
       "    </tr>\n",
       "    <tr>\n",
       "      <th>7</th>\n",
       "      <td>EPL</td>\n",
       "      <td>PERMANENT</td>\n",
       "      <td>HOME</td>\n",
       "      <td>26</td>\n",
       "    </tr>\n",
       "    <tr>\n",
       "      <th>8</th>\n",
       "      <td>LALIGA</td>\n",
       "      <td>INTERIM</td>\n",
       "      <td>AWAY</td>\n",
       "      <td>6</td>\n",
       "    </tr>\n",
       "    <tr>\n",
       "      <th>9</th>\n",
       "      <td>LALIGA</td>\n",
       "      <td>INTERIM</td>\n",
       "      <td>HOME</td>\n",
       "      <td>10</td>\n",
       "    </tr>\n",
       "    <tr>\n",
       "      <th>10</th>\n",
       "      <td>LALIGA</td>\n",
       "      <td>PERMANENT</td>\n",
       "      <td>AWAY</td>\n",
       "      <td>25</td>\n",
       "    </tr>\n",
       "    <tr>\n",
       "      <th>11</th>\n",
       "      <td>LALIGA</td>\n",
       "      <td>PERMANENT</td>\n",
       "      <td>HOME</td>\n",
       "      <td>32</td>\n",
       "    </tr>\n",
       "    <tr>\n",
       "      <th>12</th>\n",
       "      <td>LIGUE_1</td>\n",
       "      <td>INTERIM</td>\n",
       "      <td>AWAY</td>\n",
       "      <td>7</td>\n",
       "    </tr>\n",
       "    <tr>\n",
       "      <th>13</th>\n",
       "      <td>LIGUE_1</td>\n",
       "      <td>INTERIM</td>\n",
       "      <td>HOME</td>\n",
       "      <td>3</td>\n",
       "    </tr>\n",
       "    <tr>\n",
       "      <th>14</th>\n",
       "      <td>LIGUE_1</td>\n",
       "      <td>PERMANENT</td>\n",
       "      <td>AWAY</td>\n",
       "      <td>23</td>\n",
       "    </tr>\n",
       "    <tr>\n",
       "      <th>15</th>\n",
       "      <td>LIGUE_1</td>\n",
       "      <td>PERMANENT</td>\n",
       "      <td>HOME</td>\n",
       "      <td>27</td>\n",
       "    </tr>\n",
       "    <tr>\n",
       "      <th>16</th>\n",
       "      <td>SERIE_A</td>\n",
       "      <td>INTERIM</td>\n",
       "      <td>AWAY</td>\n",
       "      <td>5</td>\n",
       "    </tr>\n",
       "    <tr>\n",
       "      <th>17</th>\n",
       "      <td>SERIE_A</td>\n",
       "      <td>INTERIM</td>\n",
       "      <td>HOME</td>\n",
       "      <td>5</td>\n",
       "    </tr>\n",
       "    <tr>\n",
       "      <th>18</th>\n",
       "      <td>SERIE_A</td>\n",
       "      <td>PERMANENT</td>\n",
       "      <td>AWAY</td>\n",
       "      <td>26</td>\n",
       "    </tr>\n",
       "    <tr>\n",
       "      <th>19</th>\n",
       "      <td>SERIE_A</td>\n",
       "      <td>PERMANENT</td>\n",
       "      <td>HOME</td>\n",
       "      <td>30</td>\n",
       "    </tr>\n",
       "  </tbody>\n",
       "</table>\n",
       "</div>"
      ],
      "text/plain": [
       "        league new_manager_type match_location  name_new\n",
       "0   BUNDESLIGA          INTERIM           AWAY         5\n",
       "1   BUNDESLIGA          INTERIM           HOME         6\n",
       "2   BUNDESLIGA        PERMANENT           AWAY        21\n",
       "3   BUNDESLIGA        PERMANENT           HOME        26\n",
       "4          EPL          INTERIM           AWAY        13\n",
       "5          EPL          INTERIM           HOME         9\n",
       "6          EPL        PERMANENT           AWAY        23\n",
       "7          EPL        PERMANENT           HOME        26\n",
       "8       LALIGA          INTERIM           AWAY         6\n",
       "9       LALIGA          INTERIM           HOME        10\n",
       "10      LALIGA        PERMANENT           AWAY        25\n",
       "11      LALIGA        PERMANENT           HOME        32\n",
       "12     LIGUE_1          INTERIM           AWAY         7\n",
       "13     LIGUE_1          INTERIM           HOME         3\n",
       "14     LIGUE_1        PERMANENT           AWAY        23\n",
       "15     LIGUE_1        PERMANENT           HOME        27\n",
       "16     SERIE_A          INTERIM           AWAY         5\n",
       "17     SERIE_A          INTERIM           HOME         5\n",
       "18     SERIE_A        PERMANENT           AWAY        26\n",
       "19     SERIE_A        PERMANENT           HOME        30"
      ]
     },
     "execution_count": 72,
     "metadata": {},
     "output_type": "execute_result"
    }
   ],
   "source": [
    "gg_sums"
   ]
  },
  {
   "cell_type": "code",
   "execution_count": 73,
   "metadata": {},
   "outputs": [
    {
     "data": {
      "text/html": [
       "<div>\n",
       "<style scoped>\n",
       "    .dataframe tbody tr th:only-of-type {\n",
       "        vertical-align: middle;\n",
       "    }\n",
       "\n",
       "    .dataframe tbody tr th {\n",
       "        vertical-align: top;\n",
       "    }\n",
       "\n",
       "    .dataframe thead th {\n",
       "        text-align: right;\n",
       "    }\n",
       "</style>\n",
       "<table border=\"1\" class=\"dataframe\">\n",
       "  <thead>\n",
       "    <tr style=\"text-align: right;\">\n",
       "      <th></th>\n",
       "      <th>league</th>\n",
       "      <th>new_manager_type</th>\n",
       "      <th>match_location</th>\n",
       "      <th>bounce_value</th>\n",
       "      <th>name_new</th>\n",
       "    </tr>\n",
       "  </thead>\n",
       "  <tbody>\n",
       "    <tr>\n",
       "      <th>0</th>\n",
       "      <td>BUNDESLIGA</td>\n",
       "      <td>INTERIM</td>\n",
       "      <td>AWAY</td>\n",
       "      <td>Bounce</td>\n",
       "      <td>1</td>\n",
       "    </tr>\n",
       "    <tr>\n",
       "      <th>1</th>\n",
       "      <td>BUNDESLIGA</td>\n",
       "      <td>INTERIM</td>\n",
       "      <td>AWAY</td>\n",
       "      <td>No-Bounce</td>\n",
       "      <td>4</td>\n",
       "    </tr>\n",
       "    <tr>\n",
       "      <th>2</th>\n",
       "      <td>BUNDESLIGA</td>\n",
       "      <td>INTERIM</td>\n",
       "      <td>HOME</td>\n",
       "      <td>Bounce</td>\n",
       "      <td>2</td>\n",
       "    </tr>\n",
       "    <tr>\n",
       "      <th>3</th>\n",
       "      <td>BUNDESLIGA</td>\n",
       "      <td>INTERIM</td>\n",
       "      <td>HOME</td>\n",
       "      <td>No-Bounce</td>\n",
       "      <td>4</td>\n",
       "    </tr>\n",
       "    <tr>\n",
       "      <th>4</th>\n",
       "      <td>BUNDESLIGA</td>\n",
       "      <td>PERMANENT</td>\n",
       "      <td>AWAY</td>\n",
       "      <td>Bounce</td>\n",
       "      <td>12</td>\n",
       "    </tr>\n",
       "    <tr>\n",
       "      <th>5</th>\n",
       "      <td>BUNDESLIGA</td>\n",
       "      <td>PERMANENT</td>\n",
       "      <td>AWAY</td>\n",
       "      <td>No-Bounce</td>\n",
       "      <td>9</td>\n",
       "    </tr>\n",
       "    <tr>\n",
       "      <th>6</th>\n",
       "      <td>BUNDESLIGA</td>\n",
       "      <td>PERMANENT</td>\n",
       "      <td>HOME</td>\n",
       "      <td>Bounce</td>\n",
       "      <td>9</td>\n",
       "    </tr>\n",
       "    <tr>\n",
       "      <th>7</th>\n",
       "      <td>BUNDESLIGA</td>\n",
       "      <td>PERMANENT</td>\n",
       "      <td>HOME</td>\n",
       "      <td>No-Bounce</td>\n",
       "      <td>17</td>\n",
       "    </tr>\n",
       "    <tr>\n",
       "      <th>8</th>\n",
       "      <td>EPL</td>\n",
       "      <td>INTERIM</td>\n",
       "      <td>AWAY</td>\n",
       "      <td>Bounce</td>\n",
       "      <td>5</td>\n",
       "    </tr>\n",
       "    <tr>\n",
       "      <th>9</th>\n",
       "      <td>EPL</td>\n",
       "      <td>INTERIM</td>\n",
       "      <td>AWAY</td>\n",
       "      <td>No-Bounce</td>\n",
       "      <td>8</td>\n",
       "    </tr>\n",
       "    <tr>\n",
       "      <th>10</th>\n",
       "      <td>EPL</td>\n",
       "      <td>INTERIM</td>\n",
       "      <td>HOME</td>\n",
       "      <td>Bounce</td>\n",
       "      <td>4</td>\n",
       "    </tr>\n",
       "    <tr>\n",
       "      <th>11</th>\n",
       "      <td>EPL</td>\n",
       "      <td>INTERIM</td>\n",
       "      <td>HOME</td>\n",
       "      <td>No-Bounce</td>\n",
       "      <td>5</td>\n",
       "    </tr>\n",
       "    <tr>\n",
       "      <th>12</th>\n",
       "      <td>EPL</td>\n",
       "      <td>PERMANENT</td>\n",
       "      <td>AWAY</td>\n",
       "      <td>Bounce</td>\n",
       "      <td>8</td>\n",
       "    </tr>\n",
       "    <tr>\n",
       "      <th>13</th>\n",
       "      <td>EPL</td>\n",
       "      <td>PERMANENT</td>\n",
       "      <td>AWAY</td>\n",
       "      <td>No-Bounce</td>\n",
       "      <td>15</td>\n",
       "    </tr>\n",
       "    <tr>\n",
       "      <th>14</th>\n",
       "      <td>EPL</td>\n",
       "      <td>PERMANENT</td>\n",
       "      <td>HOME</td>\n",
       "      <td>Bounce</td>\n",
       "      <td>18</td>\n",
       "    </tr>\n",
       "    <tr>\n",
       "      <th>15</th>\n",
       "      <td>EPL</td>\n",
       "      <td>PERMANENT</td>\n",
       "      <td>HOME</td>\n",
       "      <td>No-Bounce</td>\n",
       "      <td>8</td>\n",
       "    </tr>\n",
       "    <tr>\n",
       "      <th>16</th>\n",
       "      <td>LALIGA</td>\n",
       "      <td>INTERIM</td>\n",
       "      <td>AWAY</td>\n",
       "      <td>Bounce</td>\n",
       "      <td>2</td>\n",
       "    </tr>\n",
       "    <tr>\n",
       "      <th>17</th>\n",
       "      <td>LALIGA</td>\n",
       "      <td>INTERIM</td>\n",
       "      <td>AWAY</td>\n",
       "      <td>No-Bounce</td>\n",
       "      <td>4</td>\n",
       "    </tr>\n",
       "    <tr>\n",
       "      <th>18</th>\n",
       "      <td>LALIGA</td>\n",
       "      <td>INTERIM</td>\n",
       "      <td>HOME</td>\n",
       "      <td>Bounce</td>\n",
       "      <td>7</td>\n",
       "    </tr>\n",
       "    <tr>\n",
       "      <th>19</th>\n",
       "      <td>LALIGA</td>\n",
       "      <td>INTERIM</td>\n",
       "      <td>HOME</td>\n",
       "      <td>No-Bounce</td>\n",
       "      <td>3</td>\n",
       "    </tr>\n",
       "    <tr>\n",
       "      <th>20</th>\n",
       "      <td>LALIGA</td>\n",
       "      <td>PERMANENT</td>\n",
       "      <td>AWAY</td>\n",
       "      <td>Bounce</td>\n",
       "      <td>12</td>\n",
       "    </tr>\n",
       "    <tr>\n",
       "      <th>21</th>\n",
       "      <td>LALIGA</td>\n",
       "      <td>PERMANENT</td>\n",
       "      <td>AWAY</td>\n",
       "      <td>No-Bounce</td>\n",
       "      <td>13</td>\n",
       "    </tr>\n",
       "    <tr>\n",
       "      <th>22</th>\n",
       "      <td>LALIGA</td>\n",
       "      <td>PERMANENT</td>\n",
       "      <td>HOME</td>\n",
       "      <td>Bounce</td>\n",
       "      <td>13</td>\n",
       "    </tr>\n",
       "    <tr>\n",
       "      <th>23</th>\n",
       "      <td>LALIGA</td>\n",
       "      <td>PERMANENT</td>\n",
       "      <td>HOME</td>\n",
       "      <td>No-Bounce</td>\n",
       "      <td>19</td>\n",
       "    </tr>\n",
       "    <tr>\n",
       "      <th>24</th>\n",
       "      <td>LIGUE_1</td>\n",
       "      <td>INTERIM</td>\n",
       "      <td>AWAY</td>\n",
       "      <td>Bounce</td>\n",
       "      <td>1</td>\n",
       "    </tr>\n",
       "    <tr>\n",
       "      <th>25</th>\n",
       "      <td>LIGUE_1</td>\n",
       "      <td>INTERIM</td>\n",
       "      <td>AWAY</td>\n",
       "      <td>No-Bounce</td>\n",
       "      <td>6</td>\n",
       "    </tr>\n",
       "    <tr>\n",
       "      <th>26</th>\n",
       "      <td>LIGUE_1</td>\n",
       "      <td>INTERIM</td>\n",
       "      <td>HOME</td>\n",
       "      <td>Bounce</td>\n",
       "      <td>1</td>\n",
       "    </tr>\n",
       "    <tr>\n",
       "      <th>27</th>\n",
       "      <td>LIGUE_1</td>\n",
       "      <td>INTERIM</td>\n",
       "      <td>HOME</td>\n",
       "      <td>No-Bounce</td>\n",
       "      <td>2</td>\n",
       "    </tr>\n",
       "    <tr>\n",
       "      <th>28</th>\n",
       "      <td>LIGUE_1</td>\n",
       "      <td>PERMANENT</td>\n",
       "      <td>AWAY</td>\n",
       "      <td>Bounce</td>\n",
       "      <td>7</td>\n",
       "    </tr>\n",
       "    <tr>\n",
       "      <th>29</th>\n",
       "      <td>LIGUE_1</td>\n",
       "      <td>PERMANENT</td>\n",
       "      <td>AWAY</td>\n",
       "      <td>No-Bounce</td>\n",
       "      <td>16</td>\n",
       "    </tr>\n",
       "    <tr>\n",
       "      <th>30</th>\n",
       "      <td>LIGUE_1</td>\n",
       "      <td>PERMANENT</td>\n",
       "      <td>HOME</td>\n",
       "      <td>Bounce</td>\n",
       "      <td>15</td>\n",
       "    </tr>\n",
       "    <tr>\n",
       "      <th>31</th>\n",
       "      <td>LIGUE_1</td>\n",
       "      <td>PERMANENT</td>\n",
       "      <td>HOME</td>\n",
       "      <td>No-Bounce</td>\n",
       "      <td>12</td>\n",
       "    </tr>\n",
       "    <tr>\n",
       "      <th>32</th>\n",
       "      <td>SERIE_A</td>\n",
       "      <td>INTERIM</td>\n",
       "      <td>AWAY</td>\n",
       "      <td>Bounce</td>\n",
       "      <td>3</td>\n",
       "    </tr>\n",
       "    <tr>\n",
       "      <th>33</th>\n",
       "      <td>SERIE_A</td>\n",
       "      <td>INTERIM</td>\n",
       "      <td>AWAY</td>\n",
       "      <td>No-Bounce</td>\n",
       "      <td>2</td>\n",
       "    </tr>\n",
       "    <tr>\n",
       "      <th>34</th>\n",
       "      <td>SERIE_A</td>\n",
       "      <td>INTERIM</td>\n",
       "      <td>HOME</td>\n",
       "      <td>Bounce</td>\n",
       "      <td>2</td>\n",
       "    </tr>\n",
       "    <tr>\n",
       "      <th>35</th>\n",
       "      <td>SERIE_A</td>\n",
       "      <td>INTERIM</td>\n",
       "      <td>HOME</td>\n",
       "      <td>No-Bounce</td>\n",
       "      <td>3</td>\n",
       "    </tr>\n",
       "    <tr>\n",
       "      <th>36</th>\n",
       "      <td>SERIE_A</td>\n",
       "      <td>PERMANENT</td>\n",
       "      <td>AWAY</td>\n",
       "      <td>Bounce</td>\n",
       "      <td>14</td>\n",
       "    </tr>\n",
       "    <tr>\n",
       "      <th>37</th>\n",
       "      <td>SERIE_A</td>\n",
       "      <td>PERMANENT</td>\n",
       "      <td>AWAY</td>\n",
       "      <td>No-Bounce</td>\n",
       "      <td>12</td>\n",
       "    </tr>\n",
       "    <tr>\n",
       "      <th>38</th>\n",
       "      <td>SERIE_A</td>\n",
       "      <td>PERMANENT</td>\n",
       "      <td>HOME</td>\n",
       "      <td>Bounce</td>\n",
       "      <td>14</td>\n",
       "    </tr>\n",
       "    <tr>\n",
       "      <th>39</th>\n",
       "      <td>SERIE_A</td>\n",
       "      <td>PERMANENT</td>\n",
       "      <td>HOME</td>\n",
       "      <td>No-Bounce</td>\n",
       "      <td>16</td>\n",
       "    </tr>\n",
       "  </tbody>\n",
       "</table>\n",
       "</div>"
      ],
      "text/plain": [
       "        league new_manager_type match_location bounce_value  name_new\n",
       "0   BUNDESLIGA          INTERIM           AWAY       Bounce         1\n",
       "1   BUNDESLIGA          INTERIM           AWAY    No-Bounce         4\n",
       "2   BUNDESLIGA          INTERIM           HOME       Bounce         2\n",
       "3   BUNDESLIGA          INTERIM           HOME    No-Bounce         4\n",
       "4   BUNDESLIGA        PERMANENT           AWAY       Bounce        12\n",
       "5   BUNDESLIGA        PERMANENT           AWAY    No-Bounce         9\n",
       "6   BUNDESLIGA        PERMANENT           HOME       Bounce         9\n",
       "7   BUNDESLIGA        PERMANENT           HOME    No-Bounce        17\n",
       "8          EPL          INTERIM           AWAY       Bounce         5\n",
       "9          EPL          INTERIM           AWAY    No-Bounce         8\n",
       "10         EPL          INTERIM           HOME       Bounce         4\n",
       "11         EPL          INTERIM           HOME    No-Bounce         5\n",
       "12         EPL        PERMANENT           AWAY       Bounce         8\n",
       "13         EPL        PERMANENT           AWAY    No-Bounce        15\n",
       "14         EPL        PERMANENT           HOME       Bounce        18\n",
       "15         EPL        PERMANENT           HOME    No-Bounce         8\n",
       "16      LALIGA          INTERIM           AWAY       Bounce         2\n",
       "17      LALIGA          INTERIM           AWAY    No-Bounce         4\n",
       "18      LALIGA          INTERIM           HOME       Bounce         7\n",
       "19      LALIGA          INTERIM           HOME    No-Bounce         3\n",
       "20      LALIGA        PERMANENT           AWAY       Bounce        12\n",
       "21      LALIGA        PERMANENT           AWAY    No-Bounce        13\n",
       "22      LALIGA        PERMANENT           HOME       Bounce        13\n",
       "23      LALIGA        PERMANENT           HOME    No-Bounce        19\n",
       "24     LIGUE_1          INTERIM           AWAY       Bounce         1\n",
       "25     LIGUE_1          INTERIM           AWAY    No-Bounce         6\n",
       "26     LIGUE_1          INTERIM           HOME       Bounce         1\n",
       "27     LIGUE_1          INTERIM           HOME    No-Bounce         2\n",
       "28     LIGUE_1        PERMANENT           AWAY       Bounce         7\n",
       "29     LIGUE_1        PERMANENT           AWAY    No-Bounce        16\n",
       "30     LIGUE_1        PERMANENT           HOME       Bounce        15\n",
       "31     LIGUE_1        PERMANENT           HOME    No-Bounce        12\n",
       "32     SERIE_A          INTERIM           AWAY       Bounce         3\n",
       "33     SERIE_A          INTERIM           AWAY    No-Bounce         2\n",
       "34     SERIE_A          INTERIM           HOME       Bounce         2\n",
       "35     SERIE_A          INTERIM           HOME    No-Bounce         3\n",
       "36     SERIE_A        PERMANENT           AWAY       Bounce        14\n",
       "37     SERIE_A        PERMANENT           AWAY    No-Bounce        12\n",
       "38     SERIE_A        PERMANENT           HOME       Bounce        14\n",
       "39     SERIE_A        PERMANENT           HOME    No-Bounce        16"
      ]
     },
     "execution_count": 73,
     "metadata": {},
     "output_type": "execute_result"
    }
   ],
   "source": [
    "gg"
   ]
  },
  {
   "cell_type": "code",
   "execution_count": 74,
   "metadata": {},
   "outputs": [],
   "source": [
    "gg.columns = ['league', 'new_manager_type', 'match_location', 'bounce_value', 'size']\n",
    "gg_sums.columns = ['league', 'new_manager_type', 'match_location', 'sum']"
   ]
  },
  {
   "cell_type": "code",
   "execution_count": 75,
   "metadata": {},
   "outputs": [],
   "source": [
    "merged_prop = gg_sums.merge(gg, on = ['league', 'new_manager_type', 'match_location'], how='inner')\n",
    "merged_prop['prop'] = round((merged_prop['size']/merged_prop['sum'])*100, 2)"
   ]
  },
  {
   "cell_type": "code",
   "execution_count": 76,
   "metadata": {},
   "outputs": [],
   "source": [
    "merged_prop = merged_prop.sort_values(['league', 'prop'], ascending=False)"
   ]
  },
  {
   "cell_type": "code",
   "execution_count": 77,
   "metadata": {},
   "outputs": [
    {
     "data": {
      "text/plain": [
       "Index(['league', 'new_manager_type', 'match_location', 'sum', 'bounce_value',\n",
       "       'size', 'prop'],\n",
       "      dtype='object')"
      ]
     },
     "execution_count": 77,
     "metadata": {},
     "output_type": "execute_result"
    }
   ],
   "source": [
    "merged_prop.columns"
   ]
  },
  {
   "cell_type": "code",
   "execution_count": 78,
   "metadata": {},
   "outputs": [
    {
     "data": {
      "text/html": [
       "<div>\n",
       "<style scoped>\n",
       "    .dataframe tbody tr th:only-of-type {\n",
       "        vertical-align: middle;\n",
       "    }\n",
       "\n",
       "    .dataframe tbody tr th {\n",
       "        vertical-align: top;\n",
       "    }\n",
       "\n",
       "    .dataframe thead th {\n",
       "        text-align: right;\n",
       "    }\n",
       "</style>\n",
       "<table border=\"1\" class=\"dataframe\">\n",
       "  <thead>\n",
       "    <tr style=\"text-align: right;\">\n",
       "      <th></th>\n",
       "      <th>league</th>\n",
       "      <th>new_manager_type</th>\n",
       "      <th>match_location</th>\n",
       "      <th>sum</th>\n",
       "      <th>bounce_value</th>\n",
       "      <th>size</th>\n",
       "      <th>prop</th>\n",
       "    </tr>\n",
       "  </thead>\n",
       "  <tbody>\n",
       "    <tr>\n",
       "      <th>25</th>\n",
       "      <td>LIGUE_1</td>\n",
       "      <td>INTERIM</td>\n",
       "      <td>AWAY</td>\n",
       "      <td>7</td>\n",
       "      <td>No-Bounce</td>\n",
       "      <td>6</td>\n",
       "      <td>85.71</td>\n",
       "    </tr>\n",
       "    <tr>\n",
       "      <th>1</th>\n",
       "      <td>BUNDESLIGA</td>\n",
       "      <td>INTERIM</td>\n",
       "      <td>AWAY</td>\n",
       "      <td>5</td>\n",
       "      <td>No-Bounce</td>\n",
       "      <td>4</td>\n",
       "      <td>80.00</td>\n",
       "    </tr>\n",
       "    <tr>\n",
       "      <th>18</th>\n",
       "      <td>LALIGA</td>\n",
       "      <td>INTERIM</td>\n",
       "      <td>HOME</td>\n",
       "      <td>10</td>\n",
       "      <td>Bounce</td>\n",
       "      <td>7</td>\n",
       "      <td>70.00</td>\n",
       "    </tr>\n",
       "    <tr>\n",
       "      <th>29</th>\n",
       "      <td>LIGUE_1</td>\n",
       "      <td>PERMANENT</td>\n",
       "      <td>AWAY</td>\n",
       "      <td>23</td>\n",
       "      <td>No-Bounce</td>\n",
       "      <td>16</td>\n",
       "      <td>69.57</td>\n",
       "    </tr>\n",
       "    <tr>\n",
       "      <th>14</th>\n",
       "      <td>EPL</td>\n",
       "      <td>PERMANENT</td>\n",
       "      <td>HOME</td>\n",
       "      <td>26</td>\n",
       "      <td>Bounce</td>\n",
       "      <td>18</td>\n",
       "      <td>69.23</td>\n",
       "    </tr>\n",
       "    <tr>\n",
       "      <th>27</th>\n",
       "      <td>LIGUE_1</td>\n",
       "      <td>INTERIM</td>\n",
       "      <td>HOME</td>\n",
       "      <td>3</td>\n",
       "      <td>No-Bounce</td>\n",
       "      <td>2</td>\n",
       "      <td>66.67</td>\n",
       "    </tr>\n",
       "    <tr>\n",
       "      <th>17</th>\n",
       "      <td>LALIGA</td>\n",
       "      <td>INTERIM</td>\n",
       "      <td>AWAY</td>\n",
       "      <td>6</td>\n",
       "      <td>No-Bounce</td>\n",
       "      <td>4</td>\n",
       "      <td>66.67</td>\n",
       "    </tr>\n",
       "    <tr>\n",
       "      <th>3</th>\n",
       "      <td>BUNDESLIGA</td>\n",
       "      <td>INTERIM</td>\n",
       "      <td>HOME</td>\n",
       "      <td>6</td>\n",
       "      <td>No-Bounce</td>\n",
       "      <td>4</td>\n",
       "      <td>66.67</td>\n",
       "    </tr>\n",
       "    <tr>\n",
       "      <th>7</th>\n",
       "      <td>BUNDESLIGA</td>\n",
       "      <td>PERMANENT</td>\n",
       "      <td>HOME</td>\n",
       "      <td>26</td>\n",
       "      <td>No-Bounce</td>\n",
       "      <td>17</td>\n",
       "      <td>65.38</td>\n",
       "    </tr>\n",
       "    <tr>\n",
       "      <th>13</th>\n",
       "      <td>EPL</td>\n",
       "      <td>PERMANENT</td>\n",
       "      <td>AWAY</td>\n",
       "      <td>23</td>\n",
       "      <td>No-Bounce</td>\n",
       "      <td>15</td>\n",
       "      <td>65.22</td>\n",
       "    </tr>\n",
       "    <tr>\n",
       "      <th>9</th>\n",
       "      <td>EPL</td>\n",
       "      <td>INTERIM</td>\n",
       "      <td>AWAY</td>\n",
       "      <td>13</td>\n",
       "      <td>No-Bounce</td>\n",
       "      <td>8</td>\n",
       "      <td>61.54</td>\n",
       "    </tr>\n",
       "    <tr>\n",
       "      <th>32</th>\n",
       "      <td>SERIE_A</td>\n",
       "      <td>INTERIM</td>\n",
       "      <td>AWAY</td>\n",
       "      <td>5</td>\n",
       "      <td>Bounce</td>\n",
       "      <td>3</td>\n",
       "      <td>60.00</td>\n",
       "    </tr>\n",
       "    <tr>\n",
       "      <th>35</th>\n",
       "      <td>SERIE_A</td>\n",
       "      <td>INTERIM</td>\n",
       "      <td>HOME</td>\n",
       "      <td>5</td>\n",
       "      <td>No-Bounce</td>\n",
       "      <td>3</td>\n",
       "      <td>60.00</td>\n",
       "    </tr>\n",
       "    <tr>\n",
       "      <th>23</th>\n",
       "      <td>LALIGA</td>\n",
       "      <td>PERMANENT</td>\n",
       "      <td>HOME</td>\n",
       "      <td>32</td>\n",
       "      <td>No-Bounce</td>\n",
       "      <td>19</td>\n",
       "      <td>59.38</td>\n",
       "    </tr>\n",
       "    <tr>\n",
       "      <th>4</th>\n",
       "      <td>BUNDESLIGA</td>\n",
       "      <td>PERMANENT</td>\n",
       "      <td>AWAY</td>\n",
       "      <td>21</td>\n",
       "      <td>Bounce</td>\n",
       "      <td>12</td>\n",
       "      <td>57.14</td>\n",
       "    </tr>\n",
       "    <tr>\n",
       "      <th>11</th>\n",
       "      <td>EPL</td>\n",
       "      <td>INTERIM</td>\n",
       "      <td>HOME</td>\n",
       "      <td>9</td>\n",
       "      <td>No-Bounce</td>\n",
       "      <td>5</td>\n",
       "      <td>55.56</td>\n",
       "    </tr>\n",
       "    <tr>\n",
       "      <th>30</th>\n",
       "      <td>LIGUE_1</td>\n",
       "      <td>PERMANENT</td>\n",
       "      <td>HOME</td>\n",
       "      <td>27</td>\n",
       "      <td>Bounce</td>\n",
       "      <td>15</td>\n",
       "      <td>55.56</td>\n",
       "    </tr>\n",
       "    <tr>\n",
       "      <th>36</th>\n",
       "      <td>SERIE_A</td>\n",
       "      <td>PERMANENT</td>\n",
       "      <td>AWAY</td>\n",
       "      <td>26</td>\n",
       "      <td>Bounce</td>\n",
       "      <td>14</td>\n",
       "      <td>53.85</td>\n",
       "    </tr>\n",
       "    <tr>\n",
       "      <th>39</th>\n",
       "      <td>SERIE_A</td>\n",
       "      <td>PERMANENT</td>\n",
       "      <td>HOME</td>\n",
       "      <td>30</td>\n",
       "      <td>No-Bounce</td>\n",
       "      <td>16</td>\n",
       "      <td>53.33</td>\n",
       "    </tr>\n",
       "    <tr>\n",
       "      <th>21</th>\n",
       "      <td>LALIGA</td>\n",
       "      <td>PERMANENT</td>\n",
       "      <td>AWAY</td>\n",
       "      <td>25</td>\n",
       "      <td>No-Bounce</td>\n",
       "      <td>13</td>\n",
       "      <td>52.00</td>\n",
       "    </tr>\n",
       "    <tr>\n",
       "      <th>20</th>\n",
       "      <td>LALIGA</td>\n",
       "      <td>PERMANENT</td>\n",
       "      <td>AWAY</td>\n",
       "      <td>25</td>\n",
       "      <td>Bounce</td>\n",
       "      <td>12</td>\n",
       "      <td>48.00</td>\n",
       "    </tr>\n",
       "    <tr>\n",
       "      <th>38</th>\n",
       "      <td>SERIE_A</td>\n",
       "      <td>PERMANENT</td>\n",
       "      <td>HOME</td>\n",
       "      <td>30</td>\n",
       "      <td>Bounce</td>\n",
       "      <td>14</td>\n",
       "      <td>46.67</td>\n",
       "    </tr>\n",
       "    <tr>\n",
       "      <th>37</th>\n",
       "      <td>SERIE_A</td>\n",
       "      <td>PERMANENT</td>\n",
       "      <td>AWAY</td>\n",
       "      <td>26</td>\n",
       "      <td>No-Bounce</td>\n",
       "      <td>12</td>\n",
       "      <td>46.15</td>\n",
       "    </tr>\n",
       "    <tr>\n",
       "      <th>31</th>\n",
       "      <td>LIGUE_1</td>\n",
       "      <td>PERMANENT</td>\n",
       "      <td>HOME</td>\n",
       "      <td>27</td>\n",
       "      <td>No-Bounce</td>\n",
       "      <td>12</td>\n",
       "      <td>44.44</td>\n",
       "    </tr>\n",
       "    <tr>\n",
       "      <th>10</th>\n",
       "      <td>EPL</td>\n",
       "      <td>INTERIM</td>\n",
       "      <td>HOME</td>\n",
       "      <td>9</td>\n",
       "      <td>Bounce</td>\n",
       "      <td>4</td>\n",
       "      <td>44.44</td>\n",
       "    </tr>\n",
       "    <tr>\n",
       "      <th>5</th>\n",
       "      <td>BUNDESLIGA</td>\n",
       "      <td>PERMANENT</td>\n",
       "      <td>AWAY</td>\n",
       "      <td>21</td>\n",
       "      <td>No-Bounce</td>\n",
       "      <td>9</td>\n",
       "      <td>42.86</td>\n",
       "    </tr>\n",
       "    <tr>\n",
       "      <th>22</th>\n",
       "      <td>LALIGA</td>\n",
       "      <td>PERMANENT</td>\n",
       "      <td>HOME</td>\n",
       "      <td>32</td>\n",
       "      <td>Bounce</td>\n",
       "      <td>13</td>\n",
       "      <td>40.62</td>\n",
       "    </tr>\n",
       "    <tr>\n",
       "      <th>34</th>\n",
       "      <td>SERIE_A</td>\n",
       "      <td>INTERIM</td>\n",
       "      <td>HOME</td>\n",
       "      <td>5</td>\n",
       "      <td>Bounce</td>\n",
       "      <td>2</td>\n",
       "      <td>40.00</td>\n",
       "    </tr>\n",
       "    <tr>\n",
       "      <th>33</th>\n",
       "      <td>SERIE_A</td>\n",
       "      <td>INTERIM</td>\n",
       "      <td>AWAY</td>\n",
       "      <td>5</td>\n",
       "      <td>No-Bounce</td>\n",
       "      <td>2</td>\n",
       "      <td>40.00</td>\n",
       "    </tr>\n",
       "    <tr>\n",
       "      <th>8</th>\n",
       "      <td>EPL</td>\n",
       "      <td>INTERIM</td>\n",
       "      <td>AWAY</td>\n",
       "      <td>13</td>\n",
       "      <td>Bounce</td>\n",
       "      <td>5</td>\n",
       "      <td>38.46</td>\n",
       "    </tr>\n",
       "    <tr>\n",
       "      <th>12</th>\n",
       "      <td>EPL</td>\n",
       "      <td>PERMANENT</td>\n",
       "      <td>AWAY</td>\n",
       "      <td>23</td>\n",
       "      <td>Bounce</td>\n",
       "      <td>8</td>\n",
       "      <td>34.78</td>\n",
       "    </tr>\n",
       "    <tr>\n",
       "      <th>6</th>\n",
       "      <td>BUNDESLIGA</td>\n",
       "      <td>PERMANENT</td>\n",
       "      <td>HOME</td>\n",
       "      <td>26</td>\n",
       "      <td>Bounce</td>\n",
       "      <td>9</td>\n",
       "      <td>34.62</td>\n",
       "    </tr>\n",
       "    <tr>\n",
       "      <th>16</th>\n",
       "      <td>LALIGA</td>\n",
       "      <td>INTERIM</td>\n",
       "      <td>AWAY</td>\n",
       "      <td>6</td>\n",
       "      <td>Bounce</td>\n",
       "      <td>2</td>\n",
       "      <td>33.33</td>\n",
       "    </tr>\n",
       "    <tr>\n",
       "      <th>26</th>\n",
       "      <td>LIGUE_1</td>\n",
       "      <td>INTERIM</td>\n",
       "      <td>HOME</td>\n",
       "      <td>3</td>\n",
       "      <td>Bounce</td>\n",
       "      <td>1</td>\n",
       "      <td>33.33</td>\n",
       "    </tr>\n",
       "    <tr>\n",
       "      <th>2</th>\n",
       "      <td>BUNDESLIGA</td>\n",
       "      <td>INTERIM</td>\n",
       "      <td>HOME</td>\n",
       "      <td>6</td>\n",
       "      <td>Bounce</td>\n",
       "      <td>2</td>\n",
       "      <td>33.33</td>\n",
       "    </tr>\n",
       "    <tr>\n",
       "      <th>15</th>\n",
       "      <td>EPL</td>\n",
       "      <td>PERMANENT</td>\n",
       "      <td>HOME</td>\n",
       "      <td>26</td>\n",
       "      <td>No-Bounce</td>\n",
       "      <td>8</td>\n",
       "      <td>30.77</td>\n",
       "    </tr>\n",
       "    <tr>\n",
       "      <th>28</th>\n",
       "      <td>LIGUE_1</td>\n",
       "      <td>PERMANENT</td>\n",
       "      <td>AWAY</td>\n",
       "      <td>23</td>\n",
       "      <td>Bounce</td>\n",
       "      <td>7</td>\n",
       "      <td>30.43</td>\n",
       "    </tr>\n",
       "    <tr>\n",
       "      <th>19</th>\n",
       "      <td>LALIGA</td>\n",
       "      <td>INTERIM</td>\n",
       "      <td>HOME</td>\n",
       "      <td>10</td>\n",
       "      <td>No-Bounce</td>\n",
       "      <td>3</td>\n",
       "      <td>30.00</td>\n",
       "    </tr>\n",
       "    <tr>\n",
       "      <th>0</th>\n",
       "      <td>BUNDESLIGA</td>\n",
       "      <td>INTERIM</td>\n",
       "      <td>AWAY</td>\n",
       "      <td>5</td>\n",
       "      <td>Bounce</td>\n",
       "      <td>1</td>\n",
       "      <td>20.00</td>\n",
       "    </tr>\n",
       "    <tr>\n",
       "      <th>24</th>\n",
       "      <td>LIGUE_1</td>\n",
       "      <td>INTERIM</td>\n",
       "      <td>AWAY</td>\n",
       "      <td>7</td>\n",
       "      <td>Bounce</td>\n",
       "      <td>1</td>\n",
       "      <td>14.29</td>\n",
       "    </tr>\n",
       "  </tbody>\n",
       "</table>\n",
       "</div>"
      ],
      "text/plain": [
       "        league new_manager_type match_location  sum bounce_value  size   prop\n",
       "25     LIGUE_1          INTERIM           AWAY    7    No-Bounce     6  85.71\n",
       "1   BUNDESLIGA          INTERIM           AWAY    5    No-Bounce     4  80.00\n",
       "18      LALIGA          INTERIM           HOME   10       Bounce     7  70.00\n",
       "29     LIGUE_1        PERMANENT           AWAY   23    No-Bounce    16  69.57\n",
       "14         EPL        PERMANENT           HOME   26       Bounce    18  69.23\n",
       "27     LIGUE_1          INTERIM           HOME    3    No-Bounce     2  66.67\n",
       "17      LALIGA          INTERIM           AWAY    6    No-Bounce     4  66.67\n",
       "3   BUNDESLIGA          INTERIM           HOME    6    No-Bounce     4  66.67\n",
       "7   BUNDESLIGA        PERMANENT           HOME   26    No-Bounce    17  65.38\n",
       "13         EPL        PERMANENT           AWAY   23    No-Bounce    15  65.22\n",
       "9          EPL          INTERIM           AWAY   13    No-Bounce     8  61.54\n",
       "32     SERIE_A          INTERIM           AWAY    5       Bounce     3  60.00\n",
       "35     SERIE_A          INTERIM           HOME    5    No-Bounce     3  60.00\n",
       "23      LALIGA        PERMANENT           HOME   32    No-Bounce    19  59.38\n",
       "4   BUNDESLIGA        PERMANENT           AWAY   21       Bounce    12  57.14\n",
       "11         EPL          INTERIM           HOME    9    No-Bounce     5  55.56\n",
       "30     LIGUE_1        PERMANENT           HOME   27       Bounce    15  55.56\n",
       "36     SERIE_A        PERMANENT           AWAY   26       Bounce    14  53.85\n",
       "39     SERIE_A        PERMANENT           HOME   30    No-Bounce    16  53.33\n",
       "21      LALIGA        PERMANENT           AWAY   25    No-Bounce    13  52.00\n",
       "20      LALIGA        PERMANENT           AWAY   25       Bounce    12  48.00\n",
       "38     SERIE_A        PERMANENT           HOME   30       Bounce    14  46.67\n",
       "37     SERIE_A        PERMANENT           AWAY   26    No-Bounce    12  46.15\n",
       "31     LIGUE_1        PERMANENT           HOME   27    No-Bounce    12  44.44\n",
       "10         EPL          INTERIM           HOME    9       Bounce     4  44.44\n",
       "5   BUNDESLIGA        PERMANENT           AWAY   21    No-Bounce     9  42.86\n",
       "22      LALIGA        PERMANENT           HOME   32       Bounce    13  40.62\n",
       "34     SERIE_A          INTERIM           HOME    5       Bounce     2  40.00\n",
       "33     SERIE_A          INTERIM           AWAY    5    No-Bounce     2  40.00\n",
       "8          EPL          INTERIM           AWAY   13       Bounce     5  38.46\n",
       "12         EPL        PERMANENT           AWAY   23       Bounce     8  34.78\n",
       "6   BUNDESLIGA        PERMANENT           HOME   26       Bounce     9  34.62\n",
       "16      LALIGA          INTERIM           AWAY    6       Bounce     2  33.33\n",
       "26     LIGUE_1          INTERIM           HOME    3       Bounce     1  33.33\n",
       "2   BUNDESLIGA          INTERIM           HOME    6       Bounce     2  33.33\n",
       "15         EPL        PERMANENT           HOME   26    No-Bounce     8  30.77\n",
       "28     LIGUE_1        PERMANENT           AWAY   23       Bounce     7  30.43\n",
       "19      LALIGA          INTERIM           HOME   10    No-Bounce     3  30.00\n",
       "0   BUNDESLIGA          INTERIM           AWAY    5       Bounce     1  20.00\n",
       "24     LIGUE_1          INTERIM           AWAY    7       Bounce     1  14.29"
      ]
     },
     "execution_count": 78,
     "metadata": {},
     "output_type": "execute_result"
    }
   ],
   "source": [
    "merged_prop.sort_values([\"prop\"], ascending=False)"
   ]
  },
  {
   "cell_type": "code",
   "execution_count": 79,
   "metadata": {},
   "outputs": [
    {
     "data": {
      "text/html": [
       "<div>\n",
       "<style scoped>\n",
       "    .dataframe tbody tr th:only-of-type {\n",
       "        vertical-align: middle;\n",
       "    }\n",
       "\n",
       "    .dataframe tbody tr th {\n",
       "        vertical-align: top;\n",
       "    }\n",
       "\n",
       "    .dataframe thead th {\n",
       "        text-align: right;\n",
       "    }\n",
       "</style>\n",
       "<table border=\"1\" class=\"dataframe\">\n",
       "  <thead>\n",
       "    <tr style=\"text-align: right;\">\n",
       "      <th></th>\n",
       "      <th>league</th>\n",
       "      <th>new_manager_type</th>\n",
       "      <th>match_location</th>\n",
       "      <th>sum</th>\n",
       "      <th>bounce_value</th>\n",
       "      <th>size</th>\n",
       "      <th>prop</th>\n",
       "    </tr>\n",
       "  </thead>\n",
       "  <tbody>\n",
       "    <tr>\n",
       "      <th>18</th>\n",
       "      <td>LALIGA</td>\n",
       "      <td>INTERIM</td>\n",
       "      <td>HOME</td>\n",
       "      <td>10</td>\n",
       "      <td>Bounce</td>\n",
       "      <td>7</td>\n",
       "      <td>70.00</td>\n",
       "    </tr>\n",
       "    <tr>\n",
       "      <th>29</th>\n",
       "      <td>LIGUE_1</td>\n",
       "      <td>PERMANENT</td>\n",
       "      <td>AWAY</td>\n",
       "      <td>23</td>\n",
       "      <td>No-Bounce</td>\n",
       "      <td>16</td>\n",
       "      <td>69.57</td>\n",
       "    </tr>\n",
       "    <tr>\n",
       "      <th>14</th>\n",
       "      <td>EPL</td>\n",
       "      <td>PERMANENT</td>\n",
       "      <td>HOME</td>\n",
       "      <td>26</td>\n",
       "      <td>Bounce</td>\n",
       "      <td>18</td>\n",
       "      <td>69.23</td>\n",
       "    </tr>\n",
       "    <tr>\n",
       "      <th>7</th>\n",
       "      <td>BUNDESLIGA</td>\n",
       "      <td>PERMANENT</td>\n",
       "      <td>HOME</td>\n",
       "      <td>26</td>\n",
       "      <td>No-Bounce</td>\n",
       "      <td>17</td>\n",
       "      <td>65.38</td>\n",
       "    </tr>\n",
       "    <tr>\n",
       "      <th>13</th>\n",
       "      <td>EPL</td>\n",
       "      <td>PERMANENT</td>\n",
       "      <td>AWAY</td>\n",
       "      <td>23</td>\n",
       "      <td>No-Bounce</td>\n",
       "      <td>15</td>\n",
       "      <td>65.22</td>\n",
       "    </tr>\n",
       "    <tr>\n",
       "      <th>9</th>\n",
       "      <td>EPL</td>\n",
       "      <td>INTERIM</td>\n",
       "      <td>AWAY</td>\n",
       "      <td>13</td>\n",
       "      <td>No-Bounce</td>\n",
       "      <td>8</td>\n",
       "      <td>61.54</td>\n",
       "    </tr>\n",
       "    <tr>\n",
       "      <th>23</th>\n",
       "      <td>LALIGA</td>\n",
       "      <td>PERMANENT</td>\n",
       "      <td>HOME</td>\n",
       "      <td>32</td>\n",
       "      <td>No-Bounce</td>\n",
       "      <td>19</td>\n",
       "      <td>59.38</td>\n",
       "    </tr>\n",
       "    <tr>\n",
       "      <th>4</th>\n",
       "      <td>BUNDESLIGA</td>\n",
       "      <td>PERMANENT</td>\n",
       "      <td>AWAY</td>\n",
       "      <td>21</td>\n",
       "      <td>Bounce</td>\n",
       "      <td>12</td>\n",
       "      <td>57.14</td>\n",
       "    </tr>\n",
       "    <tr>\n",
       "      <th>30</th>\n",
       "      <td>LIGUE_1</td>\n",
       "      <td>PERMANENT</td>\n",
       "      <td>HOME</td>\n",
       "      <td>27</td>\n",
       "      <td>Bounce</td>\n",
       "      <td>15</td>\n",
       "      <td>55.56</td>\n",
       "    </tr>\n",
       "    <tr>\n",
       "      <th>36</th>\n",
       "      <td>SERIE_A</td>\n",
       "      <td>PERMANENT</td>\n",
       "      <td>AWAY</td>\n",
       "      <td>26</td>\n",
       "      <td>Bounce</td>\n",
       "      <td>14</td>\n",
       "      <td>53.85</td>\n",
       "    </tr>\n",
       "    <tr>\n",
       "      <th>39</th>\n",
       "      <td>SERIE_A</td>\n",
       "      <td>PERMANENT</td>\n",
       "      <td>HOME</td>\n",
       "      <td>30</td>\n",
       "      <td>No-Bounce</td>\n",
       "      <td>16</td>\n",
       "      <td>53.33</td>\n",
       "    </tr>\n",
       "    <tr>\n",
       "      <th>21</th>\n",
       "      <td>LALIGA</td>\n",
       "      <td>PERMANENT</td>\n",
       "      <td>AWAY</td>\n",
       "      <td>25</td>\n",
       "      <td>No-Bounce</td>\n",
       "      <td>13</td>\n",
       "      <td>52.00</td>\n",
       "    </tr>\n",
       "    <tr>\n",
       "      <th>20</th>\n",
       "      <td>LALIGA</td>\n",
       "      <td>PERMANENT</td>\n",
       "      <td>AWAY</td>\n",
       "      <td>25</td>\n",
       "      <td>Bounce</td>\n",
       "      <td>12</td>\n",
       "      <td>48.00</td>\n",
       "    </tr>\n",
       "    <tr>\n",
       "      <th>38</th>\n",
       "      <td>SERIE_A</td>\n",
       "      <td>PERMANENT</td>\n",
       "      <td>HOME</td>\n",
       "      <td>30</td>\n",
       "      <td>Bounce</td>\n",
       "      <td>14</td>\n",
       "      <td>46.67</td>\n",
       "    </tr>\n",
       "    <tr>\n",
       "      <th>37</th>\n",
       "      <td>SERIE_A</td>\n",
       "      <td>PERMANENT</td>\n",
       "      <td>AWAY</td>\n",
       "      <td>26</td>\n",
       "      <td>No-Bounce</td>\n",
       "      <td>12</td>\n",
       "      <td>46.15</td>\n",
       "    </tr>\n",
       "    <tr>\n",
       "      <th>31</th>\n",
       "      <td>LIGUE_1</td>\n",
       "      <td>PERMANENT</td>\n",
       "      <td>HOME</td>\n",
       "      <td>27</td>\n",
       "      <td>No-Bounce</td>\n",
       "      <td>12</td>\n",
       "      <td>44.44</td>\n",
       "    </tr>\n",
       "    <tr>\n",
       "      <th>5</th>\n",
       "      <td>BUNDESLIGA</td>\n",
       "      <td>PERMANENT</td>\n",
       "      <td>AWAY</td>\n",
       "      <td>21</td>\n",
       "      <td>No-Bounce</td>\n",
       "      <td>9</td>\n",
       "      <td>42.86</td>\n",
       "    </tr>\n",
       "    <tr>\n",
       "      <th>22</th>\n",
       "      <td>LALIGA</td>\n",
       "      <td>PERMANENT</td>\n",
       "      <td>HOME</td>\n",
       "      <td>32</td>\n",
       "      <td>Bounce</td>\n",
       "      <td>13</td>\n",
       "      <td>40.62</td>\n",
       "    </tr>\n",
       "    <tr>\n",
       "      <th>8</th>\n",
       "      <td>EPL</td>\n",
       "      <td>INTERIM</td>\n",
       "      <td>AWAY</td>\n",
       "      <td>13</td>\n",
       "      <td>Bounce</td>\n",
       "      <td>5</td>\n",
       "      <td>38.46</td>\n",
       "    </tr>\n",
       "    <tr>\n",
       "      <th>12</th>\n",
       "      <td>EPL</td>\n",
       "      <td>PERMANENT</td>\n",
       "      <td>AWAY</td>\n",
       "      <td>23</td>\n",
       "      <td>Bounce</td>\n",
       "      <td>8</td>\n",
       "      <td>34.78</td>\n",
       "    </tr>\n",
       "    <tr>\n",
       "      <th>6</th>\n",
       "      <td>BUNDESLIGA</td>\n",
       "      <td>PERMANENT</td>\n",
       "      <td>HOME</td>\n",
       "      <td>26</td>\n",
       "      <td>Bounce</td>\n",
       "      <td>9</td>\n",
       "      <td>34.62</td>\n",
       "    </tr>\n",
       "    <tr>\n",
       "      <th>15</th>\n",
       "      <td>EPL</td>\n",
       "      <td>PERMANENT</td>\n",
       "      <td>HOME</td>\n",
       "      <td>26</td>\n",
       "      <td>No-Bounce</td>\n",
       "      <td>8</td>\n",
       "      <td>30.77</td>\n",
       "    </tr>\n",
       "    <tr>\n",
       "      <th>28</th>\n",
       "      <td>LIGUE_1</td>\n",
       "      <td>PERMANENT</td>\n",
       "      <td>AWAY</td>\n",
       "      <td>23</td>\n",
       "      <td>Bounce</td>\n",
       "      <td>7</td>\n",
       "      <td>30.43</td>\n",
       "    </tr>\n",
       "    <tr>\n",
       "      <th>19</th>\n",
       "      <td>LALIGA</td>\n",
       "      <td>INTERIM</td>\n",
       "      <td>HOME</td>\n",
       "      <td>10</td>\n",
       "      <td>No-Bounce</td>\n",
       "      <td>3</td>\n",
       "      <td>30.00</td>\n",
       "    </tr>\n",
       "  </tbody>\n",
       "</table>\n",
       "</div>"
      ],
      "text/plain": [
       "        league new_manager_type match_location  sum bounce_value  size   prop\n",
       "18      LALIGA          INTERIM           HOME   10       Bounce     7  70.00\n",
       "29     LIGUE_1        PERMANENT           AWAY   23    No-Bounce    16  69.57\n",
       "14         EPL        PERMANENT           HOME   26       Bounce    18  69.23\n",
       "7   BUNDESLIGA        PERMANENT           HOME   26    No-Bounce    17  65.38\n",
       "13         EPL        PERMANENT           AWAY   23    No-Bounce    15  65.22\n",
       "9          EPL          INTERIM           AWAY   13    No-Bounce     8  61.54\n",
       "23      LALIGA        PERMANENT           HOME   32    No-Bounce    19  59.38\n",
       "4   BUNDESLIGA        PERMANENT           AWAY   21       Bounce    12  57.14\n",
       "30     LIGUE_1        PERMANENT           HOME   27       Bounce    15  55.56\n",
       "36     SERIE_A        PERMANENT           AWAY   26       Bounce    14  53.85\n",
       "39     SERIE_A        PERMANENT           HOME   30    No-Bounce    16  53.33\n",
       "21      LALIGA        PERMANENT           AWAY   25    No-Bounce    13  52.00\n",
       "20      LALIGA        PERMANENT           AWAY   25       Bounce    12  48.00\n",
       "38     SERIE_A        PERMANENT           HOME   30       Bounce    14  46.67\n",
       "37     SERIE_A        PERMANENT           AWAY   26    No-Bounce    12  46.15\n",
       "31     LIGUE_1        PERMANENT           HOME   27    No-Bounce    12  44.44\n",
       "5   BUNDESLIGA        PERMANENT           AWAY   21    No-Bounce     9  42.86\n",
       "22      LALIGA        PERMANENT           HOME   32       Bounce    13  40.62\n",
       "8          EPL          INTERIM           AWAY   13       Bounce     5  38.46\n",
       "12         EPL        PERMANENT           AWAY   23       Bounce     8  34.78\n",
       "6   BUNDESLIGA        PERMANENT           HOME   26       Bounce     9  34.62\n",
       "15         EPL        PERMANENT           HOME   26    No-Bounce     8  30.77\n",
       "28     LIGUE_1        PERMANENT           AWAY   23       Bounce     7  30.43\n",
       "19      LALIGA          INTERIM           HOME   10    No-Bounce     3  30.00"
      ]
     },
     "execution_count": 79,
     "metadata": {},
     "output_type": "execute_result"
    }
   ],
   "source": [
    "merged_prop[merged_prop['sum'] >= 10].sort_values([\"prop\"], ascending=False)"
   ]
  },
  {
   "cell_type": "code",
   "execution_count": 80,
   "metadata": {},
   "outputs": [
    {
     "data": {
      "text/html": [
       "<div>\n",
       "<style scoped>\n",
       "    .dataframe tbody tr th:only-of-type {\n",
       "        vertical-align: middle;\n",
       "    }\n",
       "\n",
       "    .dataframe tbody tr th {\n",
       "        vertical-align: top;\n",
       "    }\n",
       "\n",
       "    .dataframe thead th {\n",
       "        text-align: right;\n",
       "    }\n",
       "</style>\n",
       "<table border=\"1\" class=\"dataframe\">\n",
       "  <thead>\n",
       "    <tr style=\"text-align: right;\">\n",
       "      <th></th>\n",
       "      <th>league</th>\n",
       "      <th>new_manager_type</th>\n",
       "      <th>match_location</th>\n",
       "      <th>sum</th>\n",
       "      <th>bounce_value</th>\n",
       "      <th>size</th>\n",
       "      <th>prop</th>\n",
       "    </tr>\n",
       "  </thead>\n",
       "  <tbody>\n",
       "    <tr>\n",
       "      <th>36</th>\n",
       "      <td>SERIE_A</td>\n",
       "      <td>PERMANENT</td>\n",
       "      <td>AWAY</td>\n",
       "      <td>26</td>\n",
       "      <td>Bounce</td>\n",
       "      <td>14</td>\n",
       "      <td>53.85</td>\n",
       "    </tr>\n",
       "    <tr>\n",
       "      <th>39</th>\n",
       "      <td>SERIE_A</td>\n",
       "      <td>PERMANENT</td>\n",
       "      <td>HOME</td>\n",
       "      <td>30</td>\n",
       "      <td>No-Bounce</td>\n",
       "      <td>16</td>\n",
       "      <td>53.33</td>\n",
       "    </tr>\n",
       "    <tr>\n",
       "      <th>38</th>\n",
       "      <td>SERIE_A</td>\n",
       "      <td>PERMANENT</td>\n",
       "      <td>HOME</td>\n",
       "      <td>30</td>\n",
       "      <td>Bounce</td>\n",
       "      <td>14</td>\n",
       "      <td>46.67</td>\n",
       "    </tr>\n",
       "    <tr>\n",
       "      <th>29</th>\n",
       "      <td>LIGUE_1</td>\n",
       "      <td>PERMANENT</td>\n",
       "      <td>AWAY</td>\n",
       "      <td>23</td>\n",
       "      <td>No-Bounce</td>\n",
       "      <td>16</td>\n",
       "      <td>69.57</td>\n",
       "    </tr>\n",
       "    <tr>\n",
       "      <th>30</th>\n",
       "      <td>LIGUE_1</td>\n",
       "      <td>PERMANENT</td>\n",
       "      <td>HOME</td>\n",
       "      <td>27</td>\n",
       "      <td>Bounce</td>\n",
       "      <td>15</td>\n",
       "      <td>55.56</td>\n",
       "    </tr>\n",
       "    <tr>\n",
       "      <th>31</th>\n",
       "      <td>LIGUE_1</td>\n",
       "      <td>PERMANENT</td>\n",
       "      <td>HOME</td>\n",
       "      <td>27</td>\n",
       "      <td>No-Bounce</td>\n",
       "      <td>12</td>\n",
       "      <td>44.44</td>\n",
       "    </tr>\n",
       "    <tr>\n",
       "      <th>18</th>\n",
       "      <td>LALIGA</td>\n",
       "      <td>INTERIM</td>\n",
       "      <td>HOME</td>\n",
       "      <td>10</td>\n",
       "      <td>Bounce</td>\n",
       "      <td>7</td>\n",
       "      <td>70.00</td>\n",
       "    </tr>\n",
       "    <tr>\n",
       "      <th>23</th>\n",
       "      <td>LALIGA</td>\n",
       "      <td>PERMANENT</td>\n",
       "      <td>HOME</td>\n",
       "      <td>32</td>\n",
       "      <td>No-Bounce</td>\n",
       "      <td>19</td>\n",
       "      <td>59.38</td>\n",
       "    </tr>\n",
       "    <tr>\n",
       "      <th>21</th>\n",
       "      <td>LALIGA</td>\n",
       "      <td>PERMANENT</td>\n",
       "      <td>AWAY</td>\n",
       "      <td>25</td>\n",
       "      <td>No-Bounce</td>\n",
       "      <td>13</td>\n",
       "      <td>52.00</td>\n",
       "    </tr>\n",
       "    <tr>\n",
       "      <th>14</th>\n",
       "      <td>EPL</td>\n",
       "      <td>PERMANENT</td>\n",
       "      <td>HOME</td>\n",
       "      <td>26</td>\n",
       "      <td>Bounce</td>\n",
       "      <td>18</td>\n",
       "      <td>69.23</td>\n",
       "    </tr>\n",
       "    <tr>\n",
       "      <th>13</th>\n",
       "      <td>EPL</td>\n",
       "      <td>PERMANENT</td>\n",
       "      <td>AWAY</td>\n",
       "      <td>23</td>\n",
       "      <td>No-Bounce</td>\n",
       "      <td>15</td>\n",
       "      <td>65.22</td>\n",
       "    </tr>\n",
       "    <tr>\n",
       "      <th>9</th>\n",
       "      <td>EPL</td>\n",
       "      <td>INTERIM</td>\n",
       "      <td>AWAY</td>\n",
       "      <td>13</td>\n",
       "      <td>No-Bounce</td>\n",
       "      <td>8</td>\n",
       "      <td>61.54</td>\n",
       "    </tr>\n",
       "    <tr>\n",
       "      <th>7</th>\n",
       "      <td>BUNDESLIGA</td>\n",
       "      <td>PERMANENT</td>\n",
       "      <td>HOME</td>\n",
       "      <td>26</td>\n",
       "      <td>No-Bounce</td>\n",
       "      <td>17</td>\n",
       "      <td>65.38</td>\n",
       "    </tr>\n",
       "    <tr>\n",
       "      <th>4</th>\n",
       "      <td>BUNDESLIGA</td>\n",
       "      <td>PERMANENT</td>\n",
       "      <td>AWAY</td>\n",
       "      <td>21</td>\n",
       "      <td>Bounce</td>\n",
       "      <td>12</td>\n",
       "      <td>57.14</td>\n",
       "    </tr>\n",
       "    <tr>\n",
       "      <th>5</th>\n",
       "      <td>BUNDESLIGA</td>\n",
       "      <td>PERMANENT</td>\n",
       "      <td>AWAY</td>\n",
       "      <td>21</td>\n",
       "      <td>No-Bounce</td>\n",
       "      <td>9</td>\n",
       "      <td>42.86</td>\n",
       "    </tr>\n",
       "  </tbody>\n",
       "</table>\n",
       "</div>"
      ],
      "text/plain": [
       "        league new_manager_type match_location  sum bounce_value  size   prop\n",
       "36     SERIE_A        PERMANENT           AWAY   26       Bounce    14  53.85\n",
       "39     SERIE_A        PERMANENT           HOME   30    No-Bounce    16  53.33\n",
       "38     SERIE_A        PERMANENT           HOME   30       Bounce    14  46.67\n",
       "29     LIGUE_1        PERMANENT           AWAY   23    No-Bounce    16  69.57\n",
       "30     LIGUE_1        PERMANENT           HOME   27       Bounce    15  55.56\n",
       "31     LIGUE_1        PERMANENT           HOME   27    No-Bounce    12  44.44\n",
       "18      LALIGA          INTERIM           HOME   10       Bounce     7  70.00\n",
       "23      LALIGA        PERMANENT           HOME   32    No-Bounce    19  59.38\n",
       "21      LALIGA        PERMANENT           AWAY   25    No-Bounce    13  52.00\n",
       "14         EPL        PERMANENT           HOME   26       Bounce    18  69.23\n",
       "13         EPL        PERMANENT           AWAY   23    No-Bounce    15  65.22\n",
       "9          EPL          INTERIM           AWAY   13    No-Bounce     8  61.54\n",
       "7   BUNDESLIGA        PERMANENT           HOME   26    No-Bounce    17  65.38\n",
       "4   BUNDESLIGA        PERMANENT           AWAY   21       Bounce    12  57.14\n",
       "5   BUNDESLIGA        PERMANENT           AWAY   21    No-Bounce     9  42.86"
      ]
     },
     "execution_count": 80,
     "metadata": {},
     "output_type": "execute_result"
    }
   ],
   "source": [
    "merged_prop[merged_prop['sum'] >= 10].groupby(['league']).head(3)"
   ]
  },
  {
   "cell_type": "code",
   "execution_count": 81,
   "metadata": {},
   "outputs": [
    {
     "data": {
      "text/html": [
       "<div>\n",
       "<style scoped>\n",
       "    .dataframe tbody tr th:only-of-type {\n",
       "        vertical-align: middle;\n",
       "    }\n",
       "\n",
       "    .dataframe tbody tr th {\n",
       "        vertical-align: top;\n",
       "    }\n",
       "\n",
       "    .dataframe thead th {\n",
       "        text-align: right;\n",
       "    }\n",
       "</style>\n",
       "<table border=\"1\" class=\"dataframe\">\n",
       "  <thead>\n",
       "    <tr style=\"text-align: right;\">\n",
       "      <th></th>\n",
       "      <th>league</th>\n",
       "      <th>new_manager_type</th>\n",
       "      <th>bounce_value</th>\n",
       "      <th>0</th>\n",
       "    </tr>\n",
       "  </thead>\n",
       "  <tbody>\n",
       "    <tr>\n",
       "      <th>0</th>\n",
       "      <td>BUNDESLIGA</td>\n",
       "      <td>INTERIM</td>\n",
       "      <td>Bounce</td>\n",
       "      <td>3</td>\n",
       "    </tr>\n",
       "    <tr>\n",
       "      <th>1</th>\n",
       "      <td>BUNDESLIGA</td>\n",
       "      <td>INTERIM</td>\n",
       "      <td>No-Bounce</td>\n",
       "      <td>8</td>\n",
       "    </tr>\n",
       "    <tr>\n",
       "      <th>2</th>\n",
       "      <td>BUNDESLIGA</td>\n",
       "      <td>PERMANENT</td>\n",
       "      <td>Bounce</td>\n",
       "      <td>21</td>\n",
       "    </tr>\n",
       "    <tr>\n",
       "      <th>3</th>\n",
       "      <td>BUNDESLIGA</td>\n",
       "      <td>PERMANENT</td>\n",
       "      <td>No-Bounce</td>\n",
       "      <td>26</td>\n",
       "    </tr>\n",
       "    <tr>\n",
       "      <th>4</th>\n",
       "      <td>EPL</td>\n",
       "      <td>INTERIM</td>\n",
       "      <td>Bounce</td>\n",
       "      <td>9</td>\n",
       "    </tr>\n",
       "    <tr>\n",
       "      <th>5</th>\n",
       "      <td>EPL</td>\n",
       "      <td>INTERIM</td>\n",
       "      <td>No-Bounce</td>\n",
       "      <td>13</td>\n",
       "    </tr>\n",
       "    <tr>\n",
       "      <th>6</th>\n",
       "      <td>EPL</td>\n",
       "      <td>PERMANENT</td>\n",
       "      <td>Bounce</td>\n",
       "      <td>26</td>\n",
       "    </tr>\n",
       "    <tr>\n",
       "      <th>7</th>\n",
       "      <td>EPL</td>\n",
       "      <td>PERMANENT</td>\n",
       "      <td>No-Bounce</td>\n",
       "      <td>23</td>\n",
       "    </tr>\n",
       "    <tr>\n",
       "      <th>8</th>\n",
       "      <td>LALIGA</td>\n",
       "      <td>INTERIM</td>\n",
       "      <td>Bounce</td>\n",
       "      <td>9</td>\n",
       "    </tr>\n",
       "    <tr>\n",
       "      <th>9</th>\n",
       "      <td>LALIGA</td>\n",
       "      <td>INTERIM</td>\n",
       "      <td>No-Bounce</td>\n",
       "      <td>7</td>\n",
       "    </tr>\n",
       "    <tr>\n",
       "      <th>10</th>\n",
       "      <td>LALIGA</td>\n",
       "      <td>PERMANENT</td>\n",
       "      <td>Bounce</td>\n",
       "      <td>25</td>\n",
       "    </tr>\n",
       "    <tr>\n",
       "      <th>11</th>\n",
       "      <td>LALIGA</td>\n",
       "      <td>PERMANENT</td>\n",
       "      <td>No-Bounce</td>\n",
       "      <td>32</td>\n",
       "    </tr>\n",
       "    <tr>\n",
       "      <th>12</th>\n",
       "      <td>LIGUE_1</td>\n",
       "      <td>INTERIM</td>\n",
       "      <td>Bounce</td>\n",
       "      <td>2</td>\n",
       "    </tr>\n",
       "    <tr>\n",
       "      <th>13</th>\n",
       "      <td>LIGUE_1</td>\n",
       "      <td>INTERIM</td>\n",
       "      <td>No-Bounce</td>\n",
       "      <td>8</td>\n",
       "    </tr>\n",
       "    <tr>\n",
       "      <th>14</th>\n",
       "      <td>LIGUE_1</td>\n",
       "      <td>PERMANENT</td>\n",
       "      <td>Bounce</td>\n",
       "      <td>22</td>\n",
       "    </tr>\n",
       "    <tr>\n",
       "      <th>15</th>\n",
       "      <td>LIGUE_1</td>\n",
       "      <td>PERMANENT</td>\n",
       "      <td>No-Bounce</td>\n",
       "      <td>28</td>\n",
       "    </tr>\n",
       "    <tr>\n",
       "      <th>16</th>\n",
       "      <td>SERIE_A</td>\n",
       "      <td>INTERIM</td>\n",
       "      <td>Bounce</td>\n",
       "      <td>5</td>\n",
       "    </tr>\n",
       "    <tr>\n",
       "      <th>17</th>\n",
       "      <td>SERIE_A</td>\n",
       "      <td>INTERIM</td>\n",
       "      <td>No-Bounce</td>\n",
       "      <td>5</td>\n",
       "    </tr>\n",
       "    <tr>\n",
       "      <th>18</th>\n",
       "      <td>SERIE_A</td>\n",
       "      <td>PERMANENT</td>\n",
       "      <td>Bounce</td>\n",
       "      <td>28</td>\n",
       "    </tr>\n",
       "    <tr>\n",
       "      <th>19</th>\n",
       "      <td>SERIE_A</td>\n",
       "      <td>PERMANENT</td>\n",
       "      <td>No-Bounce</td>\n",
       "      <td>28</td>\n",
       "    </tr>\n",
       "  </tbody>\n",
       "</table>\n",
       "</div>"
      ],
      "text/plain": [
       "        league new_manager_type bounce_value   0\n",
       "0   BUNDESLIGA          INTERIM       Bounce   3\n",
       "1   BUNDESLIGA          INTERIM    No-Bounce   8\n",
       "2   BUNDESLIGA        PERMANENT       Bounce  21\n",
       "3   BUNDESLIGA        PERMANENT    No-Bounce  26\n",
       "4          EPL          INTERIM       Bounce   9\n",
       "5          EPL          INTERIM    No-Bounce  13\n",
       "6          EPL        PERMANENT       Bounce  26\n",
       "7          EPL        PERMANENT    No-Bounce  23\n",
       "8       LALIGA          INTERIM       Bounce   9\n",
       "9       LALIGA          INTERIM    No-Bounce   7\n",
       "10      LALIGA        PERMANENT       Bounce  25\n",
       "11      LALIGA        PERMANENT    No-Bounce  32\n",
       "12     LIGUE_1          INTERIM       Bounce   2\n",
       "13     LIGUE_1          INTERIM    No-Bounce   8\n",
       "14     LIGUE_1        PERMANENT       Bounce  22\n",
       "15     LIGUE_1        PERMANENT    No-Bounce  28\n",
       "16     SERIE_A          INTERIM       Bounce   5\n",
       "17     SERIE_A          INTERIM    No-Bounce   5\n",
       "18     SERIE_A        PERMANENT       Bounce  28\n",
       "19     SERIE_A        PERMANENT    No-Bounce  28"
      ]
     },
     "execution_count": 81,
     "metadata": {},
     "output_type": "execute_result"
    }
   ],
   "source": [
    "bounce_short_df.groupby(['league', 'new_manager_type', 'bounce_value']).size().reset_index()"
   ]
  },
  {
   "cell_type": "code",
   "execution_count": 82,
   "metadata": {},
   "outputs": [],
   "source": [
    "bounce_short_df.to_csv('./data/bounce_data.csv', index=False)"
   ]
  },
  {
   "cell_type": "code",
   "execution_count": 83,
   "metadata": {},
   "outputs": [
    {
     "data": {
      "text/plain": [
       "Index(['name_new', 'name_old', 'home_wins_new', 'home_wins_old',\n",
       "       'away_wins_new', 'away_wins_old', 'home_draws_new', 'home_draws_old',\n",
       "       'away_draws_new', 'away_draws_old', 'home_loss_new', 'home_loss_old',\n",
       "       'away_loss_new', 'away_loss_old', 'team_old', 'team_new', 'league',\n",
       "       'new_manager_type', 'old_manager_type', 'start_date_new',\n",
       "       'start_date_old', 'wins_new', 'wins_old', 'draws_new', 'draws_old',\n",
       "       'loss_new', 'loss_old', 'first_bounce_effect', 'first_bounce_cause',\n",
       "       'match_location', 'year', 'bounce_effect', 'bounce_value'],\n",
       "      dtype='object')"
      ]
     },
     "execution_count": 83,
     "metadata": {},
     "output_type": "execute_result"
    }
   ],
   "source": [
    "bounce_short_df.columns"
   ]
  },
  {
   "cell_type": "code",
   "execution_count": 84,
   "metadata": {},
   "outputs": [],
   "source": [
    "all_bounce_df_first_match.to_csv('./data/all_bounce.csv', index=False)"
   ]
  },
  {
   "cell_type": "code",
   "execution_count": null,
   "metadata": {},
   "outputs": [],
   "source": []
  },
  {
   "cell_type": "code",
   "execution_count": null,
   "metadata": {},
   "outputs": [],
   "source": []
  },
  {
   "cell_type": "code",
   "execution_count": null,
   "metadata": {},
   "outputs": [],
   "source": []
  },
  {
   "cell_type": "code",
   "execution_count": null,
   "metadata": {},
   "outputs": [],
   "source": []
  },
  {
   "cell_type": "code",
   "execution_count": null,
   "metadata": {},
   "outputs": [],
   "source": []
  },
  {
   "cell_type": "code",
   "execution_count": null,
   "metadata": {},
   "outputs": [],
   "source": []
  },
  {
   "cell_type": "code",
   "execution_count": null,
   "metadata": {},
   "outputs": [],
   "source": []
  },
  {
   "cell_type": "code",
   "execution_count": null,
   "metadata": {},
   "outputs": [],
   "source": []
  },
  {
   "cell_type": "code",
   "execution_count": null,
   "metadata": {},
   "outputs": [],
   "source": []
  },
  {
   "cell_type": "code",
   "execution_count": null,
   "metadata": {},
   "outputs": [],
   "source": []
  },
  {
   "cell_type": "code",
   "execution_count": null,
   "metadata": {},
   "outputs": [],
   "source": []
  },
  {
   "cell_type": "code",
   "execution_count": null,
   "metadata": {},
   "outputs": [],
   "source": []
  },
  {
   "cell_type": "code",
   "execution_count": null,
   "metadata": {},
   "outputs": [],
   "source": []
  },
  {
   "cell_type": "code",
   "execution_count": null,
   "metadata": {},
   "outputs": [],
   "source": []
  },
  {
   "cell_type": "code",
   "execution_count": null,
   "metadata": {},
   "outputs": [],
   "source": []
  }
 ],
 "metadata": {
  "colab": {
   "provenance": []
  },
  "kernelspec": {
   "display_name": "Python 3 (ipykernel)",
   "language": "python",
   "name": "python3"
  },
  "language_info": {
   "codemirror_mode": {
    "name": "ipython",
    "version": 3
   },
   "file_extension": ".py",
   "mimetype": "text/x-python",
   "name": "python",
   "nbconvert_exporter": "python",
   "pygments_lexer": "ipython3",
   "version": "3.8.5"
  }
 },
 "nbformat": 4,
 "nbformat_minor": 1
}
