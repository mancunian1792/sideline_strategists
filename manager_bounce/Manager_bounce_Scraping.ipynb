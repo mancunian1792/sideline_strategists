{
 "cells": [
  {
   "cell_type": "markdown",
   "metadata": {
    "id": "DUerIt5oaMIq"
   },
   "source": [
    "### Get the fixtures and results of the big 5 european leagues for the last 5 years in the following data format\n",
    "| Match Date | Home Team | Away Team | Score | Result    | XG_Home | XG_Away | League | Year | match_report_url |\n",
    "|------------|-----------|-----------|-------|-----------|---------|---------|--------|------|------------------|\n",
    "| Date 1     | Team 1    | Team 2    | 1-1   | Draw      | 1.1     | 1.2     | EPL    | 2022 | url1             |\n",
    "| Date 2     | Team 2    | Team 3    | 2-0   | Team2-Win | 1.2     | 0.22    | EPL    | 2022 | url2             |\n",
    "|            |           |           |       |           |         |         |        |      |                  |"
   ]
  },
  {
   "cell_type": "code",
   "execution_count": null,
   "metadata": {
    "id": "iKeS9UEBfAqo"
   },
   "outputs": [],
   "source": [
    "import pandas as pd\n",
    "import numpy as np\n",
    "from bs4 import BeautifulSoup\n",
    "import requests\n",
    "from typing import Dict\n",
    "from tqdm import tqdm"
   ]
  },
  {
   "cell_type": "markdown",
   "metadata": {
    "id": "TTMZzjefh4HG"
   },
   "source": [
    "First, get the starting URL for all the 5 leagues.\n",
    "\n",
    "EPL = https://fbref.com/en/comps/9/schedule/Premier-League-Scores-and-Fixtures </br>\n",
    "Serie A = https://fbref.com/en/comps/11/schedule/Serie-A-Scores-and-Fixtures </br>\n",
    "LaLiga = https://fbref.com/en/comps/12/schedule/La-Liga-Scores-and-Fixtures </br>\n",
    "Bundesliga = https://fbref.com/en/comps/20/schedule/Bundesliga-Scores-and-Fixtures </br>\n",
    "Ligue 1 = https://fbref.com/en/comps/13/schedule/Ligue-1-Scores-and-Fixtures </br>\n",
    "\n",
    "\n",
    "Construct the URL for last 6 years. (2022-2023, 2021-2022, 2020-2021, 2019-2020, 2018-2019, 2017-2018) </br>\n",
    "For all the 5 leagues, we would have (6*5 = 30), 30 urls in total.\n"
   ]
  },
  {
   "cell_type": "code",
   "execution_count": null,
   "metadata": {
    "id": "AnCdDX-he4I6"
   },
   "outputs": [],
   "source": [
    "def create_url_configs(year:str):\n",
    "  # Use the year to construct a dictionary of url configs for all the stats.\n",
    "  config =  {\n",
    "    \"EPL\": \"https://fbref.com/en/comps/9/schedule/Premier-League-Scores-and-Fixtures\" if year is None else f\"https://fbref.com/en/comps/9/{year}/schedule/{year}-Premier-League-Scores-and-Fixtures\",\n",
    "    \"SERIE_A\": \"https://fbref.com/en/comps/11/schedule/Serie-A-Scores-and-Fixtures\" if year is None else f\"https://fbref.com/en/comps/11/{year}/schedule/{year}-Serie-A-Scores-and-Fixtures\",\n",
    "    \"LALIGA\": \"https://fbref.com/en/comps/12/schedule/La-Liga-Scores-and-Fixtures\" if year is None else f\"https://fbref.com/en/comps/12/{year}/schedule/{year}-La-Liga-Scores-and-Fixtures\",\n",
    "    \"BUNDESLIGA\": \"https://fbref.com/en/comps/20/schedule/Bundesliga-Scores-and-Fixtures\" if year is None else f\"https://fbref.com/en/comps/20/{year}/schedule/{year}-Bundesliga-Scores-and-Fixtures\",\n",
    "    \"LIGUE_1\": \"https://fbref.com/en/comps/13/schedule/Ligue-1-Scores-and-Fixtures\" if year is None else f\"https://fbref.com/en/comps/13/{year}/schedule/{year}-Ligue-1-Scores-and-Fixtures\",\n",
    "    }\n",
    "  return config"
   ]
  },
  {
   "cell_type": "markdown",
   "metadata": {
    "id": "y4lWRdE5iCTd"
   },
   "source": [
    "For each URL, writer a parser that would return the above dataframe."
   ]
  },
  {
   "cell_type": "code",
   "execution_count": null,
   "metadata": {
    "id": "cPdz-70Tieb2"
   },
   "outputs": [],
   "source": [
    "def parse_page(URL):\n",
    "    page = requests.get(URL)\n",
    "    soup = BeautifulSoup(page.content, 'html.parser')\n",
    "    #go to the first table of the page\n",
    "    table = soup.findAll('table')[0]\n",
    "\n",
    "    #list of all columns of the table & remove gamewee\n",
    "    features = [col.attrs[\"data-stat\"] for col in table.find('thead').findAll('tr')[0].findAll('th')]\n",
    "    features.remove(\"gameweek\")\n",
    "\n",
    "    #Parse table body\n",
    "    match_table = table.find('tbody')\n",
    "    pre_df_match = []\n",
    "    rows_match = match_table.find_all('tr')\n",
    "\n",
    "\n",
    "    for row in rows_match:\n",
    "        # avoid scraping spacer rows\n",
    "        if(\"class\" not in row.attrs):\n",
    "            data = [x.text.strip().encode().decode(\"utf-8\") for x in row.find_all('td')]\n",
    "\n",
    "            parsed = dict(zip(features, data))\n",
    "            parsed_removed = remove_features(parsed)\n",
    "\n",
    "            parsed_removed[\"match_report_url\"] = get_match_report_url(row)\n",
    "\n",
    "            pre_df_match.append(parsed_removed)\n",
    "\n",
    "\n",
    "    df_match = pd.DataFrame(pre_df_match, columns= pre_df_match[0].keys())\n",
    "    return df_match"
   ]
  },
  {
   "cell_type": "code",
   "execution_count": null,
   "metadata": {
    "id": "w-REtLPVwKnT"
   },
   "outputs": [],
   "source": [
    "def remove_features(row: Dict) -> Dict:\n",
    "  row = row.copy()\n",
    "  for stat in [\"dayofweek\", \"start_time\", \"attendance\", \"venue\", \"referee\", \"match_report\", \"notes\"]:\n",
    "    del row[stat]\n",
    "  return row"
   ]
  },
  {
   "cell_type": "code",
   "execution_count": null,
   "metadata": {
    "id": "Ocgs5xEkykfw"
   },
   "outputs": [],
   "source": [
    "def get_match_report_url(row):\n",
    "  report = [x for x in row.find_all(\"td\") if (\"data-stat\" in x.attrs) and (x.attrs[\"data-stat\"] == \"match_report\")]\n",
    "  if report is not None and len(report) == 1:\n",
    "    a_link = report[0].find('a')\n",
    "    if a_link is not None:\n",
    "      return \"https://fbref.com/\" + a_link.get('href')\n",
    "  return ''"
   ]
  },
  {
   "cell_type": "code",
   "execution_count": null,
   "metadata": {
    "id": "cV4dB0ub--fM"
   },
   "outputs": [],
   "source": [
    "def clean_manager_name(element):\n",
    "  manager_element = [x for x in element.find_all('div', class_='datapoint') if x.find('strong').text.lower() == \"manager\"]\n",
    "  if manager_element is not None and len(manager_element) == 1:\n",
    "    return ' '.join(manager_element[0].text.split(':')[1].strip().split('\\xa0'))\n",
    "  return ''"
   ]
  },
  {
   "cell_type": "code",
   "execution_count": null,
   "metadata": {
    "id": "QQmj1Kr2-_ht"
   },
   "outputs": [],
   "source": [
    "def parse_match_report_url(url):\n",
    "  page = requests.get(url)\n",
    "  soup = BeautifulSoup(page.content)\n",
    "  scorebox = soup.find('div', class_='scorebox')\n",
    "  all_divs = scorebox.findAll('div')\n",
    "\n",
    "  home_team = all_divs[0]\n",
    "  away_team = all_divs[10]\n",
    "  assert len(home_team.findAll('div')) == 9\n",
    "  assert len(away_team.findAll('div')) == 9\n",
    "  home_manager_name = clean_manager_name(home_team)\n",
    "  away_manager_name = clean_manager_name(away_team)\n",
    "  return {\n",
    "      \"url\": url,\n",
    "      \"home_manager\": home_manager_name,\n",
    "      \"away_manager\": away_manager_name\n",
    "  }"
   ]
  },
  {
   "cell_type": "markdown",
   "metadata": {
    "id": "lb2Gsddxsj9q"
   },
   "source": [
    "Once, done, just concatenate the dataframe and store it in a csv."
   ]
  },
  {
   "cell_type": "code",
   "execution_count": null,
   "metadata": {
    "colab": {
     "base_uri": "https://localhost:8080/"
    },
    "id": "0HpV2vrfslKl",
    "outputId": "b28f83a2-83ed-4fea-96e4-147fb5011ebe"
   },
   "outputs": [
    {
     "name": "stderr",
     "output_type": "stream",
     "text": [
      "100%|██████████| 6/6 [01:01<00:00, 10.20s/it]\n"
     ]
    }
   ],
   "source": [
    "all_years = [None, \"2021-2022\", \"2020-2021\", \"2019-2020\", \"2018-2019\", \"2017-2018\"]\n",
    "all_years_df = []\n",
    "for year in tqdm(all_years):\n",
    "  url_configs = create_url_configs(year)\n",
    "  for league in url_configs.keys():\n",
    "    league_year_url = url_configs[league]\n",
    "    df = parse_page(league_year_url)\n",
    "    df[\"league\"] = league\n",
    "    df[\"year\"] = \"CURRENT\" if year is None else year\n",
    "    all_years_df.append(df)\n",
    "full_df = pd.concat(all_years_df)\n",
    "full_df.to_csv('./big5_last_6_years_result.csv', index=False)"
   ]
  },
  {
   "cell_type": "code",
   "execution_count": null,
   "metadata": {
    "colab": {
     "base_uri": "https://localhost:8080/",
     "height": 206
    },
    "id": "6hoOtZTXKQ-e",
    "outputId": "4c66557b-bd2c-496b-c87f-62d3561f13d9"
   },
   "outputs": [
    {
     "data": {
      "text/html": [
       "\n",
       "  <div id=\"df-ec20f13d-2f04-45ca-b19e-65d471d9e406\">\n",
       "    <div class=\"colab-df-container\">\n",
       "      <div>\n",
       "<style scoped>\n",
       "    .dataframe tbody tr th:only-of-type {\n",
       "        vertical-align: middle;\n",
       "    }\n",
       "\n",
       "    .dataframe tbody tr th {\n",
       "        vertical-align: top;\n",
       "    }\n",
       "\n",
       "    .dataframe thead th {\n",
       "        text-align: right;\n",
       "    }\n",
       "</style>\n",
       "<table border=\"1\" class=\"dataframe\">\n",
       "  <thead>\n",
       "    <tr style=\"text-align: right;\">\n",
       "      <th></th>\n",
       "      <th>date</th>\n",
       "      <th>home_team</th>\n",
       "      <th>home_xg</th>\n",
       "      <th>score</th>\n",
       "      <th>away_xg</th>\n",
       "      <th>away_team</th>\n",
       "      <th>match_report_url</th>\n",
       "      <th>league</th>\n",
       "      <th>year</th>\n",
       "      <th>round</th>\n",
       "    </tr>\n",
       "  </thead>\n",
       "  <tbody>\n",
       "    <tr>\n",
       "      <th>307</th>\n",
       "      <td>2023-06-05</td>\n",
       "      <td>Hamburger SV</td>\n",
       "      <td></td>\n",
       "      <td>1–3</td>\n",
       "      <td></td>\n",
       "      <td>Stuttgart</td>\n",
       "      <td>https://fbref.com//en/matches/f9a47a86/Hamburg...</td>\n",
       "      <td>BUNDESLIGA</td>\n",
       "      <td>CURRENT</td>\n",
       "      <td></td>\n",
       "    </tr>\n",
       "    <tr>\n",
       "      <th>372</th>\n",
       "      <td>2023-06-04</td>\n",
       "      <td>Real Madrid</td>\n",
       "      <td>1.8</td>\n",
       "      <td>1–1</td>\n",
       "      <td>2.3</td>\n",
       "      <td>Athletic Club</td>\n",
       "      <td>https://fbref.com//en/matches/ce677ae3/Real-Ma...</td>\n",
       "      <td>LALIGA</td>\n",
       "      <td>CURRENT</td>\n",
       "      <td>NaN</td>\n",
       "    </tr>\n",
       "    <tr>\n",
       "      <th>379</th>\n",
       "      <td>2023-06-04</td>\n",
       "      <td>Espanyol</td>\n",
       "      <td>0.6</td>\n",
       "      <td>3–3</td>\n",
       "      <td>1.8</td>\n",
       "      <td>Almería</td>\n",
       "      <td>https://fbref.com//en/matches/9a77cbfa/Espanyo...</td>\n",
       "      <td>LALIGA</td>\n",
       "      <td>CURRENT</td>\n",
       "      <td>NaN</td>\n",
       "    </tr>\n",
       "    <tr>\n",
       "      <th>374</th>\n",
       "      <td>2023-06-04</td>\n",
       "      <td>Napoli</td>\n",
       "      <td>2.0</td>\n",
       "      <td>2–0</td>\n",
       "      <td>0.6</td>\n",
       "      <td>Sampdoria</td>\n",
       "      <td>https://fbref.com//en/matches/971ace55/Napoli-...</td>\n",
       "      <td>SERIE_A</td>\n",
       "      <td>CURRENT</td>\n",
       "      <td>NaN</td>\n",
       "    </tr>\n",
       "    <tr>\n",
       "      <th>375</th>\n",
       "      <td>2023-06-04</td>\n",
       "      <td>Atalanta</td>\n",
       "      <td>4.0</td>\n",
       "      <td>5–2</td>\n",
       "      <td>1.2</td>\n",
       "      <td>Monza</td>\n",
       "      <td>https://fbref.com//en/matches/08c664e0/Atalant...</td>\n",
       "      <td>SERIE_A</td>\n",
       "      <td>CURRENT</td>\n",
       "      <td>NaN</td>\n",
       "    </tr>\n",
       "  </tbody>\n",
       "</table>\n",
       "</div>\n",
       "      <button class=\"colab-df-convert\" onclick=\"convertToInteractive('df-ec20f13d-2f04-45ca-b19e-65d471d9e406')\"\n",
       "              title=\"Convert this dataframe to an interactive table.\"\n",
       "              style=\"display:none;\">\n",
       "        \n",
       "  <svg xmlns=\"http://www.w3.org/2000/svg\" height=\"24px\"viewBox=\"0 0 24 24\"\n",
       "       width=\"24px\">\n",
       "    <path d=\"M0 0h24v24H0V0z\" fill=\"none\"/>\n",
       "    <path d=\"M18.56 5.44l.94 2.06.94-2.06 2.06-.94-2.06-.94-.94-2.06-.94 2.06-2.06.94zm-11 1L8.5 8.5l.94-2.06 2.06-.94-2.06-.94L8.5 2.5l-.94 2.06-2.06.94zm10 10l.94 2.06.94-2.06 2.06-.94-2.06-.94-.94-2.06-.94 2.06-2.06.94z\"/><path d=\"M17.41 7.96l-1.37-1.37c-.4-.4-.92-.59-1.43-.59-.52 0-1.04.2-1.43.59L10.3 9.45l-7.72 7.72c-.78.78-.78 2.05 0 2.83L4 21.41c.39.39.9.59 1.41.59.51 0 1.02-.2 1.41-.59l7.78-7.78 2.81-2.81c.8-.78.8-2.07 0-2.86zM5.41 20L4 18.59l7.72-7.72 1.47 1.35L5.41 20z\"/>\n",
       "  </svg>\n",
       "      </button>\n",
       "      \n",
       "  <style>\n",
       "    .colab-df-container {\n",
       "      display:flex;\n",
       "      flex-wrap:wrap;\n",
       "      gap: 12px;\n",
       "    }\n",
       "\n",
       "    .colab-df-convert {\n",
       "      background-color: #E8F0FE;\n",
       "      border: none;\n",
       "      border-radius: 50%;\n",
       "      cursor: pointer;\n",
       "      display: none;\n",
       "      fill: #1967D2;\n",
       "      height: 32px;\n",
       "      padding: 0 0 0 0;\n",
       "      width: 32px;\n",
       "    }\n",
       "\n",
       "    .colab-df-convert:hover {\n",
       "      background-color: #E2EBFA;\n",
       "      box-shadow: 0px 1px 2px rgba(60, 64, 67, 0.3), 0px 1px 3px 1px rgba(60, 64, 67, 0.15);\n",
       "      fill: #174EA6;\n",
       "    }\n",
       "\n",
       "    [theme=dark] .colab-df-convert {\n",
       "      background-color: #3B4455;\n",
       "      fill: #D2E3FC;\n",
       "    }\n",
       "\n",
       "    [theme=dark] .colab-df-convert:hover {\n",
       "      background-color: #434B5C;\n",
       "      box-shadow: 0px 1px 3px 1px rgba(0, 0, 0, 0.15);\n",
       "      filter: drop-shadow(0px 1px 2px rgba(0, 0, 0, 0.3));\n",
       "      fill: #FFFFFF;\n",
       "    }\n",
       "  </style>\n",
       "\n",
       "      <script>\n",
       "        const buttonEl =\n",
       "          document.querySelector('#df-ec20f13d-2f04-45ca-b19e-65d471d9e406 button.colab-df-convert');\n",
       "        buttonEl.style.display =\n",
       "          google.colab.kernel.accessAllowed ? 'block' : 'none';\n",
       "\n",
       "        async function convertToInteractive(key) {\n",
       "          const element = document.querySelector('#df-ec20f13d-2f04-45ca-b19e-65d471d9e406');\n",
       "          const dataTable =\n",
       "            await google.colab.kernel.invokeFunction('convertToInteractive',\n",
       "                                                     [key], {});\n",
       "          if (!dataTable) return;\n",
       "\n",
       "          const docLinkHtml = 'Like what you see? Visit the ' +\n",
       "            '<a target=\"_blank\" href=https://colab.research.google.com/notebooks/data_table.ipynb>data table notebook</a>'\n",
       "            + ' to learn more about interactive tables.';\n",
       "          element.innerHTML = '';\n",
       "          dataTable['output_type'] = 'display_data';\n",
       "          await google.colab.output.renderOutput(dataTable, element);\n",
       "          const docLink = document.createElement('div');\n",
       "          docLink.innerHTML = docLinkHtml;\n",
       "          element.appendChild(docLink);\n",
       "        }\n",
       "      </script>\n",
       "    </div>\n",
       "  </div>\n",
       "  "
      ],
      "text/plain": [
       "           date     home_team home_xg score away_xg      away_team  \\\n",
       "307  2023-06-05  Hamburger SV           1–3              Stuttgart   \n",
       "372  2023-06-04   Real Madrid     1.8   1–1     2.3  Athletic Club   \n",
       "379  2023-06-04      Espanyol     0.6   3–3     1.8        Almería   \n",
       "374  2023-06-04        Napoli     2.0   2–0     0.6      Sampdoria   \n",
       "375  2023-06-04      Atalanta     4.0   5–2     1.2          Monza   \n",
       "\n",
       "                                      match_report_url      league     year  \\\n",
       "307  https://fbref.com//en/matches/f9a47a86/Hamburg...  BUNDESLIGA  CURRENT   \n",
       "372  https://fbref.com//en/matches/ce677ae3/Real-Ma...      LALIGA  CURRENT   \n",
       "379  https://fbref.com//en/matches/9a77cbfa/Espanyo...      LALIGA  CURRENT   \n",
       "374  https://fbref.com//en/matches/971ace55/Napoli-...     SERIE_A  CURRENT   \n",
       "375  https://fbref.com//en/matches/08c664e0/Atalant...     SERIE_A  CURRENT   \n",
       "\n",
       "    round  \n",
       "307        \n",
       "372   NaN  \n",
       "379   NaN  \n",
       "374   NaN  \n",
       "375   NaN  "
      ]
     },
     "execution_count": 10,
     "metadata": {},
     "output_type": "execute_result"
    }
   ],
   "source": [
    "full_df.sort_values(['date'], ascending=False).head()"
   ]
  },
  {
   "cell_type": "markdown",
   "metadata": {
    "id": "eAz4Z1XM_JFx"
   },
   "source": [
    "### Use the match report urls to get the manager names and other details if needed."
   ]
  },
  {
   "cell_type": "code",
   "execution_count": null,
   "metadata": {
    "id": "5pEfEFoAETu4"
   },
   "outputs": [],
   "source": [
    "import os\n",
    "manager_df_partial = pd.read_csv('./manager_df_partial.csv') if 'manager_df_partial.csv' in os.listdir('./') else None\n",
    "existing_match_reports = list(manager_df_partial['url']) if manager_df_partial is not None else []"
   ]
  },
  {
   "cell_type": "code",
   "execution_count": null,
   "metadata": {
    "id": "-Nij7MV4M---"
   },
   "outputs": [],
   "source": [
    "urls_to_process = set(full_df['match_report_url']).difference(set(existing_match_reports))"
   ]
  },
  {
   "cell_type": "code",
   "execution_count": null,
   "metadata": {
    "colab": {
     "base_uri": "https://localhost:8080/"
    },
    "id": "7-Icrkdr_P2j",
    "outputId": "81c9728f-2156-4de1-b00b-6277e07ca204"
   },
   "outputs": [
    {
     "name": "stderr",
     "output_type": "stream",
     "text": [
      " 52%|█████▏    | 14/27 [00:55<00:41,  3.22s/it]"
     ]
    },
    {
     "name": "stdout",
     "output_type": "stream",
     "text": [
      "Error processing https://fbref.com//en/matches/f9a47a86/Hamburger-SV-Stuttgart-June-5-2023-German-12-RelegationPromotion-Play-offs\n"
     ]
    },
    {
     "name": "stderr",
     "output_type": "stream",
     "text": [
      " 96%|█████████▋| 26/27 [01:44<00:03,  3.10s/it]"
     ]
    },
    {
     "name": "stdout",
     "output_type": "stream",
     "text": [
      "Error processing https://fbref.com//en/matches/2c791569/Stuttgart-Hamburger-SV-June-1-2023-German-12-RelegationPromotion-Play-offs\n"
     ]
    },
    {
     "name": "stderr",
     "output_type": "stream",
     "text": [
      "100%|██████████| 27/27 [01:47<00:00,  3.99s/it]\n"
     ]
    }
   ],
   "source": [
    "from time import sleep\n",
    "manager_names = []\n",
    "for url in tqdm(urls_to_process):\n",
    "  try:\n",
    "    if url is not None and url!= '':\n",
    "      if url.strip() in list(existing_match_reports):\n",
    "        manager_names.append(manager_df_partial[manager_df_partial.url == url].to_dict())\n",
    "      else:\n",
    "        manager_names.append(parse_match_report_url(url))\n",
    "        sleep(3)\n",
    "  except Exception as e:\n",
    "    print(f'Error processing {url}')\n"
   ]
  },
  {
   "cell_type": "code",
   "execution_count": null,
   "metadata": {
    "id": "t1TWg-U0_TBK"
   },
   "outputs": [],
   "source": [
    "unprocessed_df = pd.DataFrame(manager_names, columns = manager_names[0].keys())\n",
    "manager_df = pd.concat([manager_df_partial, unprocessed_df])\n",
    "manager_df.to_csv('./manager_df_full.csv', index=False)"
   ]
  },
  {
   "cell_type": "code",
   "execution_count": null,
   "metadata": {
    "id": "XMXtYDRBjrcZ"
   },
   "outputs": [],
   "source": []
  }
 ],
 "metadata": {
  "colab": {
   "provenance": []
  },
  "kernelspec": {
   "display_name": "Python 3 (ipykernel)",
   "language": "python",
   "name": "python3"
  },
  "language_info": {
   "codemirror_mode": {
    "name": "ipython",
    "version": 3
   },
   "file_extension": ".py",
   "mimetype": "text/x-python",
   "name": "python",
   "nbconvert_exporter": "python",
   "pygments_lexer": "ipython3",
   "version": "3.8.5"
  }
 },
 "nbformat": 4,
 "nbformat_minor": 1
}
